{
 "cells": [
  {
   "cell_type": "code",
   "execution_count": 1,
   "id": "d25d329b",
   "metadata": {},
   "outputs": [
    {
     "data": {
      "text/plain": [
       "'\\nF. Хорошие строки\\nНазовем строку хорошей, если в ней нет двух соседних букв, которые различаются только регистром. \\nНапример, строка «abba» хорошая, а строка «aBba» нет. \\nСо строкой можно делать преобразование: если два соседних символа обозначают одну и ту же букву, \\nно записаны в разных регистрах, то их можно удалить. При этом строка «схлопнется», то есть пробелов при удалении не образуется.\\nЦепочкой таких преобразований можно превратить любую строку в хорошую. По заданной строке найдите хорошую строку, \\nв которую ее можно превратить. Вы можете воспользоваться заготовками кода для данной задачи из репозитория курса.\\n\\nФормат ввода\\nНа вход подаётся строка, состоящая из больших и маленьких латинских букв. Длина строки не превосходит 10**5.\\nФормат вывода\\nВыведите хорошую строку, в которую можно превратить данную.\\n\\nПример 1\\nВвод\\nvxOoOoVvx\\nВывод\\nvxx\\n\\nПример 2\\nВвод\\nabBa\\nВывод\\naa\\n\\nПример 3\\nВвод\\nAbBa\\nВывод\\n\\n'"
      ]
     },
     "execution_count": 1,
     "metadata": {},
     "output_type": "execute_result"
    }
   ],
   "source": [
    "\"\"\"\n",
    "F. Хорошие строки\n",
    "Назовем строку хорошей, если в ней нет двух соседних букв, которые различаются только регистром. \n",
    "Например, строка «abba» хорошая, а строка «aBba» нет. \n",
    "Со строкой можно делать преобразование: если два соседних символа обозначают одну и ту же букву, \n",
    "но записаны в разных регистрах, то их можно удалить. При этом строка «схлопнется», то есть пробелов при удалении не образуется.\n",
    "Цепочкой таких преобразований можно превратить любую строку в хорошую. По заданной строке найдите хорошую строку, \n",
    "в которую ее можно превратить. Вы можете воспользоваться заготовками кода для данной задачи из репозитория курса.\n",
    "\n",
    "Формат ввода\n",
    "На вход подаётся строка, состоящая из больших и маленьких латинских букв. Длина строки не превосходит 10**5.\n",
    "Формат вывода\n",
    "Выведите хорошую строку, в которую можно превратить данную.\n",
    "\n",
    "Пример 1\n",
    "Ввод\n",
    "vxOoOoVvx\n",
    "Вывод\n",
    "vxx\n",
    "\n",
    "Пример 2\n",
    "Ввод\n",
    "abBa\n",
    "Вывод\n",
    "aa\n",
    "\n",
    "Пример 3\n",
    "Ввод\n",
    "AbBa\n",
    "Вывод\n",
    "\n",
    "\"\"\""
   ]
  },
  {
   "cell_type": "code",
   "execution_count": null,
   "id": "122a823f",
   "metadata": {},
   "outputs": [],
   "source": [
    "\"\"\"\n",
    "будем проходить по строке со второго элемента и сравнивать его с пердыдущим. Если окажется что они отличаются регистром, \n",
    "то создадим новую строку удалив из нее найденную пару и будем проверять для нее то же самое рекурсивно. \n",
    "для проверки будем использовать метод str.lower().\n",
    "\"\"\""
   ]
  },
  {
   "cell_type": "code",
   "execution_count": null,
   "id": "c93bbe09",
   "metadata": {},
   "outputs": [],
   "source": []
  },
  {
   "cell_type": "code",
   "execution_count": 5,
   "id": "2eac68f9",
   "metadata": {},
   "outputs": [],
   "source": [
    "def convert_to_good_string(probably_bad_string: str) -> str:\n",
    "    \n",
    "    pbs = probably_bad_string\n",
    "    \n",
    "    for i in range(1, len(pbs)):\n",
    "        if pbs[i] != pbs[i-1] and pbs[i].lower() == pbs[i-1].lower():\n",
    "            return convert_to_good_string(pbs[:i-1] + pbs[i+1:])\n",
    "        \n",
    "    return pbs"
   ]
  },
  {
   "cell_type": "code",
   "execution_count": 6,
   "id": "f5961050",
   "metadata": {},
   "outputs": [],
   "source": [
    "cases = [\n",
    "\"\"\"\n",
    "vxOoOoVvx\n",
    "vxx\n",
    "\"\"\"\n",
    ",\n",
    "\"\"\"\n",
    "abBa\n",
    "aa\n",
    "\"\"\"\n",
    ",\n",
    "\"\"\"\n",
    "AbBa\n",
    "\n",
    "\"\"\"\n",
    "]"
   ]
  },
  {
   "cell_type": "code",
   "execution_count": 7,
   "id": "1a041b5c",
   "metadata": {},
   "outputs": [],
   "source": [
    "class tester:\n",
    "    \n",
    "    def test_all(self, cases, f):\n",
    "        for i, case in enumerate(cases):\n",
    "            print('case', i+1)\n",
    "            self.test(case, f)        \n",
    "    \n",
    "    def test(self, case, f):\n",
    "        try:\n",
    "            lines = case.split(\"\\n\")[1:-1]\n",
    "            inp = lines[0]\n",
    "            outp = lines[1]\n",
    "\n",
    "            if f(inp) == outp:\n",
    "                print('pass')\n",
    "            else:\n",
    "                print('fail')\n",
    "        except e:\n",
    "            print(e)"
   ]
  },
  {
   "cell_type": "code",
   "execution_count": null,
   "id": "fac77f92",
   "metadata": {},
   "outputs": [],
   "source": []
  },
  {
   "cell_type": "code",
   "execution_count": 8,
   "id": "6b976288",
   "metadata": {},
   "outputs": [
    {
     "name": "stdout",
     "output_type": "stream",
     "text": [
      "case 1\n",
      "pass\n",
      "case 2\n",
      "pass\n",
      "case 3\n",
      "pass\n"
     ]
    }
   ],
   "source": [
    "t=tester()\n",
    "t.test_all(cases, convert_to_good_string)"
   ]
  },
  {
   "cell_type": "code",
   "execution_count": 24,
   "id": "bdfc3202",
   "metadata": {},
   "outputs": [
    {
     "data": {
      "text/plain": [
       "'\\nрешим эту задачу без использования рекурсии. будем проходить по строке И сохранять то что прошли в строке gs.  и сравнивать его с пердыдущим. \\nЕсли окажется что они отличаются регистром, то создадим новую строку удалив из нее найденную пару и будем проверять для нее то же самое рекурсивно. \\nдля проверки будем использовать метод str.lower().\\n'"
      ]
     },
     "execution_count": 24,
     "metadata": {},
     "output_type": "execute_result"
    }
   ],
   "source": [
    "\"\"\"\n",
    "решим эту задачу без использования рекурсии. будем проходить по строке И сохранять то что прошли в массиве символов gs. \n",
    "Будем использовать именно массив, так как строковый тип в Python является неизменяемым, а нам понадобится делать изменение.\n",
    "Начиная со второго элемента будем сравнивать его с пердыдущим. Если окажется что они отличаются регистром, \n",
    "то удалим из gs последний элемент, а если нет, то добавим этот элемент в gs. Для проверки будем использовать метод str.lower(). \n",
    "В результате соберем из gs строку.\n",
    "\"\"\""
   ]
  },
  {
   "cell_type": "code",
   "execution_count": 26,
   "id": "7c31355c",
   "metadata": {},
   "outputs": [],
   "source": [
    "def convert_to_good_string(probably_bad_string: str) -> str:\n",
    "    \n",
    "    pbs = probably_bad_string\n",
    "    \n",
    "    gs = []\n",
    "    \n",
    "    for i in range(len(pbs)):\n",
    "        if len(gs) > 0:\n",
    "            if pbs[i] != gs[-1] and pbs[i].lower() == gs[-1].lower():\n",
    "                gs.pop()\n",
    "            else:\n",
    "                gs.append(pbs[i])\n",
    "        else:\n",
    "            gs.append(pbs[i])\n",
    "        \n",
    "    return ''.join(gs)"
   ]
  },
  {
   "cell_type": "code",
   "execution_count": 27,
   "id": "35e71163",
   "metadata": {},
   "outputs": [
    {
     "name": "stdout",
     "output_type": "stream",
     "text": [
      "case 1\n",
      "pass\n",
      "case 2\n",
      "pass\n",
      "case 3\n",
      "pass\n"
     ]
    }
   ],
   "source": [
    "t.test_all(cases, convert_to_good_string)"
   ]
  },
  {
   "cell_type": "code",
   "execution_count": null,
   "id": "5d11e8f3",
   "metadata": {},
   "outputs": [],
   "source": []
  }
 ],
 "metadata": {
  "kernelspec": {
   "display_name": "Python 3 (ipykernel)",
   "language": "python",
   "name": "python3"
  },
  "language_info": {
   "codemirror_mode": {
    "name": "ipython",
    "version": 3
   },
   "file_extension": ".py",
   "mimetype": "text/x-python",
   "name": "python",
   "nbconvert_exporter": "python",
   "pygments_lexer": "ipython3",
   "version": "3.10.5"
  }
 },
 "nbformat": 4,
 "nbformat_minor": 5
}
