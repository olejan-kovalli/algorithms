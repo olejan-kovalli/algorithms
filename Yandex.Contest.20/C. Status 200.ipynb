{
 "cells": [
  {
   "cell_type": "markdown",
   "id": "a37deab4-ff71-4ad9-b126-7562f3d550de",
   "metadata": {},
   "source": [
    "<h1>Статус 200</h1>"
   ]
  },
  {
   "cell_type": "raw",
   "id": "1beac912-7e3f-4d37-a0d0-6e1158cfb442",
   "metadata": {},
   "source": [
    "Вам дан массив натуральных чисел a[i]. Найдите число таких пар элементов (a[i], a[j]), где ∣a[i] − a[j]∣ % 200 == 0 и i<j.\n",
    "\n",
    "Формат ввода\n",
    "В первой строке дан размер массива n (1≤n≤200000).\n",
    "Во второй строке через пробел записаны элементы массива a[i] (1≤a[i]≤10**9).\n",
    "\n",
    "Формат вывода\n",
    "Выведите единственное число — количество пар, подходящих под указанное выше условие.\n",
    "\n",
    "Пример 1\n",
    "Ввод\n",
    "5\n",
    "203 404 204 200 403\n",
    "Вывод\n",
    "2\n",
    "\n",
    "Пример 2\n",
    "Ввод\n",
    "1\n",
    "1000000\n",
    "Вывод\n",
    "0\n",
    "\n",
    "Пример 3\n",
    "Ввод\n",
    "3\n",
    "2022 2020 2021\n",
    "Вывод\n",
    "0"
   ]
  },
  {
   "cell_type": "markdown",
   "id": "8169e40b-441d-4d97-8f71-048d36cab171",
   "metadata": {},
   "source": [
    "<h2>Решение</h2>"
   ]
  },
  {
   "cell_type": "raw",
   "id": "23abe751-86b5-440a-849d-fc83735e1949",
   "metadata": {},
   "source": [
    "Сначала напишем наивный алгоритм, где будем перебирать все указанные пары. Его сложность O(N**2)"
   ]
  },
  {
   "cell_type": "code",
   "execution_count": 2,
   "id": "1cf38eb1",
   "metadata": {},
   "outputs": [],
   "source": [
    "def get_number_of_good_pairs(numbers) -> int:\n",
    "    num_pairs = 0\n",
    "    a = numbers\n",
    "    \n",
    "    for i in range(len(a)-1):\n",
    "        for j in range(i+1, len(a)):\n",
    "            if abs(a[i] - a[j]) == 200:\n",
    "                num_pairs += 1\n",
    "    \n",
    "    return num_pairs"
   ]
  },
  {
   "cell_type": "code",
   "execution_count": 1,
   "id": "32431fbb",
   "metadata": {},
   "outputs": [],
   "source": [
    "cases = [\n",
    "\"\"\"\n",
    "5\n",
    "203 404 204 200 403\n",
    "\n",
    "2\n",
    "\"\"\"\n",
    ",\n",
    "\"\"\"\n",
    "1\n",
    "1000000\n",
    "\n",
    "0\n",
    "\"\"\"\n",
    ",\n",
    "\"\"\"\n",
    "3\n",
    "2022 2020 2021\n",
    "\n",
    "0\n",
    "\"\"\"\n",
    "]"
   ]
  },
  {
   "cell_type": "code",
   "execution_count": null,
   "id": "7311f1a9-7581-4c97-973b-9890b39197ad",
   "metadata": {},
   "outputs": [],
   "source": []
  },
  {
   "cell_type": "code",
   "execution_count": 3,
   "id": "628acd62",
   "metadata": {},
   "outputs": [],
   "source": [
    "def test(case):\n",
    "    inp = case.split('\\n')[1:-2]\n",
    "    n = int(inp[0])\n",
    "    numbers = list(map(int, inp[1].split()))\n",
    "    print(get_number_of_good_pairs(numbers))"
   ]
  },
  {
   "cell_type": "code",
   "execution_count": null,
   "id": "b4592d92-122f-4eba-818c-a315776724c2",
   "metadata": {},
   "outputs": [],
   "source": []
  },
  {
   "cell_type": "code",
   "execution_count": 4,
   "id": "8c0b634c",
   "metadata": {},
   "outputs": [
    {
     "name": "stdout",
     "output_type": "stream",
     "text": [
      "2\n"
     ]
    }
   ],
   "source": [
    "test(cases[0])"
   ]
  },
  {
   "cell_type": "code",
   "execution_count": 5,
   "id": "dd6ce332",
   "metadata": {},
   "outputs": [
    {
     "name": "stdout",
     "output_type": "stream",
     "text": [
      "0\n"
     ]
    }
   ],
   "source": [
    "test(cases[1])"
   ]
  },
  {
   "cell_type": "code",
   "execution_count": 6,
   "id": "18efd517",
   "metadata": {},
   "outputs": [
    {
     "name": "stdout",
     "output_type": "stream",
     "text": [
      "0\n"
     ]
    }
   ],
   "source": [
    "test(cases[2])"
   ]
  },
  {
   "cell_type": "code",
   "execution_count": 7,
   "id": "ce18021d-7cf1-4383-b274-2b406b607c3d",
   "metadata": {},
   "outputs": [],
   "source": [
    "import random\n",
    "\n",
    "def make_big_case(n):\n",
    "    a = [str(random.randint(0, 1000)) for _ in range(n)]\n",
    "    return  (\n",
    "        '\\n' +\n",
    "        str(n) + '\\n' + \n",
    "        ' '.join(a) + '\\n\\n'\n",
    "        )"
   ]
  },
  {
   "cell_type": "code",
   "execution_count": 8,
   "id": "e167fa25-9d17-46cb-84e2-32e6f19ca533",
   "metadata": {},
   "outputs": [],
   "source": [
    "import time\n",
    "def test_big_case(case):\n",
    "    start = time.process_time()\n",
    "    test(case)\n",
    "    print('%0.2f sec' % ( time.process_time() - start))"
   ]
  },
  {
   "cell_type": "code",
   "execution_count": 9,
   "id": "946487d3-57c5-41fb-98d7-34787d2ee388",
   "metadata": {},
   "outputs": [],
   "source": [
    "n = 10_000\n",
    "big_case_1 = make_big_case(n)\n",
    "big_case_2 = make_big_case(2*n)"
   ]
  },
  {
   "cell_type": "code",
   "execution_count": 10,
   "id": "328e3c53-6469-4beb-b7d8-4f44fa546a88",
   "metadata": {},
   "outputs": [
    {
     "name": "stdout",
     "output_type": "stream",
     "text": [
      "80158\n",
      "4.08 sec\n",
      "320883\n",
      "16.36 sec\n"
     ]
    }
   ],
   "source": [
    "test_big_case(big_case_1)\n",
    "test_big_case(big_case_2)"
   ]
  },
  {
   "cell_type": "raw",
   "id": "6bae5336-f033-494c-9b38-041c93398faf",
   "metadata": {},
   "source": [
    "Теперь попробуем учесть тот факт, что у элементов таких пар будет одинаковый остаток от деления на 200.\n",
    "Построим массив с остатками от деления на 200. Теперь для каждого уникального значения найдем сколько элементов с ним есть.\n",
    "Если таких значений 2 - то пара одна, если 3 - то еще плюс две пары, если 4 - то еще плюс три пары и т. д.\n",
    "\n",
    "Теперь сложность линейная - O(N)."
   ]
  },
  {
   "cell_type": "code",
   "execution_count": 11,
   "id": "141966e3",
   "metadata": {},
   "outputs": [],
   "source": [
    "def get_number_of_good_pairs(numbers) -> int:\n",
    "    num_pairs = 0\n",
    "    \n",
    "    a = numbers\n",
    "    a_rem_200 = list(map(lambda x: x % 200, a))\n",
    "    \n",
    "    rems_count = {}\n",
    "    for uniq_rem in a_rem_200:\n",
    "        if uniq_rem not in rems_count:\n",
    "            rems_count[uniq_rem] = 1\n",
    "        else:\n",
    "            num_pairs += rems_count[uniq_rem]\n",
    "            rems_count[uniq_rem] += 1\n",
    "            \n",
    "    return num_pairs"
   ]
  },
  {
   "cell_type": "code",
   "execution_count": 12,
   "id": "8ef4effd",
   "metadata": {},
   "outputs": [
    {
     "name": "stdout",
     "output_type": "stream",
     "text": [
      "2\n"
     ]
    }
   ],
   "source": [
    "test(cases[0])"
   ]
  },
  {
   "cell_type": "code",
   "execution_count": 13,
   "id": "fe85df72",
   "metadata": {},
   "outputs": [
    {
     "name": "stdout",
     "output_type": "stream",
     "text": [
      "0\n"
     ]
    }
   ],
   "source": [
    "test(cases[1])"
   ]
  },
  {
   "cell_type": "code",
   "execution_count": 14,
   "id": "06c8bbaf",
   "metadata": {},
   "outputs": [
    {
     "name": "stdout",
     "output_type": "stream",
     "text": [
      "0\n"
     ]
    }
   ],
   "source": [
    "test(cases[2])"
   ]
  },
  {
   "cell_type": "code",
   "execution_count": 15,
   "id": "121eaaa6",
   "metadata": {},
   "outputs": [
    {
     "name": "stdout",
     "output_type": "stream",
     "text": [
      "251033\n",
      "0.00 sec\n",
      "998818\n",
      "0.02 sec\n"
     ]
    }
   ],
   "source": [
    "test_big_case(big_case_1)\n",
    "test_big_case(big_case_2)"
   ]
  },
  {
   "cell_type": "code",
   "execution_count": 16,
   "id": "e50da172-296c-4b55-b48e-9ea14da48cdf",
   "metadata": {},
   "outputs": [],
   "source": [
    "n = 1_000_000\n",
    "big_case_1 = make_big_case(n)\n",
    "big_case_2 = make_big_case(2*n)"
   ]
  },
  {
   "cell_type": "code",
   "execution_count": 17,
   "id": "d6bff202-1e29-4a22-879c-d445afbb0f34",
   "metadata": {},
   "outputs": [
    {
     "name": "stdout",
     "output_type": "stream",
     "text": [
      "2500539874\n",
      "0.34 sec\n",
      "10001578718\n",
      "0.61 sec\n"
     ]
    }
   ],
   "source": [
    "test_big_case(big_case_1)\n",
    "test_big_case(big_case_2)"
   ]
  },
  {
   "cell_type": "code",
   "execution_count": null,
   "id": "8be015ff-ae2a-4320-9ce2-93427e345e79",
   "metadata": {},
   "outputs": [],
   "source": []
  },
  {
   "cell_type": "code",
   "execution_count": null,
   "id": "1db6b874-8be7-467c-ba14-0ba7487d654d",
   "metadata": {},
   "outputs": [],
   "source": []
  },
  {
   "cell_type": "code",
   "execution_count": null,
   "id": "2f54a323-73ac-4098-bac2-cc7b35f2c697",
   "metadata": {},
   "outputs": [],
   "source": []
  }
 ],
 "metadata": {
  "kernelspec": {
   "display_name": "Python 3 (ipykernel)",
   "language": "python",
   "name": "python3"
  },
  "language_info": {
   "codemirror_mode": {
    "name": "ipython",
    "version": 3
   },
   "file_extension": ".py",
   "mimetype": "text/x-python",
   "name": "python",
   "nbconvert_exporter": "python",
   "pygments_lexer": "ipython3",
   "version": "3.10.11"
  }
 },
 "nbformat": 4,
 "nbformat_minor": 5
}
