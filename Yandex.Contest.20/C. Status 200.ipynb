{
 "cells": [
  {
   "cell_type": "code",
   "execution_count": null,
   "id": "780fc71d",
   "metadata": {},
   "outputs": [],
   "source": [
    "\"\"\"\n",
    "Вам дан массив натуральных чисел a[i]. Найдите число таких пар элементов (a[i], a[j]), где ∣a[i] − a[j]∣ % 200 == 0 и i < j.\n",
    "Вы можете воспользоваться заготовками кода для данной задачи из репозитория курса.\n",
    "\n",
    "Формат ввода\n",
    "В первой строке дан размер массива n (1≤n≤200000).\n",
    "Во второй строке через пробел записаны элементы массива a[i] (1≤a[i]≤10**9).\n",
    "\n",
    "Формат вывода\n",
    "Выведите единственное число — количество пар, подходящих под указанное выше условие.\n",
    "\"\"\""
   ]
  },
  {
   "cell_type": "code",
   "execution_count": null,
   "id": "838c30c2",
   "metadata": {},
   "outputs": [],
   "source": [
    "\"\"\"\n",
    "Пример 1\n",
    "Ввод\n",
    "5\n",
    "203 404 204 200 403\n",
    "Вывод\n",
    "2\n",
    "\n",
    "Пример 2\n",
    "Ввод\n",
    "1\n",
    "1000000\n",
    "Вывод\n",
    "0\n",
    "Пример 3\n",
    "Ввод\n",
    "3\n",
    "2022 2020 2021\n",
    "Вывод\n",
    "0\n",
    "\"\"\""
   ]
  },
  {
   "cell_type": "code",
   "execution_count": null,
   "id": "c8e644a1",
   "metadata": {},
   "outputs": [],
   "source": [
    "\"\"\"\n",
    "Сначала напишем наивный алгоритм где будем перебирать все указанные пары. Его сложность O(N*logN)\n",
    "\"\"\""
   ]
  },
  {
   "cell_type": "code",
   "execution_count": 2,
   "id": "1cf38eb1",
   "metadata": {},
   "outputs": [],
   "source": [
    "def get_number_of_good_pairs(numbers) -> int:\n",
    "    num_pairs = 0\n",
    "    a = numbers\n",
    "    \n",
    "    for i in range(len(a)-1):\n",
    "        for j in range(i+1, len(a)):\n",
    "            if abs(a[i] - a[j]) == 200:\n",
    "                num_pairs += 1\n",
    "    \n",
    "    return num_pairs"
   ]
  },
  {
   "cell_type": "code",
   "execution_count": 1,
   "id": "628acd62",
   "metadata": {},
   "outputs": [],
   "source": [
    "def test(inp):\n",
    "    inp = inp.split('\\n')[1:-1]\n",
    "    n = int(inp[0])\n",
    "    numbers = list(map(int, inp[1].split()))\n",
    "    print(get_number_of_good_pairs(numbers))"
   ]
  },
  {
   "cell_type": "code",
   "execution_count": 3,
   "id": "32431fbb",
   "metadata": {},
   "outputs": [],
   "source": [
    "inp = \"\"\"\n",
    "5\n",
    "203 404 204 200 403\n",
    "\"\"\""
   ]
  },
  {
   "cell_type": "code",
   "execution_count": 4,
   "id": "8c0b634c",
   "metadata": {},
   "outputs": [
    {
     "name": "stdout",
     "output_type": "stream",
     "text": [
      "2\n"
     ]
    }
   ],
   "source": [
    "test(inp)"
   ]
  },
  {
   "cell_type": "code",
   "execution_count": 5,
   "id": "07a4564a",
   "metadata": {},
   "outputs": [],
   "source": [
    "inp = \"\"\"\n",
    "1\n",
    "1000000\n",
    "\"\"\""
   ]
  },
  {
   "cell_type": "code",
   "execution_count": 6,
   "id": "dd6ce332",
   "metadata": {},
   "outputs": [
    {
     "name": "stdout",
     "output_type": "stream",
     "text": [
      "0\n"
     ]
    }
   ],
   "source": [
    "test(inp)"
   ]
  },
  {
   "cell_type": "code",
   "execution_count": 7,
   "id": "ab9b7fb5",
   "metadata": {},
   "outputs": [],
   "source": [
    "inp = \"\"\"\n",
    "3\n",
    "2022 2020 2021\n",
    "\"\"\""
   ]
  },
  {
   "cell_type": "code",
   "execution_count": 8,
   "id": "18efd517",
   "metadata": {},
   "outputs": [
    {
     "name": "stdout",
     "output_type": "stream",
     "text": [
      "0\n"
     ]
    }
   ],
   "source": [
    "test(inp)"
   ]
  },
  {
   "cell_type": "code",
   "execution_count": 9,
   "id": "ab1b309c",
   "metadata": {},
   "outputs": [
    {
     "data": {
      "text/plain": [
       "'\\nтеперь попробуем учесть тот факт что у элементов таких пар будет одинаковый остаток от деления на 200\\n'"
      ]
     },
     "execution_count": 9,
     "metadata": {},
     "output_type": "execute_result"
    }
   ],
   "source": [
    "\"\"\"\n",
    "теперь попробуем учесть тот факт что у элементов таких пар будет одинаковый остаток от деления на 200\n",
    "постоим массив с остатками от деления на 200\n",
    "теперь для каждого уникального значения найдем сколько элементов с ним есть\n",
    "если таких значений 2 - то пара 1, если 3 - то еще плюс 2 пары, если 4 - то еще плюс 3 пары и тд\n",
    "\n",
    "Теперь сложность линейная O(N)\n",
    "\"\"\""
   ]
  },
  {
   "cell_type": "code",
   "execution_count": 10,
   "id": "141966e3",
   "metadata": {},
   "outputs": [],
   "source": [
    "def get_number_of_good_pairs(numbers) -> int:\n",
    "    \n",
    "    num_pairs = 0\n",
    "    \n",
    "    a = numbers\n",
    "    a_rem_200 = list(map(lambda x: x % 200, a))\n",
    "    \n",
    "    rems_count = {}\n",
    "    for uniq_rem in a_rem_200:\n",
    "        if uniq_rem not in rems_count:\n",
    "            rems_count[uniq_rem] = 1\n",
    "        else:\n",
    "            num_pairs += rems_count[uniq_rem]\n",
    "            rems_count[uniq_rem] += 1\n",
    "            \n",
    "    return num_pairs"
   ]
  },
  {
   "cell_type": "code",
   "execution_count": 11,
   "id": "f8af62bd",
   "metadata": {},
   "outputs": [],
   "source": [
    "inp = \"\"\"\n",
    "5\n",
    "203 404 204 200 403\n",
    "\"\"\""
   ]
  },
  {
   "cell_type": "code",
   "execution_count": 12,
   "id": "8ef4effd",
   "metadata": {},
   "outputs": [
    {
     "name": "stdout",
     "output_type": "stream",
     "text": [
      "2\n"
     ]
    }
   ],
   "source": [
    "test(inp)"
   ]
  },
  {
   "cell_type": "code",
   "execution_count": 13,
   "id": "30f05f21",
   "metadata": {},
   "outputs": [],
   "source": [
    "inp = \"\"\"\n",
    "1\n",
    "1000000\n",
    "\"\"\""
   ]
  },
  {
   "cell_type": "code",
   "execution_count": 14,
   "id": "fe85df72",
   "metadata": {},
   "outputs": [
    {
     "name": "stdout",
     "output_type": "stream",
     "text": [
      "0\n"
     ]
    }
   ],
   "source": [
    "test(inp)"
   ]
  },
  {
   "cell_type": "code",
   "execution_count": 15,
   "id": "19538516",
   "metadata": {},
   "outputs": [],
   "source": [
    "inp = \"\"\"\n",
    "3\n",
    "2022 2020 2021\n",
    "\"\"\""
   ]
  },
  {
   "cell_type": "code",
   "execution_count": 16,
   "id": "06c8bbaf",
   "metadata": {},
   "outputs": [
    {
     "name": "stdout",
     "output_type": "stream",
     "text": [
      "0\n"
     ]
    }
   ],
   "source": [
    "test(inp)"
   ]
  },
  {
   "cell_type": "code",
   "execution_count": null,
   "id": "121eaaa6",
   "metadata": {},
   "outputs": [],
   "source": []
  }
 ],
 "metadata": {
  "kernelspec": {
   "display_name": "Python 3 (ipykernel)",
   "language": "python",
   "name": "python3"
  },
  "language_info": {
   "codemirror_mode": {
    "name": "ipython",
    "version": 3
   },
   "file_extension": ".py",
   "mimetype": "text/x-python",
   "name": "python",
   "nbconvert_exporter": "python",
   "pygments_lexer": "ipython3",
   "version": "3.10.5"
  }
 },
 "nbformat": 4,
 "nbformat_minor": 5
}
