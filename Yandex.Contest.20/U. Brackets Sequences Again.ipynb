{
 "cells": [
  {
   "cell_type": "markdown",
   "id": "67146d38-7eee-4a65-a595-28027ed8ae61",
   "metadata": {},
   "source": [
    "<h1>Опять скобочные последовательности</h1>"
   ]
  },
  {
   "cell_type": "raw",
   "id": "65ec67e0-8440-410d-841c-f6a9659f04d1",
   "metadata": {},
   "source": [
    "В этой задаче под правильной скобочной последовательностью (ПСП) понимается правильная скобочная последовательность из круглых и квадратных скобок, где ни одна пара квадратных скобок не может содержать пару круглых скобок. По данному числу n выведите все ПСП из n скобок в лексикографическом порядке.\n",
    "Упорядоченность символов следующая: ’(’ < ’[’ < ’)’ < ’]’.\n",
    "\n",
    "Формат ввода\n",
    "В единственной строке дано число скобок n, 0≤n≤16.\n",
    "Формат вывода\n",
    "Выведите правильные скобочные последовательности в лексикографическом порядке по одной в строке. Скобки внутри одной строки идут подряд и не разделяются пробелами\n",
    "\n",
    "Пример 1\n",
    "Ввод\n",
    "2\n",
    "Вывод\n",
    "()\n",
    "[]\n",
    "\n",
    "Пример 2\n",
    "Ввод\n",
    "3\n",
    "Вывод\n",
    "\n",
    "Пример 3\n",
    "Ввод\t\n",
    "4\n",
    "Вывод\n",
    "(())\n",
    "([])\n",
    "()()\n",
    "()[]\n",
    "[[]]\n",
    "[]()\n",
    "[][]"
   ]
  },
  {
   "cell_type": "markdown",
   "id": "1d73e298-a0be-47e3-af6b-094c7ecb9cba",
   "metadata": {},
   "source": [
    "<h2>Решение</h2>"
   ]
  },
  {
   "cell_type": "raw",
   "id": "0ca99847-3083-4d1b-835f-8b2568c2eabf",
   "metadata": {},
   "source": [
    "Сначала проверим - если n - нечетная, то результат - пустой список. Будем строить последовательность рекурсивно, учитывая необходимые ограничения. \n",
    "Сложность алгоритма O(2**N)"
   ]
  },
  {
   "cell_type": "code",
   "execution_count": 1,
   "id": "1fc8f6d9-fb46-4a92-b0c1-b68f73ea1877",
   "metadata": {},
   "outputs": [],
   "source": [
    "from typing import List\n",
    "\n",
    "import time\n",
    "\n",
    "int_val = {\n",
    "    '(': '1',\n",
    "    '[': '2',\n",
    "    ')': '3',\n",
    "    ']': '4'\n",
    "}\n",
    "\n",
    "def convert_to_int(seq):\n",
    "    int_str = ''.join([int_val[c] for c in seq])\n",
    "    return int(int_str)        \n",
    "\n",
    "def gen_seqs_rec(n):\n",
    "   \n",
    "    if n == 2:\n",
    "        return ['()', '[]']\n",
    "    \n",
    "    sub_seqs = gen_seqs_rec(n-2)\n",
    "\n",
    "    result = []\n",
    "\n",
    "    for seq in sub_seqs:\n",
    "        #time.sleep(0.2)\n",
    "        result.append('()' + seq)\n",
    "        result.append(seq + '()')\n",
    "        result.append('(' + seq + ')')\n",
    "        result.append('[]' + seq)\n",
    "        result.append(seq + '[]')\n",
    "        if seq[0] == '[' and seq[-1] == ']':\n",
    "            result.append('[' + seq + ']')         \n",
    "\n",
    "    return list(set(result))\n",
    "\n",
    "def generate_sequences(n: int) -> List[str]:\n",
    "\n",
    "    if n == 0 or n%2 != 0:\n",
    "        return []\n",
    "\n",
    "    sequences = gen_seqs_rec(n)\n",
    "\n",
    "    sequences.sort(key=convert_to_int)\n",
    "        \n",
    "    return sequences\n"
   ]
  },
  {
   "cell_type": "code",
   "execution_count": null,
   "id": "65bafc05-ce5c-4442-867b-6c1351b46179",
   "metadata": {},
   "outputs": [],
   "source": []
  },
  {
   "cell_type": "code",
   "execution_count": 2,
   "id": "743ac7d9-e51c-443c-baf0-3175c38c9aa8",
   "metadata": {},
   "outputs": [],
   "source": [
    "cases = [\n",
    "\"\"\"\n",
    "2\n",
    "\n",
    "()\n",
    "[]\n",
    "\"\"\"\n",
    ",\n",
    "\"\"\"\n",
    "3\n",
    "\n",
    "\"\"\"\n",
    ",\n",
    "\"\"\"\n",
    "4\n",
    "\n",
    "(())\n",
    "([])\n",
    "()()\n",
    "()[]\n",
    "[[]]\n",
    "[]()\n",
    "[][]\n",
    "\"\"\"\n",
    "]"
   ]
  },
  {
   "cell_type": "code",
   "execution_count": 3,
   "id": "fdc4fed5-728b-4a6e-a30a-3511e9746c92",
   "metadata": {},
   "outputs": [],
   "source": [
    "from testing import Tester"
   ]
  },
  {
   "cell_type": "code",
   "execution_count": 4,
   "id": "e0d12f8c-8c71-4e7d-a149-371e33a27bcd",
   "metadata": {},
   "outputs": [],
   "source": [
    "def parse_case(case):\n",
    "    lines = case.split('\\n')[1:-1]\n",
    "    n = int(lines[0])\n",
    "    outp = []\n",
    "    for i in range(2, len(lines)):\n",
    "        outp.append(lines[i])\n",
    "    return (n,), outp"
   ]
  },
  {
   "cell_type": "code",
   "execution_count": 5,
   "id": "f56a4cb6-09d0-4af7-a4a2-c24868098921",
   "metadata": {},
   "outputs": [],
   "source": [
    "t = Tester(parse_case, generate_sequences)"
   ]
  },
  {
   "cell_type": "code",
   "execution_count": 6,
   "id": "5b8ceb3a-54d0-427c-bf9c-6e5adea769b7",
   "metadata": {},
   "outputs": [
    {
     "name": "stdout",
     "output_type": "stream",
     "text": [
      "pass\n",
      "\texpected  ['()', '[]']\n",
      "\tactual    ['()', '[]']\n"
     ]
    }
   ],
   "source": [
    "t.test(cases[0])"
   ]
  },
  {
   "cell_type": "code",
   "execution_count": 7,
   "id": "08ccce1c-0790-432a-8eb4-ecee4efa9f24",
   "metadata": {},
   "outputs": [
    {
     "name": "stdout",
     "output_type": "stream",
     "text": [
      "pass\n",
      "\texpected  []\n",
      "\tactual    []\n"
     ]
    }
   ],
   "source": [
    "t.test(cases[1])"
   ]
  },
  {
   "cell_type": "code",
   "execution_count": 8,
   "id": "a343ab96-db78-400f-aafb-a8c166c337cc",
   "metadata": {},
   "outputs": [
    {
     "name": "stdout",
     "output_type": "stream",
     "text": [
      "pass\n",
      "\texpected  ['(())', '([])', '()()', '()[]', '[[]]', '[]()', '[][]']\n",
      "\tactual    ['(())', '([])', '()()', '()[]', '[[]]', '[]()', '[][]']\n"
     ]
    }
   ],
   "source": [
    "t.test(cases[2])"
   ]
  },
  {
   "cell_type": "code",
   "execution_count": 9,
   "id": "dd13834f-de3e-4829-9414-454e43f99948",
   "metadata": {},
   "outputs": [],
   "source": [
    "case_n4 = \"\"\"\n",
    "4\n",
    "\n",
    "something\n",
    "\"\"\""
   ]
  },
  {
   "cell_type": "code",
   "execution_count": 10,
   "id": "927f157e-2576-4716-9166-604ac575e594",
   "metadata": {},
   "outputs": [
    {
     "name": "stdout",
     "output_type": "stream",
     "text": [
      "fail\n",
      "\texpected  ['something']\n",
      "\tactual    ['(())', '([])', '()()', '()[]', '[[]]', '[]()', '[][]']\n"
     ]
    }
   ],
   "source": [
    "t.test(case_n4)"
   ]
  },
  {
   "cell_type": "code",
   "execution_count": 11,
   "id": "0cde0f40-1137-42d3-82bd-81dceffd60be",
   "metadata": {},
   "outputs": [],
   "source": [
    "case_n4 = \"\"\"\n",
    "4\n",
    "\n",
    "something\n",
    "\"\"\""
   ]
  },
  {
   "cell_type": "code",
   "execution_count": 12,
   "id": "c3d3da6d-6283-4019-ba67-66817f0509d5",
   "metadata": {},
   "outputs": [],
   "source": [
    "case_n6 = \"\"\"\n",
    "6\n",
    "\n",
    "something\n",
    "\"\"\""
   ]
  },
  {
   "cell_type": "code",
   "execution_count": 13,
   "id": "50286a4b-f6df-4dfa-94ae-f10a80f30945",
   "metadata": {},
   "outputs": [],
   "source": [
    "case_n8 = \"\"\"\n",
    "8\n",
    "\n",
    "something\n",
    "\"\"\""
   ]
  },
  {
   "cell_type": "code",
   "execution_count": 14,
   "id": "e895d50e-82d9-4632-964d-117bcb35708c",
   "metadata": {},
   "outputs": [
    {
     "name": "stdout",
     "output_type": "stream",
     "text": [
      "fail\n",
      "0.41 sec\n"
     ]
    }
   ],
   "source": [
    "t.test_big_case(case_n4, verbose=False)"
   ]
  },
  {
   "cell_type": "code",
   "execution_count": 15,
   "id": "6772b496-c0d2-4c8e-a8b1-2c006f371876",
   "metadata": {},
   "outputs": [
    {
     "name": "stdout",
     "output_type": "stream",
     "text": [
      "fail\n",
      "1.86 sec\n"
     ]
    }
   ],
   "source": [
    "t.test_big_case(case_n6, verbose=False)"
   ]
  },
  {
   "cell_type": "code",
   "execution_count": 16,
   "id": "bcb3496c-f644-4290-8bcf-b1049fd4f248",
   "metadata": {},
   "outputs": [
    {
     "name": "stdout",
     "output_type": "stream",
     "text": [
      "fail\n",
      "7.87 sec\n"
     ]
    }
   ],
   "source": [
    "t.test_big_case(case_n8, verbose=False)"
   ]
  },
  {
   "cell_type": "code",
   "execution_count": 17,
   "id": "5e56e4d4-3e4d-4c46-83da-379add2b2e2a",
   "metadata": {},
   "outputs": [],
   "source": [
    "l = ['(())', '([])', '()()', '()()', '()[]', '()[]', '[[]]', '[]()', '[]()', '[][]', '[][]']"
   ]
  },
  {
   "cell_type": "code",
   "execution_count": 18,
   "id": "1c5a76f7-481d-4e5b-9155-bf94d6ed24e0",
   "metadata": {},
   "outputs": [
    {
     "data": {
      "text/plain": [
       "['(())',\n",
       " '([])',\n",
       " '()()',\n",
       " '()()',\n",
       " '()[]',\n",
       " '()[]',\n",
       " '[[]]',\n",
       " '[]()',\n",
       " '[]()',\n",
       " '[][]',\n",
       " '[][]']"
      ]
     },
     "execution_count": 18,
     "metadata": {},
     "output_type": "execute_result"
    }
   ],
   "source": [
    "l"
   ]
  },
  {
   "cell_type": "code",
   "execution_count": 19,
   "id": "fae7a3fb-cd96-4662-bd00-a8aa75dc0962",
   "metadata": {},
   "outputs": [
    {
     "name": "stdout",
     "output_type": "stream",
     "text": [
      "((()))\n",
      "(([]))\n",
      "(()())\n",
      "(()[])\n",
      "(())()\n",
      "(())[]\n",
      "([[]])\n",
      "([]())\n",
      "([][])\n",
      "([])()\n",
      "([])[]\n",
      "()(())\n",
      "()([])\n",
      "()()()\n",
      "()()[]\n",
      "()[[]]\n",
      "()[]()\n",
      "()[][]\n",
      "[[[]]]\n",
      "[[][]]\n",
      "[[]]()\n",
      "[[]][]\n",
      "[](())\n",
      "[]([])\n",
      "[]()()\n",
      "[]()[]\n",
      "[][[]]\n",
      "[][]()\n",
      "[][][]\n"
     ]
    }
   ],
   "source": [
    "for seq in generate_sequences(6):\n",
    "    print(seq)"
   ]
  },
  {
   "cell_type": "code",
   "execution_count": 20,
   "id": "c0314be5-2adc-4bb3-834f-4584d99414e0",
   "metadata": {},
   "outputs": [
    {
     "data": {
      "text/plain": [
       "2"
      ]
     },
     "execution_count": 20,
     "metadata": {},
     "output_type": "execute_result"
    }
   ],
   "source": [
    "len(generate_sequences(2))"
   ]
  },
  {
   "cell_type": "code",
   "execution_count": 21,
   "id": "d45e2461-f06b-42f9-925f-edaf36d00946",
   "metadata": {},
   "outputs": [
    {
     "data": {
      "text/plain": [
       "7"
      ]
     },
     "execution_count": 21,
     "metadata": {},
     "output_type": "execute_result"
    }
   ],
   "source": [
    "len(generate_sequences(4))"
   ]
  },
  {
   "cell_type": "code",
   "execution_count": 22,
   "id": "b7a8a1db-961b-4f56-97a3-d1f4a29cd682",
   "metadata": {},
   "outputs": [
    {
     "data": {
      "text/plain": [
       "29"
      ]
     },
     "execution_count": 22,
     "metadata": {},
     "output_type": "execute_result"
    }
   ],
   "source": [
    "len(generate_sequences(6))"
   ]
  },
  {
   "cell_type": "code",
   "execution_count": 23,
   "id": "3b50fa12-acce-4477-9594-4800d650f03f",
   "metadata": {},
   "outputs": [
    {
     "data": {
      "text/plain": [
       "123"
      ]
     },
     "execution_count": 23,
     "metadata": {},
     "output_type": "execute_result"
    }
   ],
   "source": [
    "len(generate_sequences(8))"
   ]
  },
  {
   "cell_type": "code",
   "execution_count": 24,
   "id": "02879148-2cc8-4b87-a934-83477c059ebf",
   "metadata": {},
   "outputs": [
    {
     "data": {
      "text/plain": [
       "520"
      ]
     },
     "execution_count": 24,
     "metadata": {},
     "output_type": "execute_result"
    }
   ],
   "source": [
    "len(generate_sequences(10))"
   ]
  },
  {
   "cell_type": "code",
   "execution_count": 26,
   "id": "2a883242-d980-4935-995a-96d5be080c6f",
   "metadata": {},
   "outputs": [
    {
     "data": {
      "text/plain": [
       "2186"
      ]
     },
     "execution_count": 26,
     "metadata": {},
     "output_type": "execute_result"
    }
   ],
   "source": [
    "len(generate_sequences(12))"
   ]
  },
  {
   "cell_type": "code",
   "execution_count": null,
   "id": "e997da05-3400-4709-9075-b48788de263f",
   "metadata": {},
   "outputs": [],
   "source": []
  }
 ],
 "metadata": {
  "kernelspec": {
   "display_name": "Python 3 (ipykernel)",
   "language": "python",
   "name": "python3"
  },
  "language_info": {
   "codemirror_mode": {
    "name": "ipython",
    "version": 3
   },
   "file_extension": ".py",
   "mimetype": "text/x-python",
   "name": "python",
   "nbconvert_exporter": "python",
   "pygments_lexer": "ipython3",
   "version": "3.10.11"
  }
 },
 "nbformat": 4,
 "nbformat_minor": 5
}
