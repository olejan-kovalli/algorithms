{
 "cells": [
  {
   "cell_type": "markdown",
   "id": "67146d38-7eee-4a65-a595-28027ed8ae61",
   "metadata": {},
   "source": [
    "<h1>Card Counter</h1>"
   ]
  },
  {
   "cell_type": "raw",
   "id": "65ec67e0-8440-410d-841c-f6a9659f04d1",
   "metadata": {},
   "source": [
    "На стол в ряд выложены карточки, на каждой карточке написано натуральное число. За один ход разрешается взять карточку либо с левого, \n",
    "либо с правого конца ряда. Всего можно сделать k  ходов. Итоговый счет равен сумме чисел на выбранных карточках. \n",
    "Определите, какой максимальный счет можно получить по итогам игры. Вы можете воспользоваться заготовками кода для данной задачи из репозитория курса.\n",
    "\n",
    "Формат ввода\n",
    "В первой строке записано число карточек n (1≤n≤10**5). Во второй строке записано число ходов k (1≤k≤n). В третьей строке через пробел даны числа, записанные на карточках. i-е по счету число записано на i-й слева карточке. Все числа натуральные и не превосходят 10**4.\n",
    "\n",
    "Формат вывода\n",
    "Выведите единственное число —- максимальную сумму очков, которую можно набрать, сделав k ходов.\n",
    "\n",
    "Пример 1\n",
    "Ввод\t\n",
    "7\n",
    "3\n",
    "5 8 2 1 3 4 11\n",
    "Вывод\n",
    "24\n",
    "\n",
    "Пример 2\n",
    "Ввод\t\n",
    "5\n",
    "5\n",
    "1 2 3 4 5\n",
    "Вывод\n",
    "15\n",
    "\n",
    "Пример 3\n",
    "Ввод\t\n",
    "7\n",
    "4\n",
    "1 1 9 2 2 2 6\n",
    "Вывод\n",
    "17"
   ]
  },
  {
   "cell_type": "markdown",
   "id": "1d73e298-a0be-47e3-af6b-094c7ecb9cba",
   "metadata": {},
   "source": [
    "<h2>Решение</h2>"
   ]
  },
  {
   "cell_type": "raw",
   "id": "0ca99847-3083-4d1b-835f-8b2568c2eabf",
   "metadata": {},
   "source": [
    "Поскольку порядок ходов не имеет значение, нужно лишь выяснить сколько карт взять справа, а сколько слева. \n",
    "Останется в любом случае n-k карточек. И то что останется соответственно должно быть минимально.\n",
    "Будем решать методом скользящего окна"
   ]
  },
  {
   "cell_type": "code",
   "execution_count": 5,
   "id": "26a31501-c6c0-4bd4-9596-162ff8c9b010",
   "metadata": {},
   "outputs": [],
   "source": [
    "def get_card_count(n, k, cards) -> int:\n",
    "    window_min_sum = (10**5)*(n-k)\n",
    "\n",
    "    for i in range(k+1):\n",
    "        window = cards[i:n-k+i]\n",
    "        window_min_sum = min(window_min_sum, sum(window))\n",
    "\n",
    "    return sum(cards) - window_min_sum"
   ]
  },
  {
   "cell_type": "code",
   "execution_count": 6,
   "id": "e172d5ed-2c60-485b-ac45-537376417a19",
   "metadata": {},
   "outputs": [],
   "source": [
    "def test(inp):\n",
    "    inp_lines = inp.split('\\n')[1:-1]\n",
    "    n = int(inp_lines[0])\n",
    "    k = int(inp_lines[1])\n",
    "    cards = list(map(int, inp_lines[2].split()))\n",
    "    print(get_card_count(n, k, cards))"
   ]
  },
  {
   "cell_type": "code",
   "execution_count": null,
   "id": "4868ce2d-74fa-4896-87f8-fcd88d5e052c",
   "metadata": {},
   "outputs": [],
   "source": []
  },
  {
   "cell_type": "markdown",
   "id": "a1368fe4-e2f5-4a4c-8dd9-8d8fede7b2c0",
   "metadata": {},
   "source": [
    "<h3>Тест 1</h3>"
   ]
  },
  {
   "cell_type": "code",
   "execution_count": 11,
   "id": "ac8d8b95-8c5d-408e-beb8-ded1856fc24c",
   "metadata": {},
   "outputs": [],
   "source": [
    "case =\"\"\"\n",
    "7\n",
    "3\n",
    "5 8 2 1 3 4 11\n",
    "\n",
    "24\n",
    "\"\"\""
   ]
  },
  {
   "cell_type": "code",
   "execution_count": 12,
   "id": "8e7e0dd5-9a78-46a4-ad09-08dc9329da7d",
   "metadata": {},
   "outputs": [
    {
     "name": "stdout",
     "output_type": "stream",
     "text": [
      "24\n"
     ]
    }
   ],
   "source": [
    "test(case)"
   ]
  },
  {
   "cell_type": "markdown",
   "id": "f6cc1583-ebf3-4ea6-b310-236efd66f6aa",
   "metadata": {},
   "source": [
    "<h3>Тест 2</h3>"
   ]
  },
  {
   "cell_type": "code",
   "execution_count": 39,
   "id": "ef744881-d541-444b-96e4-bed1b919296a",
   "metadata": {},
   "outputs": [],
   "source": [
    "case =\"\"\"\n",
    "5\n",
    "5\n",
    "1 2 3 4 5\n",
    "\n",
    "15\n",
    "\"\"\""
   ]
  },
  {
   "cell_type": "code",
   "execution_count": 41,
   "id": "34733675-54c6-4b46-92da-13adce6552ff",
   "metadata": {},
   "outputs": [
    {
     "name": "stdout",
     "output_type": "stream",
     "text": [
      "15\n"
     ]
    }
   ],
   "source": [
    "test(case)"
   ]
  },
  {
   "cell_type": "markdown",
   "id": "cef6125e-3ea6-45a2-a8fe-20296e9235da",
   "metadata": {},
   "source": [
    "<h3>Тест 3</h3>"
   ]
  },
  {
   "cell_type": "code",
   "execution_count": 24,
   "id": "2b2637b4-5463-42bc-b5f5-2be69a64678e",
   "metadata": {},
   "outputs": [],
   "source": [
    "case=\"\"\"\n",
    "7\n",
    "4\n",
    "1 1 9 2 2 2 6\n",
    "\n",
    "17\n",
    "\"\"\""
   ]
  },
  {
   "cell_type": "code",
   "execution_count": 25,
   "id": "41e2dcb6-3760-42b6-a278-584f55d4ba92",
   "metadata": {},
   "outputs": [
    {
     "name": "stdout",
     "output_type": "stream",
     "text": [
      "17\n"
     ]
    }
   ],
   "source": [
    "test(case)"
   ]
  },
  {
   "cell_type": "raw",
   "id": "d2325847-d21c-400f-9c5b-02e92615c92c",
   "metadata": {},
   "source": [
    "Но это не оптимальный алгоритм так как на каждом шаге вычисляется сумма. Он имеет сложность O(K*(N-K)).\n",
    "На самом деле на каждом шаге нужно просто корректировать сумму на те две карточки которые меняются. \n",
    "Очень важно правильно проконтролировать индексы."
   ]
  },
  {
   "cell_type": "code",
   "execution_count": 30,
   "id": "59711433-daa2-4fa3-a3fb-239884eeebfc",
   "metadata": {},
   "outputs": [],
   "source": [
    "def get_card_count(n, k, cards) -> int:\n",
    "    max_result = sum(cards[-k:])\n",
    "    cur_result = max_result\n",
    "    for i in range(k):\n",
    "        cur_result = cur_result + cards[i] - cards[-k+i]\n",
    "        max_result = max(max_result, cur_result)\n",
    "    \n",
    "    return max_result"
   ]
  },
  {
   "cell_type": "code",
   "execution_count": null,
   "id": "bb66e3ff-4096-45f7-8cec-8ebbe6ad3275",
   "metadata": {},
   "outputs": [],
   "source": []
  },
  {
   "cell_type": "markdown",
   "id": "01a559ff-f34b-412e-b16b-b0ca51ddf6e6",
   "metadata": {},
   "source": [
    "<h3>Тест 1</h3>"
   ]
  },
  {
   "cell_type": "code",
   "execution_count": 31,
   "id": "078453d3-6fde-40f6-b988-7bade054da71",
   "metadata": {},
   "outputs": [],
   "source": [
    "case =\"\"\"\n",
    "7\n",
    "3\n",
    "5 8 2 1 3 4 11\n",
    "\n",
    "24\n",
    "\"\"\""
   ]
  },
  {
   "cell_type": "code",
   "execution_count": 32,
   "id": "03f22d41-1e2c-46f7-9a0e-8bcbf4ead5b4",
   "metadata": {},
   "outputs": [
    {
     "name": "stdout",
     "output_type": "stream",
     "text": [
      "24\n"
     ]
    }
   ],
   "source": [
    "test(case)"
   ]
  },
  {
   "cell_type": "markdown",
   "id": "be7617a5-703c-4d71-a8a0-0c8e425ca074",
   "metadata": {},
   "source": [
    "<h3>Тест 2</h3>"
   ]
  },
  {
   "cell_type": "code",
   "execution_count": 33,
   "id": "50119db1-479f-46aa-a8ae-eb57da20179e",
   "metadata": {},
   "outputs": [],
   "source": [
    "case =\"\"\"\n",
    "5\n",
    "5\n",
    "1 2 3 4 5\n",
    "\n",
    "15\n",
    "\"\"\""
   ]
  },
  {
   "cell_type": "code",
   "execution_count": 34,
   "id": "242a56f3-3a67-4d90-a8ae-482a5190297a",
   "metadata": {
    "scrolled": true
   },
   "outputs": [
    {
     "name": "stdout",
     "output_type": "stream",
     "text": [
      "15\n"
     ]
    }
   ],
   "source": [
    "test(case)"
   ]
  },
  {
   "cell_type": "markdown",
   "id": "f12dad10-8f07-4b48-ae55-c2a53563d205",
   "metadata": {},
   "source": [
    "<h3>Тест 3</h3>"
   ]
  },
  {
   "cell_type": "code",
   "execution_count": 35,
   "id": "5339f693-5ca5-4e4f-962c-58bb3fae3ec2",
   "metadata": {},
   "outputs": [],
   "source": [
    "case=\"\"\"\n",
    "7\n",
    "4\n",
    "1 1 9 2 2 2 6\n",
    "\n",
    "17\n",
    "\"\"\""
   ]
  },
  {
   "cell_type": "code",
   "execution_count": 36,
   "id": "d8db564f-37cd-40aa-b7fc-c407f1fb534c",
   "metadata": {},
   "outputs": [
    {
     "name": "stdout",
     "output_type": "stream",
     "text": [
      "17\n"
     ]
    }
   ],
   "source": [
    "test(case)"
   ]
  },
  {
   "cell_type": "code",
   "execution_count": null,
   "id": "d350f93f-fb1b-4615-8557-424f5aed406d",
   "metadata": {},
   "outputs": [],
   "source": []
  },
  {
   "cell_type": "code",
   "execution_count": null,
   "id": "87b5e180-7a83-479f-b24d-4f56fab2b5db",
   "metadata": {},
   "outputs": [],
   "source": []
  },
  {
   "cell_type": "code",
   "execution_count": null,
   "id": "5e7b73a6-bfe0-4460-86e7-8eb843bf8b79",
   "metadata": {},
   "outputs": [],
   "source": []
  },
  {
   "cell_type": "code",
   "execution_count": null,
   "id": "82a475fd-d793-49dc-8396-4d45b41d8f26",
   "metadata": {},
   "outputs": [],
   "source": []
  }
 ],
 "metadata": {
  "kernelspec": {
   "display_name": "Python 3 (ipykernel)",
   "language": "python",
   "name": "python3"
  },
  "language_info": {
   "codemirror_mode": {
    "name": "ipython",
    "version": 3
   },
   "file_extension": ".py",
   "mimetype": "text/x-python",
   "name": "python",
   "nbconvert_exporter": "python",
   "pygments_lexer": "ipython3",
   "version": "3.10.11"
  }
 },
 "nbformat": 4,
 "nbformat_minor": 5
}
