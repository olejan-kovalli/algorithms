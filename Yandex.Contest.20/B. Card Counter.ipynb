{
 "cells": [
  {
   "cell_type": "code",
   "execution_count": null,
   "id": "bd9018a3-cc43-443c-82e3-fe38354645fa",
   "metadata": {},
   "outputs": [],
   "source": [
    "\"\"\"\n",
    "На стол в ряд выложены карточки, на каждой карточке написано натуральное число. За один ход разрешается взять карточку либо с левого, \n",
    "либо с правого конца ряда. Всего можно сделать k  ходов. Итоговый счет равен сумме чисел на выбранных карточках. \n",
    "Определите, какой максимальный счет можно получить по итогам игры. Вы можете воспользоваться заготовками кода для данной задачи из репозитория курса.\n",
    "\n",
    "Формат ввода\n",
    "В первой строке записано число карточек n (1≤n≤10**5).\n",
    "Во второй строке записано число ходов k (1≤k≤n).\n",
    "В третьей строке через пробел даны числа, записанные на карточках. \n",
    "i-е по счету число записано на i-й слева карточке. Все числа натуральные и не превосходят 10**4.\n",
    "\n",
    "Формат вывода\n",
    "Выведите единственное число —- максимальную сумму очков, которую можно набрать, сделав k ходов.\n",
    "\n",
    "Пример 1\n",
    "Ввод\t\n",
    "7\n",
    "3\n",
    "5 8 2 1 3 4 11\n",
    "Вывод\n",
    "24\n",
    "\n",
    "Пример 2\n",
    "Ввод\t\n",
    "5\n",
    "5\n",
    "1 2 3 4 5\n",
    "Вывод\n",
    "15\n",
    "\n",
    "Пример 3\n",
    "Ввод\t\n",
    "7\n",
    "4\n",
    "1 1 9 2 2 2 6\n",
    "Вывод\n",
    "17\n",
    "\"\"\""
   ]
  },
  {
   "cell_type": "code",
   "execution_count": null,
   "id": "b8bffbb6-0ba4-43d1-88bb-0c24a05e6762",
   "metadata": {},
   "outputs": [],
   "source": [
    "\"\"\"\n",
    "Поскольку порядок ходов не имеет значение, нужно лишь выяснить сколько карт взять справа, а сколько слева. \n",
    "Останется в любом случае n-k карточек. И то что останется соответственно должно быть минимально.\n",
    "Будем решать методом скользящего окна\n",
    "\"\"\""
   ]
  },
  {
   "cell_type": "code",
   "execution_count": 2,
   "id": "26a31501-c6c0-4bd4-9596-162ff8c9b010",
   "metadata": {},
   "outputs": [],
   "source": [
    "def get_card_count(n, k, cards) -> int:\n",
    "    window_min_sum = (10**5)*(n-k)\n",
    "\n",
    "    for i in range(k+1):\n",
    "        window = cards[i:n-k+i]\n",
    "        window_min_sum = min(window_min_sum, sum(window))\n",
    "\n",
    "    return sum(cards) - window_min_sum"
   ]
  },
  {
   "cell_type": "code",
   "execution_count": 10,
   "id": "e172d5ed-2c60-485b-ac45-537376417a19",
   "metadata": {},
   "outputs": [],
   "source": [
    "def test(inp):\n",
    "    inp_lines = inp.split('\\n')[1:-1]\n",
    "    n = int(inp_lines[0])\n",
    "    k = int(inp_lines[1])\n",
    "    cards = list(map(int, inp_lines[2].split()))\n",
    "    #print(n)\n",
    "    #print(k)\n",
    "    #print(cards)\n",
    "    #print()\n",
    "    print(get_card_count(n, k, cards))"
   ]
  },
  {
   "cell_type": "code",
   "execution_count": 53,
   "id": "ac8d8b95-8c5d-408e-beb8-ded1856fc24c",
   "metadata": {},
   "outputs": [],
   "source": [
    "inp =\"\"\"\n",
    "7\n",
    "3\n",
    "5 8 2 1 3 4 11\n",
    "\"\"\""
   ]
  },
  {
   "cell_type": "code",
   "execution_count": 54,
   "id": "8e7e0dd5-9a78-46a4-ad09-08dc9329da7d",
   "metadata": {},
   "outputs": [
    {
     "name": "stdout",
     "output_type": "stream",
     "text": [
      "24\n"
     ]
    }
   ],
   "source": [
    "test(inp)"
   ]
  },
  {
   "cell_type": "code",
   "execution_count": 55,
   "id": "ef744881-d541-444b-96e4-bed1b919296a",
   "metadata": {},
   "outputs": [],
   "source": [
    "inp =\"\"\"\n",
    "5\n",
    "5\n",
    "1 2 3 4 5\n",
    "\"\"\""
   ]
  },
  {
   "cell_type": "code",
   "execution_count": 56,
   "id": "073c5d66-d4c2-422d-aa88-ba59d4a73457",
   "metadata": {},
   "outputs": [
    {
     "name": "stdout",
     "output_type": "stream",
     "text": [
      "15\n"
     ]
    }
   ],
   "source": [
    "test(inp)"
   ]
  },
  {
   "cell_type": "code",
   "execution_count": 57,
   "id": "2b2637b4-5463-42bc-b5f5-2be69a64678e",
   "metadata": {},
   "outputs": [],
   "source": [
    "inp=\"\"\"\n",
    "7\n",
    "4\n",
    "1 1 9 2 2 2 6\n",
    "\"\"\""
   ]
  },
  {
   "cell_type": "code",
   "execution_count": 58,
   "id": "41e2dcb6-3760-42b6-a278-584f55d4ba92",
   "metadata": {},
   "outputs": [
    {
     "name": "stdout",
     "output_type": "stream",
     "text": [
      "17\n"
     ]
    }
   ],
   "source": [
    "test(inp)"
   ]
  },
  {
   "cell_type": "code",
   "execution_count": 59,
   "id": "20c332e2-ca50-46e5-8f24-45c9e44b5908",
   "metadata": {},
   "outputs": [
    {
     "data": {
      "text/plain": [
       "'\\nно это не оптимальный алгоритм так как на каждом шаге вычисляется сумма.\\nон имеет сложность O(K*(N-K))\\n'"
      ]
     },
     "execution_count": 59,
     "metadata": {},
     "output_type": "execute_result"
    }
   ],
   "source": [
    "\"\"\"\n",
    "но это не оптимальный алгоритм так как на каждом шаге вычисляется сумма.он имеет сложность O(K*(N-K)).\n",
    "На самом деле на каждом шаге нужно просто корректировать сумму на те две карточки которые меняются. \n",
    "Очень важно правильно проконтролировать индексы.\n",
    "\"\"\""
   ]
  },
  {
   "cell_type": "code",
   "execution_count": 95,
   "id": "59711433-daa2-4fa3-a3fb-239884eeebfc",
   "metadata": {},
   "outputs": [],
   "source": [
    "def get_card_count(n, k, cards) -> int:\n",
    "    max_result = sum(cards[-k:])\n",
    "    cur_result = max_result\n",
    "    for i in range(k):\n",
    "        cur_result = cur_result + cards[i] - cards[-k+i]\n",
    "        max_result = max(max_result, cur_result)\n",
    "    \n",
    "    return max_result"
   ]
  },
  {
   "cell_type": "code",
   "execution_count": null,
   "id": "25fc08e2-6fee-4471-8a65-c95789742b05",
   "metadata": {},
   "outputs": [],
   "source": []
  },
  {
   "cell_type": "code",
   "execution_count": null,
   "id": "bb66e3ff-4096-45f7-8cec-8ebbe6ad3275",
   "metadata": {},
   "outputs": [],
   "source": []
  }
 ],
 "metadata": {
  "kernelspec": {
   "display_name": "Python 3 (ipykernel)",
   "language": "python",
   "name": "python3"
  },
  "language_info": {
   "codemirror_mode": {
    "name": "ipython",
    "version": 3
   },
   "file_extension": ".py",
   "mimetype": "text/x-python",
   "name": "python",
   "nbconvert_exporter": "python",
   "pygments_lexer": "ipython3",
   "version": "3.10.11"
  }
 },
 "nbformat": 4,
 "nbformat_minor": 5
}
