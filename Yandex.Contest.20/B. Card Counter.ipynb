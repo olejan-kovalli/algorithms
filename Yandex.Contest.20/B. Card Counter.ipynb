{
 "cells": [
  {
   "cell_type": "markdown",
   "id": "67146d38-7eee-4a65-a595-28027ed8ae61",
   "metadata": {},
   "source": [
    "<h1>Card Counter</h1>"
   ]
  },
  {
   "cell_type": "raw",
   "id": "65ec67e0-8440-410d-841c-f6a9659f04d1",
   "metadata": {},
   "source": [
    "На стол в ряд выложены карточки, на каждой карточке написано натуральное число. За один ход разрешается взять карточку либо с левого, \n",
    "либо с правого конца ряда. Всего можно сделать k  ходов. Итоговый счет равен сумме чисел на выбранных карточках. \n",
    "Определите, какой максимальный счет можно получить по итогам игры.\n",
    "\n",
    "Формат ввода\n",
    "В первой строке записано число карточек n (1≤n≤10**5). Во второй строке записано число ходов k (1≤k≤n). В третьей строке через пробел даны числа, записанные на карточках. i-е по счету число записано на i-й слева карточке. Все числа натуральные и не превосходят 10**4.\n",
    "\n",
    "Формат вывода\n",
    "Выведите единственное число —- максимальную сумму очков, которую можно набрать, сделав k ходов.\n",
    "\n",
    "Пример 1\n",
    "Ввод\t\n",
    "7\n",
    "3\n",
    "5 8 2 1 3 4 11\n",
    "Вывод\n",
    "24\n",
    "\n",
    "Пример 2\n",
    "Ввод\t\n",
    "5\n",
    "5\n",
    "1 2 3 4 5\n",
    "Вывод\n",
    "15\n",
    "\n",
    "Пример 3\n",
    "Ввод\t\n",
    "7\n",
    "4\n",
    "1 1 9 2 2 2 6\n",
    "Вывод\n",
    "17"
   ]
  },
  {
   "cell_type": "code",
   "execution_count": 115,
   "id": "fe47c329-b9d6-4997-aa01-564e6a3bbec0",
   "metadata": {},
   "outputs": [],
   "source": [
    "cases = [\n",
    "\"\"\"\n",
    "7\n",
    "3\n",
    "5 8 2 1 3 4 11\n",
    "\n",
    "24\n",
    "\"\"\"\n",
    ",\n",
    "\"\"\"\n",
    "5\n",
    "5\n",
    "1 2 3 4 5\n",
    "\n",
    "15\n",
    "\"\"\"\n",
    ",\n",
    "\"\"\"\n",
    "7\n",
    "4\n",
    "1 1 9 2 2 2 6\n",
    "\n",
    "17\n",
    "\"\"\" \n",
    "]"
   ]
  },
  {
   "cell_type": "markdown",
   "id": "1d73e298-a0be-47e3-af6b-094c7ecb9cba",
   "metadata": {},
   "source": [
    "<h2>Решение</h2>"
   ]
  },
  {
   "cell_type": "raw",
   "id": "0ca99847-3083-4d1b-835f-8b2568c2eabf",
   "metadata": {},
   "source": [
    "Поскольку порядок ходов не имеет значение, нужно лишь выяснить сколько карт взять справа, а сколько слева. \n",
    "Останется в любом случае n-k карточек. И то что останется соответственно должно быть минимально.\n",
    "Будем решать методом скользящего окна"
   ]
  },
  {
   "cell_type": "code",
   "execution_count": 116,
   "id": "26a31501-c6c0-4bd4-9596-162ff8c9b010",
   "metadata": {},
   "outputs": [],
   "source": [
    "def get_card_count(n, k, cards) -> int:\n",
    "    window_min_sum = (10**5)*(n-k)\n",
    "\n",
    "    for i in range(k+1):\n",
    "        window = cards[i:n-k+i]\n",
    "        window_min_sum = min(window_min_sum, sum(window))\n",
    "\n",
    "    return sum(cards) - window_min_sum"
   ]
  },
  {
   "cell_type": "code",
   "execution_count": null,
   "id": "3df9cf37-c3fb-49f4-809a-f4ed26c62164",
   "metadata": {},
   "outputs": [],
   "source": []
  },
  {
   "cell_type": "code",
   "execution_count": 117,
   "id": "e172d5ed-2c60-485b-ac45-537376417a19",
   "metadata": {},
   "outputs": [],
   "source": [
    "def test(case):\n",
    "    inp_lines = case.split('\\n')[1:-2]\n",
    "    n = int(inp_lines[0])\n",
    "    k = int(inp_lines[1])\n",
    "    cards = list(map(int, inp_lines[2].split()))\n",
    "    print(get_card_count(n, k, cards))"
   ]
  },
  {
   "cell_type": "code",
   "execution_count": 118,
   "id": "41e2dcb6-3760-42b6-a278-584f55d4ba92",
   "metadata": {},
   "outputs": [
    {
     "name": "stdout",
     "output_type": "stream",
     "text": [
      "24\n"
     ]
    }
   ],
   "source": [
    "test(cases[0])"
   ]
  },
  {
   "cell_type": "code",
   "execution_count": 119,
   "id": "18e6a330-b0b1-48d6-86d9-8498581a612c",
   "metadata": {},
   "outputs": [
    {
     "name": "stdout",
     "output_type": "stream",
     "text": [
      "15\n"
     ]
    }
   ],
   "source": [
    "test(cases[1])"
   ]
  },
  {
   "cell_type": "code",
   "execution_count": 120,
   "id": "b8a43b90-7e32-4b0c-b671-6ae28ca65c4a",
   "metadata": {},
   "outputs": [
    {
     "name": "stdout",
     "output_type": "stream",
     "text": [
      "17\n"
     ]
    }
   ],
   "source": [
    "test(cases[2])"
   ]
  },
  {
   "cell_type": "raw",
   "id": "d2325847-d21c-400f-9c5b-02e92615c92c",
   "metadata": {},
   "source": [
    "Но это не оптимальный алгоритм так как на каждом шаге вычисляется сумма. Он имеет сложность O(K*(N-K))."
   ]
  },
  {
   "cell_type": "code",
   "execution_count": 121,
   "id": "ac6dc41b-0f82-40a4-b869-d548cca6980a",
   "metadata": {},
   "outputs": [],
   "source": [
    "import random\n",
    "\n",
    "def make_big_case(n):\n",
    "    k = n // 2\n",
    "    cards = [str(random.randint(0, 1000)) for _ in range(n)]\n",
    "    return  (\n",
    "        '\\n' +\n",
    "        str(n) + '\\n' +\n",
    "        str(k) + '\\n' + \n",
    "        ' '.join(cards) + '\\n\\n'\n",
    "        )"
   ]
  },
  {
   "cell_type": "code",
   "execution_count": 122,
   "id": "bafd49d7-8a19-4534-98f3-4542ef88e83b",
   "metadata": {},
   "outputs": [],
   "source": [
    "import time\n",
    "def test_big_case(case):\n",
    "    start = time.process_time()\n",
    "    test(case)\n",
    "    print('%0.2f sec' % ( time.process_time() - start))"
   ]
  },
  {
   "cell_type": "code",
   "execution_count": 123,
   "id": "b15447a9-7e1b-468b-a39c-40566b1ad586",
   "metadata": {},
   "outputs": [],
   "source": [
    "n = 10_000\n",
    "big_case_1 = make_big_case(n)\n",
    "big_case_2 = make_big_case(2*n)"
   ]
  },
  {
   "cell_type": "code",
   "execution_count": 124,
   "id": "a471dc1c-ce8f-4588-823f-3ad235cfb321",
   "metadata": {},
   "outputs": [
    {
     "name": "stdout",
     "output_type": "stream",
     "text": [
      "2523541\n",
      "0.27 sec\n",
      "5027999\n",
      "1.06 sec\n"
     ]
    }
   ],
   "source": [
    "test_big_case(big_case_1)\n",
    "test_big_case(big_case_2)"
   ]
  },
  {
   "cell_type": "raw",
   "id": "c3c4fba2-023b-45f4-ae63-a61efb96fe65",
   "metadata": {},
   "source": [
    "На самом деле на каждом шаге нужно просто корректировать сумму на те две карточки которые меняются. \n",
    "Очень важно правильно проконтролировать индексы."
   ]
  },
  {
   "cell_type": "code",
   "execution_count": 125,
   "id": "59711433-daa2-4fa3-a3fb-239884eeebfc",
   "metadata": {},
   "outputs": [],
   "source": [
    "def get_card_count(n, k, cards) -> int:\n",
    "    max_result = sum(cards[-k:])\n",
    "    cur_result = max_result\n",
    "    for i in range(k):\n",
    "        cur_result = cur_result + cards[i] - cards[-k+i]\n",
    "        max_result = max(max_result, cur_result)\n",
    "    \n",
    "    return max_result"
   ]
  },
  {
   "cell_type": "code",
   "execution_count": 126,
   "id": "82a475fd-d793-49dc-8396-4d45b41d8f26",
   "metadata": {},
   "outputs": [
    {
     "name": "stdout",
     "output_type": "stream",
     "text": [
      "24\n"
     ]
    }
   ],
   "source": [
    "test(cases[0])"
   ]
  },
  {
   "cell_type": "code",
   "execution_count": 127,
   "id": "2e18b159-0d5f-4710-b191-d51a5f4679a0",
   "metadata": {},
   "outputs": [
    {
     "name": "stdout",
     "output_type": "stream",
     "text": [
      "15\n"
     ]
    }
   ],
   "source": [
    "test(cases[1])"
   ]
  },
  {
   "cell_type": "code",
   "execution_count": 128,
   "id": "de2c5800-e9fc-44ad-8330-d0511073f049",
   "metadata": {},
   "outputs": [
    {
     "name": "stdout",
     "output_type": "stream",
     "text": [
      "17\n"
     ]
    }
   ],
   "source": [
    "test(cases[2])"
   ]
  },
  {
   "cell_type": "code",
   "execution_count": null,
   "id": "56d1c124-bb76-44a5-8778-d4fee0b6cab4",
   "metadata": {},
   "outputs": [],
   "source": []
  },
  {
   "cell_type": "code",
   "execution_count": 129,
   "id": "40ad568f-5f26-461d-a440-dc645c1dbda3",
   "metadata": {},
   "outputs": [
    {
     "name": "stdout",
     "output_type": "stream",
     "text": [
      "2523541\n",
      "0.00 sec\n",
      "5027999\n",
      "0.00 sec\n"
     ]
    }
   ],
   "source": [
    "test_big_case(big_case_1)\n",
    "test_big_case(big_case_2)"
   ]
  },
  {
   "cell_type": "code",
   "execution_count": 130,
   "id": "60d855b3-725e-4fe3-a9bf-bf0cdbd8ecea",
   "metadata": {},
   "outputs": [],
   "source": [
    "n = 1_000_000\n",
    "big_case_1 = make_big_case(n)\n",
    "big_case_2 = make_big_case(2*n)"
   ]
  },
  {
   "cell_type": "code",
   "execution_count": 131,
   "id": "a3ca09b6-b0e1-4382-98eb-f70cd9b10b16",
   "metadata": {},
   "outputs": [
    {
     "name": "stdout",
     "output_type": "stream",
     "text": [
      "250381181\n",
      "0.28 sec\n",
      "500703475\n",
      "0.59 sec\n"
     ]
    }
   ],
   "source": [
    "test_big_case(big_case_1)\n",
    "test_big_case(big_case_2)"
   ]
  },
  {
   "cell_type": "code",
   "execution_count": null,
   "id": "c583949a-0b67-477b-9d51-b0aed6cf5b77",
   "metadata": {},
   "outputs": [],
   "source": []
  }
 ],
 "metadata": {
  "kernelspec": {
   "display_name": "Python 3 (ipykernel)",
   "language": "python",
   "name": "python3"
  },
  "language_info": {
   "codemirror_mode": {
    "name": "ipython",
    "version": 3
   },
   "file_extension": ".py",
   "mimetype": "text/x-python",
   "name": "python",
   "nbconvert_exporter": "python",
   "pygments_lexer": "ipython3",
   "version": "3.10.11"
  }
 },
 "nbformat": 4,
 "nbformat_minor": 5
}
