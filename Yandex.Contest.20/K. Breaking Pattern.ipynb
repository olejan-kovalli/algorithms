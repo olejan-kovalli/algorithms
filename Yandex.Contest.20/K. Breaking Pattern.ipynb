{
 "cells": [
  {
   "cell_type": "markdown",
   "id": "bdadee49-f4c5-456f-ae0e-508b10c20b09",
   "metadata": {},
   "source": [
    "<h1>Разрыв Шаблона</h1>"
   ]
  },
  {
   "cell_type": "raw",
   "id": "b51dd440-0cde-43e1-95fc-942719bf282b",
   "metadata": {},
   "source": [
    "В этой задаче вам надо определить, подходит ли строка под конкретный шаблон. Шаблон задаётся в следующем формате:\n",
    "Символ «?» соответствует одному вхождению любого символа; Символ «*» соответствует произвольному числу любых символов, в том числе нулю символов;\n",
    "Остальные символы шаблона должны совпадать с символами строки; \n",
    "\n",
    "Формат ввода\n",
    "В первой строке дан шаблон. Во второй — проверяемая строка. Шаблон и строка не превосходят в длину 2000 символов и не могут быть пустыми.\n",
    "Строка состоит только из строчных латинских букв. Шаблон состоит из строчных латинских букв и знаков «?» и «*».\n",
    "\n",
    "Формат вывода\n",
    "Выведите «YES», если строка подходит под шаблон, и «NO», если не подходит.\n",
    "\n",
    "Пример 1\n",
    "Ввод\tВывод\n",
    "*a*\n",
    "adce\n",
    "YES\n",
    "\n",
    "Пример 2\n",
    "Ввод\t\n",
    "*\n",
    "xyz\n",
    "Вывод\n",
    "YES\n",
    "\n",
    "Пример 3\n",
    "Ввод\t\n",
    "algorithms\n",
    "algorithmus\n",
    "Вывод\n",
    "NO\n",
    "\n",
    "Пример 4\n",
    "Ввод\t\n",
    "?\n",
    "k\n",
    "Вывод\n",
    "YES"
   ]
  },
  {
   "cell_type": "markdown",
   "id": "2df2a484-4345-4f45-94f3-a4e9d0a0631e",
   "metadata": {},
   "source": [
    "<h2>Решение</h2>"
   ]
  },
  {
   "cell_type": "raw",
   "id": "32e36bf1-f665-4520-9592-4530d033d1d1",
   "metadata": {},
   "source": [
    "Будем проходить по шаблону и строке и смотреть, совпадает ли буква в строке с буквой шаблона.\n",
    "Если в шаблоне встречается ?, просто посмотрим есть ли в строке буква.\n",
    "А если в шаблоне встречается *, то будем смотреть рекурсивно соответствует ли строка без 1, 2, 3 и т. д. букв шаблону без *."
   ]
  },
  {
   "cell_type": "code",
   "execution_count": 1,
   "id": "17b2170c-1b79-4f03-a218-0ce701c59999",
   "metadata": {},
   "outputs": [],
   "source": [
    "cases = [\n",
    "\"\"\"\n",
    "*a*\n",
    "adce\n",
    "\n",
    "YES\n",
    "\"\"\"\n",
    ",\n",
    "\"\"\"\n",
    "*\n",
    "xyz\n",
    "\n",
    "YES\n",
    "\"\"\"\n",
    ",\n",
    "\"\"\"\n",
    "algorithms\n",
    "algorithmus\n",
    "\n",
    "NO\n",
    "\"\"\"\n",
    ",\n",
    "\"\"\"\n",
    "?\n",
    "k\n",
    "\n",
    "YES\n",
    "\"\"\"\n",
    "]"
   ]
  },
  {
   "cell_type": "code",
   "execution_count": null,
   "id": "17977ce0-09ca-4db9-bb91-0fbe68e102e4",
   "metadata": {},
   "outputs": [],
   "source": []
  },
  {
   "cell_type": "code",
   "execution_count": 2,
   "id": "8a6188dd-a7d8-49d5-b4a3-ba89fff75559",
   "metadata": {},
   "outputs": [],
   "source": [
    "def string_matches_template(s: str, template: str) -> bool:\n",
    "    if s == '':\n",
    "        if template == '':\n",
    "            return True\n",
    "        else:\n",
    "            return False\n",
    "\n",
    "    if template == '':\n",
    "        if s == '':\n",
    "            return True\n",
    "        else:\n",
    "            return False\n",
    "            \n",
    "    if s[0] == template[0] or template[0] == '?':\n",
    "        return string_matches_template(s[1:], template[1:])\n",
    "\n",
    "    if template[0] == '*':\n",
    "        for j in range(len(s)+1):\n",
    "            if string_matches_template(s[j:], template[1:]):\n",
    "                return True\n",
    "        else:\n",
    "            return False"
   ]
  },
  {
   "cell_type": "code",
   "execution_count": null,
   "id": "ca795783-ea91-4506-9372-af68dcafcdec",
   "metadata": {},
   "outputs": [],
   "source": []
  },
  {
   "cell_type": "code",
   "execution_count": 3,
   "id": "b0cb3949-6573-4c2b-b01d-c01635426403",
   "metadata": {},
   "outputs": [],
   "source": [
    "def test(case):\n",
    "    lines = case.split('\\n')[1:-1]\n",
    "    template = lines[0].strip()\n",
    "    string_to_check = lines[1].strip()\n",
    "    expected = lines[-1].strip()\n",
    "    actual_raw = string_matches_template(string_to_check, template)\n",
    "    actual = 'YES' if actual_raw else 'NO'\n",
    "    if actual == expected:\n",
    "        print('pass')\n",
    "    else:\n",
    "        print('fail')\n",
    "    print('\\texpected ', expected)\n",
    "    print('\\tactual   ', actual)"
   ]
  },
  {
   "cell_type": "code",
   "execution_count": 4,
   "id": "f05054e1-0ce3-4816-a6f8-8083501106cf",
   "metadata": {},
   "outputs": [
    {
     "name": "stdout",
     "output_type": "stream",
     "text": [
      "pass\n",
      "\texpected  YES\n",
      "\tactual    YES\n"
     ]
    }
   ],
   "source": [
    "test(cases[0])"
   ]
  },
  {
   "cell_type": "code",
   "execution_count": 5,
   "id": "fdc83857-a358-4aab-b7c0-a7b0da3cdaea",
   "metadata": {},
   "outputs": [
    {
     "name": "stdout",
     "output_type": "stream",
     "text": [
      "pass\n",
      "\texpected  YES\n",
      "\tactual    YES\n"
     ]
    }
   ],
   "source": [
    "test(cases[1])"
   ]
  },
  {
   "cell_type": "code",
   "execution_count": 6,
   "id": "82f91571-a318-4835-a731-c9d37629364a",
   "metadata": {},
   "outputs": [
    {
     "name": "stdout",
     "output_type": "stream",
     "text": [
      "pass\n",
      "\texpected  NO\n",
      "\tactual    NO\n"
     ]
    }
   ],
   "source": [
    "test(cases[2])"
   ]
  },
  {
   "cell_type": "code",
   "execution_count": 7,
   "id": "a68b4b1c-5bc7-4aab-9674-d43f103ed907",
   "metadata": {},
   "outputs": [
    {
     "name": "stdout",
     "output_type": "stream",
     "text": [
      "pass\n",
      "\texpected  YES\n",
      "\tactual    YES\n"
     ]
    }
   ],
   "source": [
    "test(cases[3])"
   ]
  },
  {
   "cell_type": "code",
   "execution_count": null,
   "id": "0f070b41-221e-4557-af57-496c68bd2ae0",
   "metadata": {},
   "outputs": [],
   "source": []
  },
  {
   "cell_type": "raw",
   "id": "68a8fa3d-3fba-4fc0-a8ed-7765bbd3bc91",
   "metadata": {},
   "source": [
    "На самом деле это не оптимальное решение, поскольку возможно потребуется проверять множество комбинаций повторно.\n",
    "Надо запоминать уже проверенные комбинации в словаре. В качестве ключей можно использовать кортеж из длин строки и словаря. "
   ]
  },
  {
   "cell_type": "code",
   "execution_count": 8,
   "id": "8d965b7a-3df6-40cd-9e4b-93f6bc97f1c6",
   "metadata": {},
   "outputs": [],
   "source": [
    "import random\n",
    "import string\n",
    "\n",
    "s_alpha = list(string.ascii_lowercase)\n",
    "t_alpha = s_alpha + ['?', '*']\n",
    "def make_big_case(n):\n",
    "    s = [s_alpha[random.randint(0, len(s_alpha)-1)] for _ in range(n)]\n",
    "    s = ''.join(s)\n",
    "    t = '*********'\n",
    "    return  (\n",
    "        '\\n' +\n",
    "        t + '\\n' +\n",
    "        s + '\\n' + \n",
    "        '\\n' + \n",
    "        'YES' + '\\n'\n",
    "        )"
   ]
  },
  {
   "cell_type": "code",
   "execution_count": null,
   "id": "32809620-a040-4b32-a574-6beadfbf9fbc",
   "metadata": {},
   "outputs": [],
   "source": []
  },
  {
   "cell_type": "code",
   "execution_count": 9,
   "id": "50d50eca-6040-4ddb-8c16-6a5a6ae5e3ed",
   "metadata": {},
   "outputs": [],
   "source": [
    "import time\n",
    "def test_big_case(case):\n",
    "    start = time.process_time()\n",
    "    test(case)\n",
    "    print('%0.2f sec' % ( time.process_time() - start))"
   ]
  },
  {
   "cell_type": "code",
   "execution_count": 10,
   "id": "245307f0-d6ea-4e15-8dfc-334a13f446f4",
   "metadata": {},
   "outputs": [],
   "source": [
    "n = 100_000\n",
    "big_case_1 = make_big_case(n)"
   ]
  },
  {
   "cell_type": "code",
   "execution_count": 11,
   "id": "886ebcc0-3abe-4920-b14c-bdb533e3caf7",
   "metadata": {},
   "outputs": [
    {
     "name": "stdout",
     "output_type": "stream",
     "text": [
      "pass\n",
      "\texpected  YES\n",
      "\tactual    YES\n",
      "0.16 sec\n"
     ]
    }
   ],
   "source": [
    "test_big_case(big_case_1)"
   ]
  },
  {
   "cell_type": "code",
   "execution_count": 21,
   "id": "51a89df7-c145-4ca1-b085-21303ece784f",
   "metadata": {},
   "outputs": [],
   "source": [
    "def solve(s, template, dp):\n",
    "    key = (len(s), len(template))\n",
    "    if key in dp:\n",
    "        return dp[key]\n",
    "\n",
    "    if s == '':\n",
    "        if template == '':\n",
    "            return True\n",
    "        else:\n",
    "            #dp[(0, len(template))] = False\n",
    "            return False\n",
    "\n",
    "    if template == '':\n",
    "        if s == '':\n",
    "            return True\n",
    "        else:\n",
    "            #dp[(len(s), 0)] = False\n",
    "            return False\n",
    "\n",
    "    if s[0] == template[0] or template[0] == '?':\n",
    "        result = solve(s[1:], template[1:], dp)\n",
    "        #dp[(len(s) - 1, len(template) - 1)] = result\n",
    "        return result\n",
    "\n",
    "    if template[0] == '*':\n",
    "        for j in range(len(s)+1):\n",
    "            if solve(s[j:], template[1:], dp):\n",
    "                #dp[(len(s) - j, len(template)-1)] = True\n",
    "                return True\n",
    "        else:\n",
    "            #dp[(len(s), len(template))] = False\n",
    "            return False\n",
    "\n",
    "def string_matches_template(s: str, template: str) -> bool:\n",
    "    \n",
    "    result = solve(s, template, {(0,0):True})\n",
    "    return result"
   ]
  },
  {
   "cell_type": "code",
   "execution_count": 22,
   "id": "46a59e36-cc4c-468e-aca8-8e7540ea2ae0",
   "metadata": {},
   "outputs": [
    {
     "name": "stdout",
     "output_type": "stream",
     "text": [
      "pass\n",
      "\texpected  YES\n",
      "\tactual    YES\n"
     ]
    }
   ],
   "source": [
    "test(cases[0])"
   ]
  },
  {
   "cell_type": "code",
   "execution_count": 23,
   "id": "f78358e3-4cd9-43a3-a923-466b6be793a6",
   "metadata": {},
   "outputs": [
    {
     "name": "stdout",
     "output_type": "stream",
     "text": [
      "pass\n",
      "\texpected  YES\n",
      "\tactual    YES\n"
     ]
    }
   ],
   "source": [
    "test(cases[1])"
   ]
  },
  {
   "cell_type": "code",
   "execution_count": 24,
   "id": "76311bd7-f19d-4dd0-ab9a-ced93f62db91",
   "metadata": {},
   "outputs": [
    {
     "name": "stdout",
     "output_type": "stream",
     "text": [
      "pass\n",
      "\texpected  NO\n",
      "\tactual    NO\n"
     ]
    }
   ],
   "source": [
    "test(cases[2])"
   ]
  },
  {
   "cell_type": "code",
   "execution_count": 25,
   "id": "fd04cd2d-39c1-4e41-acca-b65c1bf45a32",
   "metadata": {},
   "outputs": [
    {
     "name": "stdout",
     "output_type": "stream",
     "text": [
      "pass\n",
      "\texpected  YES\n",
      "\tactual    YES\n"
     ]
    }
   ],
   "source": [
    "test(cases[3])"
   ]
  },
  {
   "cell_type": "code",
   "execution_count": 26,
   "id": "dbb3f53a-e4c8-4a38-85f9-56fabef2c970",
   "metadata": {},
   "outputs": [
    {
     "name": "stdout",
     "output_type": "stream",
     "text": [
      "pass\n",
      "\texpected  YES\n",
      "\tactual    YES\n",
      "0.17 sec\n"
     ]
    }
   ],
   "source": [
    "test_big_case(big_case_1)"
   ]
  },
  {
   "cell_type": "code",
   "execution_count": 64,
   "id": "38f129ae-be58-4f4c-b98a-8b65f80e0c99",
   "metadata": {},
   "outputs": [],
   "source": [
    "def solve(s, t):\n",
    "\n",
    "    if not s and not t:\n",
    "        return True\n",
    "\n",
    "    if s and not t:\n",
    "        return False\n",
    "        \n",
    "    if t[-1] == '*':\n",
    "        for j in range(len(s)+1):\n",
    "            if solve(s[:len(s)-j], t[:-1]):\n",
    "                return True\n",
    "        else:\n",
    "            return False\n",
    "\n",
    "    if s[-1] == t[-1] or t[-1] == '?':\n",
    "        result = solve(s[:-1], t[:-1])\n",
    "        return result\n",
    "\n",
    "def string_matches_template(s: str, template: str) -> bool:\n",
    "    \n",
    "    result = solve(s, template)\n",
    "    return result\n",
    "\n",
    "\n",
    "def solve(s, t, dp):      \n",
    "    \n",
    "    if not s and not t:\n",
    "        return True\n",
    "        \n",
    "    if s and not t:\n",
    "        return False\n",
    "        \n",
    "    if t[0] == '*':\n",
    "        for j in range(len(s)+1):\n",
    "            #key = len(s) - j\n",
    "            \n",
    "            #if key not in dp:\n",
    "            #    dp[key] = s[j:]\n",
    "            \n",
    "            #sj = dp[key]\n",
    "            \n",
    "            if solve(s[j:], t[1:], dp):\n",
    "                return True\n",
    "        else:\n",
    "            return False\n",
    "            \n",
    "    if s[0] == t[0] or t[0] == '?':\n",
    "        #key = len(s) - 1\n",
    "        #if key not in dp:\n",
    "        #    dp[key] = s[1:]\n",
    "        #s1 = dp[key]\n",
    "            \n",
    "        result = solve(s[1:], t[1:], dp)\n",
    "        return result\n",
    "\n",
    "def string_matches_template(s: str, template: str) -> bool:\n",
    "    dp = {}\n",
    "    result = solve(s, template, dp)\n",
    "    return result\n",
    "\n",
    "\n",
    "def solve(s, t):\n",
    "    \n",
    "    if not s and not t:\n",
    "        return True\n",
    "\n",
    "    if s and not t:\n",
    "        return False\n",
    "\n",
    "    if t[0] == '*':\n",
    "        for j in range(len(s)+1):\n",
    "            if solve(s[j:], t[1:]):\n",
    "                return True\n",
    "        else:\n",
    "            return False\n",
    "            \n",
    "    if s[0] == t[0] or t[0] == '?':\n",
    "        result = solve(s[1:], t[1:])\n",
    "        return result\n",
    "\n",
    "def string_matches_template(s: str, template: str) -> bool:\n",
    "    t =  [template[0]]\n",
    "    for i in range(1,len(template)):\n",
    "        if template[i] == '*' and template[i-1] == '*':\n",
    "            continue\n",
    "        else:\n",
    "            t.append(template[i])\n",
    "    \n",
    "    result = solve(s, ''.join(t))\n",
    "    return result\n"
   ]
  },
  {
   "cell_type": "code",
   "execution_count": 65,
   "id": "37aa51b6-20c2-4bf8-bd78-ed39d4f98780",
   "metadata": {},
   "outputs": [
    {
     "name": "stdout",
     "output_type": "stream",
     "text": [
      "pass\n",
      "\texpected  YES\n",
      "\tactual    YES\n",
      "pass\n",
      "\texpected  YES\n",
      "\tactual    YES\n",
      "pass\n",
      "\texpected  NO\n",
      "\tactual    NO\n",
      "pass\n",
      "\texpected  YES\n",
      "\tactual    YES\n"
     ]
    }
   ],
   "source": [
    "test(cases[0])\n",
    "test(cases[1])\n",
    "test(cases[2])\n",
    "test(cases[3])"
   ]
  },
  {
   "cell_type": "code",
   "execution_count": 66,
   "id": "dc8232cf-edcd-4602-85be-d4095641478e",
   "metadata": {},
   "outputs": [
    {
     "name": "stdout",
     "output_type": "stream",
     "text": [
      "pass\n",
      "\texpected  YES\n",
      "\tactual    YES\n",
      "0.16 sec\n"
     ]
    }
   ],
   "source": [
    "test_big_case(big_case_1)"
   ]
  },
  {
   "cell_type": "code",
   "execution_count": null,
   "id": "cf1d6381-1a8d-49ea-8e04-6bc415a44c57",
   "metadata": {},
   "outputs": [],
   "source": []
  },
  {
   "cell_type": "code",
   "execution_count": null,
   "id": "08840b56-b1da-4fb5-8018-93679b8d41df",
   "metadata": {},
   "outputs": [],
   "source": []
  }
 ],
 "metadata": {
  "kernelspec": {
   "display_name": "Python 3 (ipykernel)",
   "language": "python",
   "name": "python3"
  },
  "language_info": {
   "codemirror_mode": {
    "name": "ipython",
    "version": 3
   },
   "file_extension": ".py",
   "mimetype": "text/x-python",
   "name": "python",
   "nbconvert_exporter": "python",
   "pygments_lexer": "ipython3",
   "version": "3.10.11"
  }
 },
 "nbformat": 4,
 "nbformat_minor": 5
}
