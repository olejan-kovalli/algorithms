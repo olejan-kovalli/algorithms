{
 "cells": [
  {
   "cell_type": "markdown",
   "id": "67146d38-7eee-4a65-a595-28027ed8ae61",
   "metadata": {},
   "source": [
    "<h1>Прямота</h1>"
   ]
  },
  {
   "cell_type": "raw",
   "id": "65ec67e0-8440-410d-841c-f6a9659f04d1",
   "metadata": {},
   "source": [
    "Вам даны n точек, расположенных на плоскости. Определите, лежат ли все эти точки на одной прямой. \n",
    "\n",
    "Формат ввода\n",
    "В первой строке дано число точек n (2≤n≤105). В следующих n строках по одной в строке заданы сами точки. Каждая точка задаётся двумя координатами — \n",
    "(xi, yi), записанными через пробел. Координаты — целые числа, не превосходящие 10**12 по модулю. Точки могут совпадать друг с другом.\n",
    "\n",
    "Формат вывода\n",
    "Выведите «YES», если все n точек лежат на одной прямой, и «NO», если нет.\n",
    "\n",
    "Пример 1\n",
    "Ввод\tВывод\n",
    "5\n",
    "32 6\n",
    "29 2\n",
    "32 6\n",
    "29 2\n",
    "35 10\n",
    "\n",
    "YES\n",
    "\n",
    "Пример 2\n",
    "Ввод\tВывод\n",
    "2\n",
    "-22 -75\n",
    "-30 -70\n",
    "YES\n",
    "\n",
    "Пример 3\n",
    "Ввод\tВывод\n",
    "4\n",
    "86 -93\n",
    "88 -91\n",
    "70 -81\n",
    "86 -93\n",
    "\n",
    "NO"
   ]
  },
  {
   "cell_type": "markdown",
   "id": "1d73e298-a0be-47e3-af6b-094c7ecb9cba",
   "metadata": {},
   "source": [
    "<h2>Решение</h2>"
   ]
  },
  {
   "cell_type": "raw",
   "id": "0ca99847-3083-4d1b-835f-8b2568c2eabf",
   "metadata": {},
   "source": [
    "Сначала нужно найти две несовпадающие точнки. Если таких нет, значит все лежат на одной прямой. \n",
    "Далее для всех точе будем смотреть по признаку подобных треугольников соотношение расстояний.\n",
    "Если встретится не лежащая на прямой изначально выбранных двух точек - возвращаем ложь.\n",
    "\n",
    "Сложность этого алгоритма O(N)."
   ]
  },
  {
   "cell_type": "code",
   "execution_count": 18,
   "id": "11749af6-3dc7-483e-a0bc-4ea54cd1a150",
   "metadata": {},
   "outputs": [],
   "source": [
    "from typing import List, Tuple\n",
    "\n",
    "def is_on_one_line(points: List[Tuple[int]]) -> bool:\n",
    "\n",
    "    p1 = points[0]\n",
    "    \n",
    "    for p in points:\n",
    "        if p != p1:\n",
    "            p2 = p\n",
    "            break\n",
    "\n",
    "    if not p2:\n",
    "        return True\n",
    "\n",
    "    for p in points:\n",
    "        if (p[0] - p1[0]) * (p2[1] - p1[1]) != (p[1] - p1[1]) * (p2[0] - p1[0]):\n",
    "            return False        \n",
    "    \n",
    "    return True"
   ]
  },
  {
   "cell_type": "code",
   "execution_count": 26,
   "id": "8d97ed00-326f-4a3e-a7f2-46d1db4e427a",
   "metadata": {},
   "outputs": [],
   "source": [
    "cases = [ \n",
    "\"\"\"\n",
    "5\n",
    "32 6\n",
    "29 2\n",
    "32 6\n",
    "29 2\n",
    "35 10\n",
    "\n",
    "True\n",
    "\"\"\"\n",
    ",\n",
    "\"\"\"\n",
    "2\n",
    "-22 -75\n",
    "-30 -70\n",
    "\n",
    "True\n",
    "\"\"\"\n",
    ",\n",
    "\"\"\"\n",
    "4\n",
    "86 -93\n",
    "88 -91\n",
    "70 -81\n",
    "86 -93\n",
    "\n",
    "False\n",
    "\"\"\"\n",
    "]"
   ]
  },
  {
   "cell_type": "code",
   "execution_count": 27,
   "id": "fceb7af0-3599-4add-9e2e-591c924dbacf",
   "metadata": {},
   "outputs": [],
   "source": [
    "def parse_case(case):\n",
    "    lines = case.split('\\n')[1:-1]\n",
    "    n = int(lines[0])\n",
    "    points = []\n",
    "    for i in range(n):\n",
    "        x, y = map(int, lines[i+1].split())\n",
    "        points.append((x, y))\n",
    "\n",
    "    outp = lines[-1].strip() == 'True'\n",
    "    \n",
    "    return (points,), outp"
   ]
  },
  {
   "cell_type": "code",
   "execution_count": 28,
   "id": "0b56c11c-e355-447f-a9dd-05e119809679",
   "metadata": {},
   "outputs": [],
   "source": [
    "from testing import Tester"
   ]
  },
  {
   "cell_type": "code",
   "execution_count": 29,
   "id": "aef9aa42-1990-43c8-9e70-ba5fbe3f2844",
   "metadata": {},
   "outputs": [],
   "source": [
    "t = Tester(parse_case, is_on_one_line)"
   ]
  },
  {
   "cell_type": "code",
   "execution_count": 30,
   "id": "a39f6c5d-ce14-4e2b-ac7b-1c380a24c171",
   "metadata": {},
   "outputs": [
    {
     "name": "stdout",
     "output_type": "stream",
     "text": [
      "pass\n",
      "\texpected  True\n",
      "\tactual    True\n"
     ]
    }
   ],
   "source": [
    "t.test(cases[0])"
   ]
  },
  {
   "cell_type": "code",
   "execution_count": 31,
   "id": "f0069728-6a84-4a8b-bac5-7a34e22d55f1",
   "metadata": {},
   "outputs": [
    {
     "name": "stdout",
     "output_type": "stream",
     "text": [
      "pass\n",
      "\texpected  True\n",
      "\tactual    True\n"
     ]
    }
   ],
   "source": [
    "t.test(cases[1])"
   ]
  },
  {
   "cell_type": "code",
   "execution_count": 32,
   "id": "4b637546-6d8b-4bf4-8247-a6095326efe5",
   "metadata": {},
   "outputs": [
    {
     "name": "stdout",
     "output_type": "stream",
     "text": [
      "pass\n",
      "\texpected  False\n",
      "\tactual    False\n"
     ]
    }
   ],
   "source": [
    "t.test(cases[2])"
   ]
  },
  {
   "cell_type": "code",
   "execution_count": null,
   "id": "ec589acb-e286-48e8-a7b2-50bb66a47c9e",
   "metadata": {},
   "outputs": [],
   "source": []
  }
 ],
 "metadata": {
  "kernelspec": {
   "display_name": "Python 3 (ipykernel)",
   "language": "python",
   "name": "python3"
  },
  "language_info": {
   "codemirror_mode": {
    "name": "ipython",
    "version": 3
   },
   "file_extension": ".py",
   "mimetype": "text/x-python",
   "name": "python",
   "nbconvert_exporter": "python",
   "pygments_lexer": "ipython3",
   "version": "3.10.11"
  }
 },
 "nbformat": 4,
 "nbformat_minor": 5
}
