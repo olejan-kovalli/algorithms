{
 "cells": [
  {
   "cell_type": "markdown",
   "id": "bdadee49-f4c5-456f-ae0e-508b10c20b09",
   "metadata": {},
   "source": [
    "<h1>Атака клонов</h1>"
   ]
  },
  {
   "cell_type": "raw",
   "id": "b51dd440-0cde-43e1-95fc-942719bf282b",
   "metadata": {},
   "source": [
    "В этой задаче требуется создать копию связного графа. Оригинальный граф задается одной вершиной. Вершина содержит свое уникальное значение – value, и список соседей neighbours. Граф будет считаться копией, если в графе-копии есть связь между вершинами со значениями v1 и v2 тогда и только тогда, когда она есть в оригинальном графе. Все вершины графа-копии должны быть созданы заново, то есть нельзя переиспользовать вершины из оригинального графа. Создавайте новые вершины с помощью публичных конструкторов и фабричных методов, указанных в шаблонах.\n",
    "\n",
    "Формат ввода\n",
    "Функция cloneGraph принимает стартовую вершину, которая принадлежит оригинальному графу.\n",
    "Точные сигнатуры вы найдете в шаблонах, расположенных на диске.\n",
    "Гарантируется, что число вершин и рёбер графа не превосходит 10**5.\n",
    "\n",
    "Формат вывода\n",
    "Функция cloneGraph должна возвращать вершину, являющуюся копией стартовой вершины в оригинальном графе."
   ]
  },
  {
   "cell_type": "markdown",
   "id": "2df2a484-4345-4f45-94f3-a4e9d0a0631e",
   "metadata": {},
   "source": [
    "<h2>Решение</h2>"
   ]
  },
  {
   "cell_type": "raw",
   "id": "32e36bf1-f665-4520-9592-4530d033d1d1",
   "metadata": {},
   "source": [
    "Самый простой способ скопировать все вершины, а потом установить связи. Для обходя по графу будем использовать рекурсию"
   ]
  },
  {
   "cell_type": "code",
   "execution_count": 12,
   "id": "8a6188dd-a7d8-49d5-b4a3-ba89fff75559",
   "metadata": {},
   "outputs": [],
   "source": [
    "#from node import Node\n",
    "\n",
    "# Comment it before submitting\n",
    "class Node:\n",
    "    def __init__(self, val):\n",
    "        self.val = val\n",
    "        self.neighbours = []\n",
    "\n",
    "def findAllNodes(node, visited):\n",
    "    result = [node]\n",
    "    visited.append(id(node))\n",
    "    for nbr in node.neighbours:\n",
    "        if id(nbr) not in visited:\n",
    "            visited.append(id(nbr))\n",
    "            result += findAllNodes(nbr, visited)\n",
    "\n",
    "    return result\n",
    "        \n",
    "def cloneGraph(node) -> Node:\n",
    "    old_nodes = findAllNodes(node, [])\n",
    "\n",
    "    new_nodes = {}\n",
    "    \n",
    "    for on in old_nodes:\n",
    "        nn = Node(on.val)\n",
    "        new_nodes[id(on)] = nn\n",
    "\n",
    "    for on in old_nodes:\n",
    "        nn = new_nodes[id(on)]\n",
    "        for nbr in on.neighbours:\n",
    "            nn.neighbours.append(new_nodes[id(nbr)])\n",
    "\n",
    "    return new_nodes[id(node)]"
   ]
  },
  {
   "cell_type": "code",
   "execution_count": 13,
   "id": "156e9033-b0cd-4a85-a146-3e04a94d23fa",
   "metadata": {},
   "outputs": [],
   "source": [
    "n1 = Node(1)\n",
    "n2 = Node(2)\n",
    "n3 = Node(3)"
   ]
  },
  {
   "cell_type": "code",
   "execution_count": 14,
   "id": "728a51ae-e992-48b2-a6eb-ab5aceb4e5e1",
   "metadata": {},
   "outputs": [],
   "source": [
    "n1.neighbours = [n2,n3]\n",
    "n2.neighbours = [n1,n3]\n",
    "n3.neighbours = [n1,n2]"
   ]
  },
  {
   "cell_type": "code",
   "execution_count": 15,
   "id": "1fbb1043-b6ac-4448-b990-c94a53569f59",
   "metadata": {},
   "outputs": [
    {
     "data": {
      "text/plain": [
       "[<__main__.Node at 0x1be50455b70>,\n",
       " <__main__.Node at 0x1be50455d80>,\n",
       " <__main__.Node at 0x1be50455f90>]"
      ]
     },
     "execution_count": 15,
     "metadata": {},
     "output_type": "execute_result"
    }
   ],
   "source": [
    "findAllNodes(n1, [])"
   ]
  },
  {
   "cell_type": "code",
   "execution_count": 16,
   "id": "5fe55fd6-fc29-4fd6-bd1e-3a51ea7c7e37",
   "metadata": {},
   "outputs": [],
   "source": [
    "n4 = cloneGraph(n1)"
   ]
  },
  {
   "cell_type": "code",
   "execution_count": 17,
   "id": "309180c0-3ede-48fc-9c2c-407f96214377",
   "metadata": {},
   "outputs": [
    {
     "data": {
      "text/plain": [
       "[<__main__.Node at 0x1be504547f0>,\n",
       " <__main__.Node at 0x1be504542b0>,\n",
       " <__main__.Node at 0x1be50454a90>]"
      ]
     },
     "execution_count": 17,
     "metadata": {},
     "output_type": "execute_result"
    }
   ],
   "source": [
    "findAllNodes(n4, [])"
   ]
  },
  {
   "cell_type": "code",
   "execution_count": null,
   "id": "58fae126-643a-454b-aca6-63d965113a75",
   "metadata": {},
   "outputs": [],
   "source": [
    "Но это не оптимальное решение. Лучше сразу создавать клоны и переводить на них указатели."
   ]
  },
  {
   "cell_type": "code",
   "execution_count": 22,
   "id": "76dc8504-91ea-469a-a41c-e9e39a0db8e9",
   "metadata": {},
   "outputs": [],
   "source": [
    "def cloneGraphRec(node, clones_map):\n",
    "    clone = Node(node.val)\n",
    "    clones_map[id(node)] = clone \n",
    "    \n",
    "    for nbr in node.neighbours:        \n",
    "        if id(nbr) in clones_map:\n",
    "            clone.neighbours.append(clones_map[id(nbr)])\n",
    "        else:\n",
    "            clone.neighbours.append(cloneGraphRec(nbr, clones_map))\n",
    "\n",
    "    return clone\n",
    "        \n",
    "    \n",
    "def cloneGraph(node) -> Node:\n",
    "    \n",
    "    return cloneGraphRec(node, {})"
   ]
  },
  {
   "cell_type": "code",
   "execution_count": 25,
   "id": "b9e57152-f87e-44cd-83a7-941cbcb4156d",
   "metadata": {},
   "outputs": [],
   "source": [
    "n7 = cloneGraph(n4)"
   ]
  },
  {
   "cell_type": "code",
   "execution_count": 26,
   "id": "741f4235-d955-4920-8c86-483d4115f962",
   "metadata": {},
   "outputs": [
    {
     "data": {
      "text/plain": [
       "[<__main__.Node at 0x1be50457910>,\n",
       " <__main__.Node at 0x1be50454f70>,\n",
       " <__main__.Node at 0x1be50454850>]"
      ]
     },
     "execution_count": 26,
     "metadata": {},
     "output_type": "execute_result"
    }
   ],
   "source": [
    "findAllNodes(n7, [])"
   ]
  },
  {
   "cell_type": "code",
   "execution_count": null,
   "id": "a604c775-ec4f-4ce2-8bbb-77fa826ec7a9",
   "metadata": {},
   "outputs": [],
   "source": []
  }
 ],
 "metadata": {
  "kernelspec": {
   "display_name": "Python 3 (ipykernel)",
   "language": "python",
   "name": "python3"
  },
  "language_info": {
   "codemirror_mode": {
    "name": "ipython",
    "version": 3
   },
   "file_extension": ".py",
   "mimetype": "text/x-python",
   "name": "python",
   "nbconvert_exporter": "python",
   "pygments_lexer": "ipython3",
   "version": "3.10.11"
  }
 },
 "nbformat": 4,
 "nbformat_minor": 5
}
