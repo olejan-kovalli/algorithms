{
 "cells": [
  {
   "cell_type": "markdown",
   "id": "bdadee49-f4c5-456f-ae0e-508b10c20b09",
   "metadata": {},
   "source": [
    "<h1>Пересечение отрезков</h1>"
   ]
  },
  {
   "cell_type": "raw",
   "id": "b51dd440-0cde-43e1-95fc-942719bf282b",
   "metadata": {},
   "source": [
    "Вам даны две последовательности отрезков. Каждый отрезок задаётся координатой начала и конца — [start_i, end_i]. \n",
    "Отрезки каждой последовательности отсортированы слева направо и не имеют общих точек.\n",
    "Найдите пересечение двух последовательностей отрезков. То есть третью последовательность отрезков, такую, что:\n",
    "    Каждый отрезок содержится в некотором отрезке и первой, и второй последовательности;\n",
    "    Никакой отрезок нельзя увеличить;\n",
    "    Отрезки этой последовательности не имеют общих точек;\n",
    "    Отрезки в последовательности также отсортированы в порядке возрастания.\n",
    "\n",
    "Формат ввода\n",
    "В первой строке дано число отрезков в первой последовательности n (0≤n≤100000).\n",
    "В следующих n строках даны отрезки первой последовательности по одному на строке. \n",
    "Каждый отрезок записан в формате start_i end_i, координаты начала и конца целые неотрицательные числа, \n",
    "не превосходящие по модулю 10**9. \n",
    "В строке n+2 дана длина второй последовательности m, (0≤m≤100000).\n",
    "В следующих m строках заданы отрезки второй последовательности. Гарантируется, что end_i < start_i + 1, а также что end_i − start_i > 0.\n",
    "\n",
    "Формат вывода\n",
    "Выведите по одному в строке отсортированные отрезки из пересечения последовательностей в том же формате, что и во входных данных. Заметьте, что длина отрезков в пересечении может быть нулевой, в этом случае start_i = end_i.\n",
    "\n",
    "Пример 1\n",
    "Ввод\n",
    "3\n",
    "1 4\n",
    "5 10\n",
    "15 16\n",
    "2\n",
    "0 2\n",
    "4 5\n",
    "Вывод\n",
    "1 2\n",
    "4 4\n",
    "5 5\n",
    "\n",
    "Пример 2\n",
    "Ввод\t\n",
    "1\n",
    "1 4\n",
    "1\n",
    "1 4\n",
    "Вывод\n",
    "1 4"
   ]
  },
  {
   "cell_type": "markdown",
   "id": "2df2a484-4345-4f45-94f3-a4e9d0a0631e",
   "metadata": {},
   "source": [
    "<h2>Решение</h2>"
   ]
  },
  {
   "cell_type": "raw",
   "id": "32e36bf1-f665-4520-9592-4530d033d1d1",
   "metadata": {},
   "source": [
    "Будем проходить по отрезкам первой последовательности и искать пересечение с отрезками из второй последовательности. \n",
    "Для того чтобы не делать заведомо бесполезных сравнений будем запоминать последний обработанный отрезок из второй последовательности. \n",
    "С него и будем начинать обработку на следующем шаге. "
   ]
  },
  {
   "cell_type": "code",
   "execution_count": null,
   "id": "17977ce0-09ca-4db9-bb91-0fbe68e102e4",
   "metadata": {},
   "outputs": [],
   "source": [
    "Сложность O(N)"
   ]
  },
  {
   "cell_type": "code",
   "execution_count": 49,
   "id": "8a6188dd-a7d8-49d5-b4a3-ba89fff75559",
   "metadata": {},
   "outputs": [],
   "source": [
    "from typing import List, Tuple\n",
    "\n",
    "\n",
    "def get_intersection(first_sequence: List[Tuple[int]], second_sequence: List[Tuple[int]]) -> List[Tuple[int]]:\n",
    "    \n",
    "    fs = first_sequence\n",
    "    ss = second_sequence\n",
    "\n",
    "    print(fs)\n",
    "    print(ss)\n",
    "    \n",
    "    if not fs or not ss:\n",
    "        return []\n",
    "            \n",
    "    if fs[-1][1] < ss[0][0] or ss[-1][1] < fs[0][0]:\n",
    "        return []\n",
    "\n",
    "    result = []\n",
    "    last_j = 0\n",
    "    \n",
    "    for s1 in fs:\n",
    "        if ss[-1][1] < s1[0]:\n",
    "            break\n",
    "            \n",
    "        for j in range(last_j, len(ss)):\n",
    "            s2 = ss[j]\n",
    "            if s2[1] < s1[0]:\n",
    "                continue\n",
    "            \n",
    "            if s1[1] < s2[0]:\n",
    "                break\n",
    "                \n",
    "            start = max(s1[0], s2[0])\n",
    "            end = min(s1[1], s2[1])\n",
    "\n",
    "            s3 = (start, end)\n",
    "            result.append(s3)\n",
    "            last_j = j\n",
    "    \n",
    "    return result"
   ]
  },
  {
   "cell_type": "code",
   "execution_count": null,
   "id": "2c433928-7fbc-4a39-9fcf-117892cf19d5",
   "metadata": {},
   "outputs": [],
   "source": []
  },
  {
   "cell_type": "code",
   "execution_count": 50,
   "id": "17b2170c-1b79-4f03-a218-0ce701c59999",
   "metadata": {},
   "outputs": [],
   "source": [
    "cases = [\n",
    "\"\"\"\n",
    "3\n",
    "1 4\n",
    "5 10\n",
    "15 16\n",
    "2\n",
    "0 2\n",
    "4 5\n",
    "\n",
    "1 2\n",
    "4 4\n",
    "5 5\n",
    "\"\"\"\n",
    ",\n",
    "\"\"\"\n",
    "1\n",
    "1 4\n",
    "1\n",
    "1 4\n",
    "\n",
    "1 4\n",
    "\"\"\"\n",
    "]"
   ]
  },
  {
   "cell_type": "code",
   "execution_count": 51,
   "id": "03178ffe-ae57-41c8-9aed-a3c6e5d525e9",
   "metadata": {},
   "outputs": [],
   "source": [
    "def parse_case(case) -> List[Tuple[int]]:\n",
    "    lines = case.split('\\n')[1:-1]\n",
    "    n = int(lines[0])\n",
    "    s1 = []    \n",
    "    for i in range(1, n+1):\n",
    "        start, end = map(int, lines[i].split())\n",
    "        s1.append((start, end))\n",
    "    \n",
    "    m = int(lines[n+1])\n",
    "    s2 = []\n",
    "    for i in range(n+2, n+2+m):\n",
    "        start, end = map(int, lines[i].split())\n",
    "        s2.append((start, end))\n",
    "\n",
    "    outp = []\n",
    "    for i in range(n+3+m,len(lines)):\n",
    "        outp.append(tuple(map(int, lines[i].split())))\n",
    "\n",
    "    inp = (s1, s2)\n",
    "    \n",
    "    return inp, outp\n",
    "\n",
    "def print_sequence(sequence: List[Tuple[int]]) -> None:\n",
    "    for segment in sequence:\n",
    "        print(segment[0], segment[1])"
   ]
  },
  {
   "cell_type": "code",
   "execution_count": 52,
   "id": "e9e9a312-0a63-41bf-8f32-f898ac0a9203",
   "metadata": {},
   "outputs": [],
   "source": [
    "import testing"
   ]
  },
  {
   "cell_type": "code",
   "execution_count": 53,
   "id": "ca795783-ea91-4506-9372-af68dcafcdec",
   "metadata": {},
   "outputs": [],
   "source": [
    "t = testing.Tester(parse_case, get_intersection)"
   ]
  },
  {
   "cell_type": "code",
   "execution_count": 54,
   "id": "f05054e1-0ce3-4816-a6f8-8083501106cf",
   "metadata": {},
   "outputs": [
    {
     "name": "stdout",
     "output_type": "stream",
     "text": [
      "[(1, 4), (5, 10), (15, 16)]\n",
      "[(0, 2), (4, 5)]\n",
      "pass\n",
      "\texpected  [(1, 2), (4, 4), (5, 5)]\n",
      "\tactual    [(1, 2), (4, 4), (5, 5)]\n"
     ]
    }
   ],
   "source": [
    "t.test(cases[0])"
   ]
  },
  {
   "cell_type": "code",
   "execution_count": 55,
   "id": "fdc83857-a358-4aab-b7c0-a7b0da3cdaea",
   "metadata": {},
   "outputs": [
    {
     "name": "stdout",
     "output_type": "stream",
     "text": [
      "[(1, 4)]\n",
      "[(1, 4)]\n",
      "pass\n",
      "\texpected  [(1, 4)]\n",
      "\tactual    [(1, 4)]\n"
     ]
    }
   ],
   "source": [
    "t.test(cases[1])"
   ]
  },
  {
   "cell_type": "code",
   "execution_count": null,
   "id": "cf1d6381-1a8d-49ea-8e04-6bc415a44c57",
   "metadata": {},
   "outputs": [],
   "source": []
  },
  {
   "cell_type": "code",
   "execution_count": null,
   "id": "08840b56-b1da-4fb5-8018-93679b8d41df",
   "metadata": {},
   "outputs": [],
   "source": []
  }
 ],
 "metadata": {
  "kernelspec": {
   "display_name": "Python 3 (ipykernel)",
   "language": "python",
   "name": "python3"
  },
  "language_info": {
   "codemirror_mode": {
    "name": "ipython",
    "version": 3
   },
   "file_extension": ".py",
   "mimetype": "text/x-python",
   "name": "python",
   "nbconvert_exporter": "python",
   "pygments_lexer": "ipython3",
   "version": "3.10.11"
  }
 },
 "nbformat": 4,
 "nbformat_minor": 5
}
