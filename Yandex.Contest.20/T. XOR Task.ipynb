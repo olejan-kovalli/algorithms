{
 "cells": [
  {
   "cell_type": "markdown",
   "id": "67146d38-7eee-4a65-a595-28027ed8ae61",
   "metadata": {},
   "source": [
    "<h1>XORошая задача</h1>"
   ]
  },
  {
   "cell_type": "raw",
   "id": "65ec67e0-8440-410d-841c-f6a9659f04d1",
   "metadata": {},
   "source": [
    "В этой задаче требуется по заданному массиву длины n найти два его элемента x[i] и x[j] (1≤i≤j≤n), которые давали бы максимальное значение функции \n",
    "x[i]⊕x[j], где под ⊕ подразумевается операция побитового исключающего «или», то есть xor.\n",
    "Вы можете воспользоваться заготовками кода для данной задачи из репозитория курса.\n",
    "\n",
    "Формат ввода\n",
    "В первой строке дан размер массива n (1≤n≤10**5). Во второй строке через пробел записаны n целых чисел x[i] (1≤x[i]≤2**31−1)\n",
    "\n",
    "Формат вывода\n",
    "Выведите единственное число — максимальное значение xor-а, которое можно получить.\n",
    "\n",
    "Пример 1\n",
    "Ввод\t\n",
    "5\n",
    "1 8 3 1 4\n",
    "Вывод\n",
    "12\n",
    "\n",
    "Пример 2\n",
    "Ввод\t\n",
    "3\n",
    "4 8 1024\n",
    "Вывод\n",
    "1032\n",
    "\n",
    "Пример 3\n",
    "Ввод\t\n",
    "2\n",
    "10 10\n",
    "Вывод\n",
    "0\n"
   ]
  },
  {
   "cell_type": "markdown",
   "id": "1d73e298-a0be-47e3-af6b-094c7ecb9cba",
   "metadata": {},
   "source": [
    "<h2>Решение</h2>"
   ]
  },
  {
   "cell_type": "raw",
   "id": "0ca99847-3083-4d1b-835f-8b2568c2eabf",
   "metadata": {},
   "source": [
    "Для каждого числа будем искать пару и отслеживать максимум. Сложность O(N**2)."
   ]
  },
  {
   "cell_type": "code",
   "execution_count": 78,
   "id": "1fc8f6d9-fb46-4a92-b0c1-b68f73ea1877",
   "metadata": {},
   "outputs": [],
   "source": [
    "from typing import List\n",
    "\n",
    "def get_max_xor(numbers: List[int]) -> int:\n",
    "\n",
    "    x = numbers\n",
    "    n = len(x)\n",
    "\n",
    "    max_xor = 0\n",
    "    for i in range(n-1):\n",
    "        for j in range(i,n):\n",
    "            xor = x[i] ^ x[j] \n",
    "            if xor > max_xor:\n",
    "                max_xor = xor \n",
    "    \n",
    "    return max_xor"
   ]
  },
  {
   "cell_type": "code",
   "execution_count": 79,
   "id": "fdc4fed5-728b-4a6e-a30a-3511e9746c92",
   "metadata": {},
   "outputs": [],
   "source": [
    "from testing import Tester"
   ]
  },
  {
   "cell_type": "code",
   "execution_count": 80,
   "id": "83d3e4dd-aea5-4425-a788-c343ea3cad97",
   "metadata": {},
   "outputs": [],
   "source": [
    "cases = [\n",
    "\"\"\"\n",
    "5\n",
    "1 8 3 1 4\n",
    "\n",
    "12\n",
    "\"\"\"\n",
    ",\n",
    "\"\"\"\n",
    "3\n",
    "4 8 1024\n",
    "\n",
    "1032\n",
    "\"\"\"\n",
    ",\n",
    "\"\"\"\n",
    "2\n",
    "10 10\n",
    "\n",
    "0\n",
    "\"\"\"\n",
    "]"
   ]
  },
  {
   "cell_type": "code",
   "execution_count": 81,
   "id": "e0d12f8c-8c71-4e7d-a149-371e33a27bcd",
   "metadata": {},
   "outputs": [],
   "source": [
    "def parse_case(case):\n",
    "    lines = case.split('\\n')[1:-1]\n",
    "    nums = list(map(int, lines[1].split()))\n",
    "    outp = int(lines[-1])\n",
    "\n",
    "    return (nums,), outp"
   ]
  },
  {
   "cell_type": "code",
   "execution_count": 82,
   "id": "f56a4cb6-09d0-4af7-a4a2-c24868098921",
   "metadata": {},
   "outputs": [],
   "source": [
    "t = Tester(parse_case, get_max_xor)"
   ]
  },
  {
   "cell_type": "code",
   "execution_count": 83,
   "id": "5b8ceb3a-54d0-427c-bf9c-6e5adea769b7",
   "metadata": {},
   "outputs": [
    {
     "name": "stdout",
     "output_type": "stream",
     "text": [
      "pass\n",
      "\texpected  12\n",
      "\tactual    12\n"
     ]
    }
   ],
   "source": [
    "t.test(cases[0])"
   ]
  },
  {
   "cell_type": "code",
   "execution_count": 84,
   "id": "08ccce1c-0790-432a-8eb4-ecee4efa9f24",
   "metadata": {},
   "outputs": [
    {
     "name": "stdout",
     "output_type": "stream",
     "text": [
      "pass\n",
      "\texpected  1032\n",
      "\tactual    1032\n"
     ]
    }
   ],
   "source": [
    "t.test(cases[1])"
   ]
  },
  {
   "cell_type": "code",
   "execution_count": 85,
   "id": "a343ab96-db78-400f-aafb-a8c166c337cc",
   "metadata": {},
   "outputs": [
    {
     "name": "stdout",
     "output_type": "stream",
     "text": [
      "pass\n",
      "\texpected  0\n",
      "\tactual    0\n"
     ]
    }
   ],
   "source": [
    "t.test(cases[2])"
   ]
  },
  {
   "cell_type": "code",
   "execution_count": null,
   "id": "59b4bee3-450c-4275-a52c-1838b4c28e86",
   "metadata": {},
   "outputs": [],
   "source": []
  },
  {
   "cell_type": "code",
   "execution_count": 86,
   "id": "98f52ead-ff44-4c72-bf22-0ef820451967",
   "metadata": {},
   "outputs": [],
   "source": [
    "import random\n",
    "def make_big_case(n):\n",
    "    case = '\\n'\n",
    "    case += str(n) + '\\n'\n",
    "    case += ' '.join(str(random.randint(0,n)) for _ in range(n)) + '\\n'\n",
    "    case += '\\n'\n",
    "    case +='-1\\n'\n",
    "    return case"
   ]
  },
  {
   "cell_type": "code",
   "execution_count": 87,
   "id": "cf536b9c-42ab-4c90-90b3-b9b080fa98b6",
   "metadata": {},
   "outputs": [],
   "source": [
    "n=10_000\n",
    "bc1 = make_big_case(n)\n",
    "bc2 = make_big_case(2*n)"
   ]
  },
  {
   "cell_type": "code",
   "execution_count": null,
   "id": "0cde0f40-1137-42d3-82bd-81dceffd60be",
   "metadata": {},
   "outputs": [],
   "source": []
  },
  {
   "cell_type": "code",
   "execution_count": 88,
   "id": "e895d50e-82d9-4632-964d-117bcb35708c",
   "metadata": {},
   "outputs": [
    {
     "name": "stdout",
     "output_type": "stream",
     "text": [
      "fail\n",
      "\texpected  -1\n",
      "\tactual    16383\n",
      "3.56 sec\n"
     ]
    }
   ],
   "source": [
    "t.test_big_case(bc1)"
   ]
  },
  {
   "cell_type": "code",
   "execution_count": 89,
   "id": "6772b496-c0d2-4c8e-a8b1-2c006f371876",
   "metadata": {},
   "outputs": [
    {
     "name": "stdout",
     "output_type": "stream",
     "text": [
      "fail\n",
      "\texpected  -1\n",
      "\tactual    32767\n",
      "12.31 sec\n"
     ]
    }
   ],
   "source": [
    "t.test_big_case(bc2)"
   ]
  },
  {
   "cell_type": "code",
   "execution_count": null,
   "id": "a66d4f37-20cb-4b32-9adf-04ae85c9feef",
   "metadata": {},
   "outputs": [],
   "source": [
    "Оптимизируем алгоритм. если отсортировать список по убыванию, тогда можно останавливать поиск по j как только будет достигнута точка,\n",
    "после которой дальнейший поиск является бесперспективным"
   ]
  },
  {
   "cell_type": "code",
   "execution_count": 127,
   "id": "5aca9802-b3a8-4146-8fbf-31fdaa06dcb2",
   "metadata": {},
   "outputs": [],
   "source": [
    "from typing import List\n",
    "\n",
    "pow2 = []\n",
    "for i in range(32):\n",
    "    pow2.append(2**i)\n",
    "\n",
    "def get_max_xor(numbers: List[int]) -> int:\n",
    "\n",
    "    n = len(numbers)\n",
    "\n",
    "    sn = sorted(numbers,reverse=True)\n",
    "\n",
    "    result = -1\n",
    "\n",
    "    for i in range(n-1):\n",
    "        xi = sn[i]\n",
    "        \n",
    "        result = max(result, max([xi^xj for xj in sn[i+1:]]))\n",
    "        \n",
    "        imax = next(i for i,x in enumerate(pow2) if result <= x)\n",
    "\n",
    "        if imax > 0 and xi <= pow2[imax-1]:\n",
    "            break\n",
    "\n",
    "    return result"
   ]
  },
  {
   "cell_type": "code",
   "execution_count": 128,
   "id": "7cb7055e-4236-4d62-a343-ebf004256aa9",
   "metadata": {},
   "outputs": [],
   "source": [
    "t = Tester(parse_case, get_max_xor)"
   ]
  },
  {
   "cell_type": "code",
   "execution_count": 129,
   "id": "8f3ba282-f5ad-4768-82fb-faf36731d64d",
   "metadata": {},
   "outputs": [
    {
     "name": "stdout",
     "output_type": "stream",
     "text": [
      "pass\n",
      "\texpected  12\n",
      "\tactual    12\n",
      "pass\n",
      "\texpected  1032\n",
      "\tactual    1032\n",
      "pass\n",
      "\texpected  0\n",
      "\tactual    0\n"
     ]
    }
   ],
   "source": [
    "for case in cases:\n",
    "    t.test(case)"
   ]
  },
  {
   "cell_type": "code",
   "execution_count": 130,
   "id": "457e7dbb-985a-4b5d-a4bf-b70a853be918",
   "metadata": {},
   "outputs": [
    {
     "name": "stdout",
     "output_type": "stream",
     "text": [
      "fail\n",
      "\texpected  -1\n",
      "\tactual    16383\n",
      "0.84 sec\n"
     ]
    }
   ],
   "source": [
    "t.test_big_case(bc1)"
   ]
  },
  {
   "cell_type": "code",
   "execution_count": 131,
   "id": "e43c4a82-1509-4160-9950-8ad8c468df23",
   "metadata": {},
   "outputs": [
    {
     "name": "stdout",
     "output_type": "stream",
     "text": [
      "fail\n",
      "\texpected  -1\n",
      "\tactual    32767\n",
      "2.91 sec\n"
     ]
    }
   ],
   "source": [
    "t.test_big_case(bc2)"
   ]
  },
  {
   "cell_type": "code",
   "execution_count": null,
   "id": "5e56e4d4-3e4d-4c46-83da-379add2b2e2a",
   "metadata": {},
   "outputs": [],
   "source": []
  },
  {
   "cell_type": "code",
   "execution_count": null,
   "id": "1c5a76f7-481d-4e5b-9155-bf94d6ed24e0",
   "metadata": {},
   "outputs": [],
   "source": []
  }
 ],
 "metadata": {
  "kernelspec": {
   "display_name": "Python 3 (ipykernel)",
   "language": "python",
   "name": "python3"
  },
  "language_info": {
   "codemirror_mode": {
    "name": "ipython",
    "version": 3
   },
   "file_extension": ".py",
   "mimetype": "text/x-python",
   "name": "python",
   "nbconvert_exporter": "python",
   "pygments_lexer": "ipython3",
   "version": "3.10.11"
  }
 },
 "nbformat": 4,
 "nbformat_minor": 5
}
