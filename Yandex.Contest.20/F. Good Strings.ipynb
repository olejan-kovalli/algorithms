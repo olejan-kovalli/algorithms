{
 "cells": [
  {
   "cell_type": "markdown",
   "id": "c26c1365-4593-4459-bda1-156df59e71c7",
   "metadata": {},
   "source": [
    "<h1>Хорошие строки</h1>"
   ]
  },
  {
   "cell_type": "raw",
   "id": "87d63fbf-dffb-4dab-8fdb-87b6f278aefe",
   "metadata": {},
   "source": [
    "Назовем строку хорошей, если в ней нет двух соседних букв, которые различаются только регистром. \n",
    "Например, строка «abba» хорошая, а строка «aBba» нет. \n",
    "Со строкой можно делать преобразование: если два соседних символа обозначают одну и ту же букву, \n",
    "но записаны в разных регистрах, то их можно удалить. При этом строка «схлопнется», то есть пробелов при удалении не образуется.\n",
    "Цепочкой таких преобразований можно превратить любую строку в хорошую. По заданной строке найдите хорошую строку, \n",
    "в которую ее можно превратить.\n",
    "\n",
    "Формат ввода\n",
    "На вход подаётся строка, состоящая из больших и маленьких латинских букв. Длина строки не превосходит 10**5.\n",
    "Формат вывода\n",
    "Выведите хорошую строку, в которую можно превратить данную.\n",
    "\n",
    "Пример 1\n",
    "Ввод\n",
    "vxOoOoVvx\n",
    "Вывод\n",
    "vxx\n",
    "\n",
    "Пример 2\n",
    "Ввод\n",
    "abBa\n",
    "Вывод\n",
    "aa\n",
    "\n",
    "Пример 3\n",
    "Ввод\n",
    "AbBa\n",
    "Вывод\n"
   ]
  },
  {
   "cell_type": "markdown",
   "id": "fcb69eec-167c-4fb8-99cd-f3fa95ba3b05",
   "metadata": {},
   "source": [
    "<h2>Решение</h2>"
   ]
  },
  {
   "cell_type": "raw",
   "id": "a2350e29-456d-4765-a7e3-dadeb07db700",
   "metadata": {},
   "source": [
    "Будем проходить по строке со второго элемента и сравнивать его с пердыдущим. Если окажется что они отличаются регистром, \n",
    "то создадим новую строку удалив из нее найденную пару и будем проверять для нее то же самое рекурсивно. \n",
    "для проверки будем использовать метод str.lower()."
   ]
  },
  {
   "cell_type": "code",
   "execution_count": 3,
   "id": "bbe9f3b5",
   "metadata": {},
   "outputs": [],
   "source": [
    "def convert_to_good_string(probably_bad_string: str) -> str:\n",
    "    \n",
    "    pbs = probably_bad_string\n",
    "    \n",
    "    for i in range(1, len(pbs)):\n",
    "        if pbs[i] != pbs[i-1] and pbs[i].lower() == pbs[i-1].lower():\n",
    "            return convert_to_good_string(pbs[:i-1] + pbs[i+1:])\n",
    "        \n",
    "    return pbs"
   ]
  },
  {
   "cell_type": "code",
   "execution_count": 4,
   "id": "1ec7eb77",
   "metadata": {},
   "outputs": [],
   "source": [
    "cases = [\n",
    "\"\"\"\n",
    "vxOoOoVvx\n",
    "\n",
    "vxx\n",
    "\"\"\"\n",
    ",\n",
    "\"\"\"\n",
    "abBa\n",
    "\n",
    "aa\n",
    "\"\"\"\n",
    ",\n",
    "\"\"\"\n",
    "AbBa\n",
    "\n",
    "\"\"\"\n",
    "]"
   ]
  },
  {
   "cell_type": "code",
   "execution_count": 5,
   "id": "b1cd949d",
   "metadata": {},
   "outputs": [],
   "source": [
    "def test(case):\n",
    "    lines = case.split(\"\\n\")[1:-1]\n",
    "    inp = lines[0]\n",
    "    expected = lines[-1]\n",
    "    actual = convert_to_good_string(inp)\n",
    "    \n",
    "    if actual == expected:\n",
    "        print('pass')\n",
    "    else:\n",
    "        print('fail')\n",
    "\n",
    "    print('\\texpected', expected)\n",
    "    print('\\tactual  ', actual)"
   ]
  },
  {
   "cell_type": "code",
   "execution_count": null,
   "id": "bf3be451",
   "metadata": {},
   "outputs": [],
   "source": []
  },
  {
   "cell_type": "code",
   "execution_count": 6,
   "id": "f47d50d3",
   "metadata": {},
   "outputs": [
    {
     "name": "stdout",
     "output_type": "stream",
     "text": [
      "pass\n",
      "\texpected vxx\n",
      "\tactual   vxx\n",
      "pass\n",
      "\texpected aa\n",
      "\tactual   aa\n",
      "pass\n",
      "\texpected \n",
      "\tactual   \n"
     ]
    }
   ],
   "source": [
    "test(cases[0])\n",
    "test(cases[1])\n",
    "test(cases[2])"
   ]
  },
  {
   "cell_type": "raw",
   "id": "b0b646c3-7f84-497f-897d-1f6911043d49",
   "metadata": {},
   "source": [
    "Решим эту задачу без использования рекурсии. будем проходить по строке И сохранять то, что прошли в массиве символов gs. \n",
    "Будем использовать именно массив, так как строковый тип в Python является неизменяемым, а нам понадобится делать изменение.\n",
    "Начиная со второго элемента будем сравнивать его с пердыдущим. Если окажется что они отличаются регистром, \n",
    "то удалим из gs последний элемент, а если нет, то добавим этот элемент в gs. Для проверки будем использовать метод str.lower(). \n",
    "В результате соберем из gs строку."
   ]
  },
  {
   "cell_type": "code",
   "execution_count": 7,
   "id": "d8cb6927",
   "metadata": {},
   "outputs": [],
   "source": [
    "def convert_to_good_string(probably_bad_string: str) -> str:\n",
    "    \n",
    "    pbs = probably_bad_string\n",
    "    \n",
    "    gs = []\n",
    "    \n",
    "    for i in range(len(pbs)):\n",
    "        if len(gs) > 0:\n",
    "            if pbs[i] != gs[-1] and pbs[i].lower() == gs[-1].lower():\n",
    "                gs.pop()\n",
    "            else:\n",
    "                gs.append(pbs[i])\n",
    "        else:\n",
    "            gs.append(pbs[i])\n",
    "        \n",
    "    return ''.join(gs)"
   ]
  },
  {
   "cell_type": "code",
   "execution_count": 8,
   "id": "edaf75fa",
   "metadata": {},
   "outputs": [
    {
     "name": "stdout",
     "output_type": "stream",
     "text": [
      "pass\n",
      "\texpected vxx\n",
      "\tactual   vxx\n",
      "pass\n",
      "\texpected aa\n",
      "\tactual   aa\n",
      "pass\n",
      "\texpected \n",
      "\tactual   \n"
     ]
    }
   ],
   "source": [
    "test(cases[0])\n",
    "test(cases[1])\n",
    "test(cases[2])"
   ]
  },
  {
   "cell_type": "code",
   "execution_count": null,
   "id": "3e7d9280",
   "metadata": {},
   "outputs": [],
   "source": []
  },
  {
   "cell_type": "code",
   "execution_count": null,
   "id": "74a4a31f",
   "metadata": {},
   "outputs": [],
   "source": []
  },
  {
   "cell_type": "code",
   "execution_count": null,
   "id": "0027fbb7",
   "metadata": {},
   "outputs": [],
   "source": []
  }
 ],
 "metadata": {
  "kernelspec": {
   "display_name": "Python 3 (ipykernel)",
   "language": "python",
   "name": "python3"
  },
  "language_info": {
   "codemirror_mode": {
    "name": "ipython",
    "version": 3
   },
   "file_extension": ".py",
   "mimetype": "text/x-python",
   "name": "python",
   "nbconvert_exporter": "python",
   "pygments_lexer": "ipython3",
   "version": "3.10.11"
  }
 },
 "nbformat": 4,
 "nbformat_minor": 5
}
