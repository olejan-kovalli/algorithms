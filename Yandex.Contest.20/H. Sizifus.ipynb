{
 "cells": [
  {
   "cell_type": "markdown",
   "id": "f14f2ba1-8d90-4a81-96a5-a25081a09bb2",
   "metadata": {},
   "source": [
    "<h1>Сизиф</h1>"
   ]
  },
  {
   "cell_type": "raw",
   "id": "3de8c71f-61c9-4719-b479-7784b4938294",
   "metadata": {},
   "source": [
    "В этой задаче вы будете перекладывать камни. Изначально есть n кучек камней. Кучка i весит a[i] килограммов. Кучки можно объединять. \n",
    "При объединении кучек i и j затрачивается a[i]+a[j] единиц энергии, при этом две исходные кучки пропадают и появляется кучка весом a[i]+a[j]. \n",
    "Определите наименьшее количество энергии, которое надо затратить для объединения всех кучек в одну.\n",
    "\n",
    "Формат ввода\n",
    "В первой строке дано число n (1≤n≤10**5)\n",
    "В следующей строке записаны массы кучек через пробел — a[i] (1≤a[i]≤10**6)\n",
    "\n",
    "Формат вывода\n",
    "Выведите единственное число — минимальную энергию, которую надо затратить на объединение всех кучек.\n",
    "\n",
    "Пример 1\n",
    "Ввод\n",
    "2\n",
    "2 6\n",
    "Вывод\n",
    "8\n",
    "\n",
    "Пример 2\n",
    "Ввод\n",
    "3\n",
    "6 2 4\n",
    "Вывод\n",
    "18"
   ]
  },
  {
   "cell_type": "markdown",
   "id": "082ce48a-6ec4-4b47-b4a8-b53133c859ca",
   "metadata": {},
   "source": [
    "<h2>Решение</h2>"
   ]
  },
  {
   "cell_type": "raw",
   "id": "6d7751b9-07b9-401d-b35f-9b2a31d18749",
   "metadata": {},
   "source": [
    "Чтобы получить наименьшую энергию нужно объединять наименьшие по весу камни, так как чем раньше объединены камни, \n",
    "тем большее количество раз их вес войдет в общую энергию. На каждой итерации будем искать пары с минимальными весами. Объединение дописывать в конец,\n",
    "а в доп массив записывать использованные индексы. И конечно обновлять счетчик энергии."
   ]
  },
  {
   "cell_type": "code",
   "execution_count": 10,
   "id": "b100bda6-c820-46b6-8457-29c78059960f",
   "metadata": {},
   "outputs": [],
   "source": [
    "def ind_of_min(a, active_inds):\n",
    "    min_a = max(a)*2\n",
    "    i_min = 0\n",
    "    \n",
    "    for i in range(len(a)):\n",
    "        if i in active_inds and a[i] < min_a:\n",
    "            min_a = a[i]\n",
    "            i_min = i\n",
    "\n",
    "    return i_min\n",
    "\n",
    "def get_energy_for_union(stones):\n",
    "    a = stones\n",
    "\n",
    "    active_inds = set(range(len(a)))\n",
    "    energy = 0\n",
    "\n",
    "    for _ in range(len(a)-1):\n",
    "        i_min = ind_of_min(a, active_inds)\n",
    "        active_inds.remove(i_min)\n",
    "        j_min = ind_of_min(a, active_inds)\n",
    "        active_inds.remove(j_min)\n",
    "\n",
    "        active_inds.add(len(a))\n",
    "        \n",
    "        energy += a[i_min] + a[j_min]\n",
    "        a.append(a[i_min] + a[j_min])\n",
    "        \n",
    "    return energy"
   ]
  },
  {
   "cell_type": "code",
   "execution_count": 11,
   "id": "86356662-95bb-4d3e-983e-2550bbf158e5",
   "metadata": {},
   "outputs": [],
   "source": [
    "cases = [\n",
    "\"\"\"\n",
    "2\n",
    "2 6\n",
    "\n",
    "8\n",
    "\"\"\"\n",
    ",\n",
    "\"\"\"\n",
    "3\n",
    "6 2 4\n",
    "\n",
    "18\n",
    "\"\"\"\n",
    "]"
   ]
  },
  {
   "cell_type": "code",
   "execution_count": 12,
   "id": "3b0ffb4a-2869-4e62-bedc-b94c5333aa42",
   "metadata": {},
   "outputs": [],
   "source": [
    "def test(case):\n",
    "    lines = case.split('\\n')[1:-1]\n",
    "    n = int(lines[0])\n",
    "    stones = list(map(int, lines[1].split()))\n",
    "    expected = int(lines[-1])\n",
    "    actual = get_energy_for_union(stones)\n",
    "    if expected == actual:\n",
    "        print('pass')\n",
    "    else:\n",
    "        print('fail')\n",
    "    print('\\texpected', expected)\n",
    "    print('\\tactual  ', actual)"
   ]
  },
  {
   "cell_type": "code",
   "execution_count": 16,
   "id": "35bd39f2-e293-4ff8-b83b-f3729ccc0706",
   "metadata": {},
   "outputs": [
    {
     "name": "stdout",
     "output_type": "stream",
     "text": [
      "pass\n",
      "\texpected 8\n",
      "\tactual   8\n",
      "pass\n",
      "\texpected 18\n",
      "\tactual   18\n"
     ]
    }
   ],
   "source": [
    "test(cases[0])\n",
    "test(cases[1])"
   ]
  },
  {
   "cell_type": "raw",
   "id": "ed90bd47-9915-4134-beba-7c2dd80308b8",
   "metadata": {},
   "source": [
    "Еще один cпособ решения - это отсортировать массив, а новые кучки вставлять в нужное место, чтобы он оставался отсортированным."
   ]
  },
  {
   "cell_type": "code",
   "execution_count": null,
   "id": "4ae1dd9a-6c36-4c0c-9aa1-4d941093a911",
   "metadata": {},
   "outputs": [],
   "source": []
  },
  {
   "cell_type": "code",
   "execution_count": 17,
   "id": "2967e970-d20a-470f-a262-8bd036bf8102",
   "metadata": {},
   "outputs": [],
   "source": [
    "def get_energy_for_union(stones):\n",
    "    a = stones\n",
    "    \n",
    "    energy = 0\n",
    "    \n",
    "    a.sort()\n",
    "    n_steps = len(a) - 1\n",
    "        \n",
    "    for step in range(n_steps):\n",
    "        union = a[step*2] + a[step*2 + 1]\n",
    "\n",
    "        if a[-1] <= union:\n",
    "            a.append(union)\n",
    "        else:        \n",
    "            for i in range(step*2 + 2, len(a)):\n",
    "                if union <= a[i]:\n",
    "                    a.insert(i, union)\n",
    "                    break\n",
    "                \n",
    "        energy += union\n",
    "                \n",
    "    return energy"
   ]
  },
  {
   "cell_type": "code",
   "execution_count": 19,
   "id": "cb3f2c27-d5d7-4e87-acc2-983561314790",
   "metadata": {},
   "outputs": [
    {
     "name": "stdout",
     "output_type": "stream",
     "text": [
      "pass\n",
      "\texpected 8\n",
      "\tactual   8\n",
      "pass\n",
      "\texpected 18\n",
      "\tactual   18\n"
     ]
    }
   ],
   "source": [
    "test(cases[0])\n",
    "test(cases[1])"
   ]
  },
  {
   "cell_type": "code",
   "execution_count": null,
   "id": "76d14616-3068-484c-a8ea-19341598d983",
   "metadata": {},
   "outputs": [],
   "source": []
  }
 ],
 "metadata": {
  "kernelspec": {
   "display_name": "Python 3 (ipykernel)",
   "language": "python",
   "name": "python3"
  },
  "language_info": {
   "codemirror_mode": {
    "name": "ipython",
    "version": 3
   },
   "file_extension": ".py",
   "mimetype": "text/x-python",
   "name": "python",
   "nbconvert_exporter": "python",
   "pygments_lexer": "ipython3",
   "version": "3.10.11"
  }
 },
 "nbformat": 4,
 "nbformat_minor": 5
}
