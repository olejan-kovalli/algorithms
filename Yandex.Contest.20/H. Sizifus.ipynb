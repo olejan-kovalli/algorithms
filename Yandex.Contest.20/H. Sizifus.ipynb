{
 "cells": [
  {
   "cell_type": "code",
   "execution_count": 2,
   "id": "47ba9839-409f-40c7-b0da-08d89cc1979a",
   "metadata": {},
   "outputs": [
    {
     "data": {
      "text/plain": [
       "'\\nВ этой задаче вы будете перекладывать камни. Изначально есть n кучек камней. Кучка i весит a[i] килограммов. Кучки можно объединять. \\nПри объединении кучек i и j затрачивается a[i]+a[j] единиц энергии, при этом две исходные кучки пропадают и появляется кучка весом a[i]+a[j]. \\nОпределите наименьшее количество энергии, которое надо затратить для объединения всех кучек в одну.\\nВы можете воспользоваться заготовками кода для данной задачи из репозитория курса.\\n\\nФормат ввода\\nВ первой строке дано число n (1≤n≤10**5)\\nВ следующей строке записаны массы кучек через пробел — a[i] (1≤a[i]≤10**6)\\n\\nФормат вывода\\nВыведите единственное число — минимальную энергию, которую надо затратить на объединение всех кучек.\\n\\nПример 1\\nВвод\\n2\\n2 6\\nВывод\\n8\\n\\nПример 2\\nВвод\\n3\\n6 2 4\\nВывод\\n18\\n'"
      ]
     },
     "execution_count": 2,
     "metadata": {},
     "output_type": "execute_result"
    }
   ],
   "source": [
    "\"\"\"\n",
    "В этой задаче вы будете перекладывать камни. Изначально есть n кучек камней. Кучка i весит a[i] килограммов. Кучки можно объединять. \n",
    "При объединении кучек i и j затрачивается a[i]+a[j] единиц энергии, при этом две исходные кучки пропадают и появляется кучка весом a[i]+a[j]. \n",
    "Определите наименьшее количество энергии, которое надо затратить для объединения всех кучек в одну.\n",
    "Вы можете воспользоваться заготовками кода для данной задачи из репозитория курса.\n",
    "\n",
    "Формат ввода\n",
    "В первой строке дано число n (1≤n≤10**5)\n",
    "В следующей строке записаны массы кучек через пробел — a[i] (1≤a[i]≤10**6)\n",
    "\n",
    "Формат вывода\n",
    "Выведите единственное число — минимальную энергию, которую надо затратить на объединение всех кучек.\n",
    "\n",
    "Пример 1\n",
    "Ввод\n",
    "2\n",
    "2 6\n",
    "Вывод\n",
    "8\n",
    "\n",
    "Пример 2\n",
    "Ввод\n",
    "3\n",
    "6 2 4\n",
    "Вывод\n",
    "18\n",
    "\"\"\""
   ]
  },
  {
   "cell_type": "code",
   "execution_count": 3,
   "id": "86356662-95bb-4d3e-983e-2550bbf158e5",
   "metadata": {},
   "outputs": [],
   "source": [
    "cases = [\n",
    "\"\"\"\n",
    "2\n",
    "2 6\n",
    "8\n",
    "\"\"\"\n",
    ",\n",
    "\"\"\"\n",
    "3\n",
    "6 2 4\n",
    "18\n",
    "\"\"\"\n",
    "]"
   ]
  },
  {
   "cell_type": "code",
   "execution_count": 4,
   "id": "d1bc2910-fe2e-427e-81fd-f3a8bbafec27",
   "metadata": {},
   "outputs": [],
   "source": [
    "def parse_case(case):\n",
    "    lines = case.split('\\n')[1:-1]\n",
    "    n = int(lines[0])\n",
    "    stones = list(map(int, lines[1].split()))\n",
    "    energy = int(lines[-1])\n",
    "    return {'input': stones, 'output': energy}"
   ]
  },
  {
   "cell_type": "code",
   "execution_count": 7,
   "id": "8feb3ad4-ca3b-4ee9-bb97-888b79babe4b",
   "metadata": {},
   "outputs": [
    {
     "data": {
      "text/plain": [
       "{'input': [2, 6], 'output': 8}"
      ]
     },
     "execution_count": 7,
     "metadata": {},
     "output_type": "execute_result"
    }
   ],
   "source": [
    "parse_case(cases[0])"
   ]
  },
  {
   "cell_type": "code",
   "execution_count": 8,
   "id": "02cc1080-b300-4d75-b894-9bec1b6bbe7d",
   "metadata": {},
   "outputs": [
    {
     "data": {
      "text/plain": [
       "{'input': [6, 2, 4], 'output': 18}"
      ]
     },
     "execution_count": 8,
     "metadata": {},
     "output_type": "execute_result"
    }
   ],
   "source": [
    "parse_case(cases[1])"
   ]
  },
  {
   "cell_type": "code",
   "execution_count": null,
   "id": "4c349afe-d956-4111-bcfe-280660d895ab",
   "metadata": {},
   "outputs": [],
   "source": [
    "\"\"\"\n",
    "Чтобы получить наименьшую энергию нужно объединять наименьшие по весу камни, так как чем раньше объединены камни, \n",
    "тем большее количество раз их вес войдет в общую энергию. На каждой итерации будем искать пары с минимальными весами. Объединение дописывать в конец,\n",
    "а в доп массив записывать использованные индексы. И конечно обновлять счетчик энергии.\n",
    "\"\"\""
   ]
  },
  {
   "cell_type": "code",
   "execution_count": 72,
   "id": "b100bda6-c820-46b6-8457-29c78059960f",
   "metadata": {},
   "outputs": [],
   "source": [
    "def ind_of_min(a, active_inds):\n",
    "    min_a = max(a)*2\n",
    "    i_min = 0\n",
    "    \n",
    "    for i in range(len(a)):\n",
    "        if i in active_inds and a[i] < min_a:\n",
    "            min_a = a[i]\n",
    "            i_min = i\n",
    "\n",
    "    return i_min\n",
    "\n",
    "def get_energy_for_union(stones):\n",
    "    a = stones\n",
    "\n",
    "    active_inds = set(range(len(a)))\n",
    "    energy = 0\n",
    "\n",
    "    for _ in range(len(a)-1):\n",
    "        i_min = ind_of_min(a, active_inds)\n",
    "        active_inds.remove(i_min)\n",
    "        j_min = ind_of_min(a, active_inds)\n",
    "        active_inds.remove(j_min)\n",
    "\n",
    "        active_inds.add(len(a))\n",
    "        \n",
    "        energy += a[i_min] + a[j_min]\n",
    "        a.append(a[i_min] + a[j_min])\n",
    "        \n",
    "    return energy"
   ]
  },
  {
   "cell_type": "code",
   "execution_count": null,
   "id": "3b0ffb4a-2869-4e62-bedc-b94c5333aa42",
   "metadata": {},
   "outputs": [],
   "source": [
    "case = parse_case(cases[0])\n",
    "print(case)\n",
    "print(get_energy_for_union(case['input']))"
   ]
  },
  {
   "cell_type": "code",
   "execution_count": null,
   "id": "35bd39f2-e293-4ff8-b83b-f3729ccc0706",
   "metadata": {},
   "outputs": [],
   "source": [
    "case = parse_case(cases[1])\n",
    "print(case)\n",
    "print(get_energy_for_union(case['input']))"
   ]
  },
  {
   "cell_type": "code",
   "execution_count": null,
   "id": "b0c9bdb5-7dda-40f0-b8f5-31ea7d1fc475",
   "metadata": {},
   "outputs": [],
   "source": [
    "\"\"\"\n",
    "Еще один cпособ решения - это отсортировать массив, а новые кучки вставлять в нужное место, чтобы он оставался отсортированным.\n",
    "\"\"\""
   ]
  },
  {
   "cell_type": "code",
   "execution_count": null,
   "id": "4ae1dd9a-6c36-4c0c-9aa1-4d941093a911",
   "metadata": {},
   "outputs": [],
   "source": []
  },
  {
   "cell_type": "code",
   "execution_count": 106,
   "id": "2967e970-d20a-470f-a262-8bd036bf8102",
   "metadata": {},
   "outputs": [],
   "source": [
    "def get_energy_for_union(stones):\n",
    "    a = stones\n",
    "    \n",
    "    energy = 0\n",
    "    \n",
    "    a.sort()\n",
    "    n_steps = len(a) - 1\n",
    "        \n",
    "    for step in range(n_steps):\n",
    "        union = a[step*2] + a[step*2 + 1]\n",
    "\n",
    "        if a[-1] <= union:\n",
    "            a.append(union)\n",
    "        else:        \n",
    "            for i in range(step*2 + 2, len(a)):\n",
    "                if union <= a[i]:\n",
    "                    a.insert(i, union)\n",
    "                    break\n",
    "                \n",
    "        energy += union\n",
    "                \n",
    "    return energy"
   ]
  },
  {
   "cell_type": "code",
   "execution_count": 107,
   "id": "cb3f2c27-d5d7-4e87-acc2-983561314790",
   "metadata": {},
   "outputs": [
    {
     "name": "stdout",
     "output_type": "stream",
     "text": [
      "{'input': [2, 6], 'output': 8}\n",
      "8\n"
     ]
    }
   ],
   "source": [
    "case = parse_case(cases[0])\n",
    "print(case)\n",
    "print(get_energy_for_union(case['input']))"
   ]
  },
  {
   "cell_type": "code",
   "execution_count": 108,
   "id": "f97f60c4-e546-40cc-abb8-2aae4255f480",
   "metadata": {},
   "outputs": [
    {
     "name": "stdout",
     "output_type": "stream",
     "text": [
      "{'input': [6, 2, 4], 'output': 18}\n",
      "18\n"
     ]
    }
   ],
   "source": [
    "case = parse_case(cases[1])\n",
    "print(case)\n",
    "print(get_energy_for_union(case['input']))"
   ]
  },
  {
   "cell_type": "code",
   "execution_count": null,
   "id": "099a3c23-a951-4828-9a82-0c5fa1caaada",
   "metadata": {},
   "outputs": [],
   "source": [
    "\"\"\"\n",
    "Еще один cпособ решения - это отсортировать массив, а новые кучки вставлять в нужное место, чтобы он оставался отсортированным.\n",
    "\"\"\""
   ]
  },
  {
   "cell_type": "code",
   "execution_count": null,
   "id": "1b2ef7fb-8d88-4525-b7cf-c8b89d3f9140",
   "metadata": {},
   "outputs": [],
   "source": [
    "def get_energy_for_union(stones):\n",
    "    a = stones\n",
    "    \n",
    "    a.sort()\n",
    "    n = len(a)\n",
    "    if n == 1:\n",
    "        return 0\n",
    "        \n",
    "    energy = (n - 1)*(a[0] + a[1])\n",
    "            \n",
    "    for i in range(2, ):\n",
    "        union = a[step*2] + a[step*2 + 1]\n",
    "\n",
    "        if a[-1] <= union:\n",
    "            a.append(union)\n",
    "        else:        \n",
    "            for i in range(step*2 + 2, len(a)):\n",
    "                if union <= a[i]:\n",
    "                    a.insert(i, union)\n",
    "                    break\n",
    "                \n",
    "        energy += union\n",
    "                \n",
    "    return energy"
   ]
  },
  {
   "cell_type": "code",
   "execution_count": null,
   "id": "ff633c46-ae16-46c4-b17a-114518d3ef0a",
   "metadata": {},
   "outputs": [],
   "source": []
  }
 ],
 "metadata": {
  "kernelspec": {
   "display_name": "Python 3 (ipykernel)",
   "language": "python",
   "name": "python3"
  },
  "language_info": {
   "codemirror_mode": {
    "name": "ipython",
    "version": 3
   },
   "file_extension": ".py",
   "mimetype": "text/x-python",
   "name": "python",
   "nbconvert_exporter": "python",
   "pygments_lexer": "ipython3",
   "version": "3.10.11"
  }
 },
 "nbformat": 4,
 "nbformat_minor": 5
}
