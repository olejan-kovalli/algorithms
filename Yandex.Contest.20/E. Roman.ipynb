{
 "cells": [
  {
   "cell_type": "markdown",
   "id": "03aae29e-1dd9-460c-bf29-4f76bfca1ae4",
   "metadata": {},
   "source": [
    "<h1>Римлянин</h1>"
   ]
  },
  {
   "cell_type": "raw",
   "id": "dbfd607e-1ec7-42f7-8ea6-6c3a62cb99a7",
   "metadata": {},
   "source": [
    "Вам дано число, записанное римскими цифрами. Получите это же число в обычной записи (арабскими цифрами).\n",
    "Римская запись чисел может включать следующие символы:\n",
    "\n",
    "’I’ — 1\n",
    "’V’ — 5\n",
    "’X’ — 10\n",
    "’L’ — 50\n",
    "’C’ — 100\n",
    "’D’ — 500\n",
    "’M’ — 1000\n",
    "\n",
    "Цифры ’I’, ’X’, ’C’ и ’M’ нельзя использовать более трех раз подряд. \n",
    "Цифры ’V’, ’L’ и ’D’ нельзя использовать более одного раза во всей записи числа.\n",
    "Обыкновенно цифры записывают по убыванию слева направо. Например, число 350 будет записано как ’CCCL’.\n",
    "Однако есть исключения:\n",
    "Чтобы получить ’4’ или ’9’, надо поставить ’I’ перед ’V’ или ’X’ соответственно\n",
    "Чтобы получить ’40’ или ’90’, надо поставить ’X’ перед ’L’ или ’C’.\n",
    "Чтобы получить ’400’ или ’900’, надо поставить ’C’ перед ’D’ или ’M’.\n",
    "\n",
    "Формат ввода\n",
    "В единственной строке дана запись числа римскими цифрами. Длина записи не превосходит 15.\n",
    "Формат вывода\n",
    "Выведите число, записанное арабскими цифрами. Если запись числа некорректная, то выведите -1.\n",
    "\n",
    "Пример 1\n",
    "Ввод\n",
    "VIV\n",
    "Вывод\n",
    "-1\n",
    "\n",
    "Пример 2\n",
    "Ввод\n",
    "II\n",
    "Вывод\n",
    "2\n",
    "\n",
    "Пример 3\n",
    "Ввод\n",
    "MCMLXI\n",
    "Вывод\n",
    "1961"
   ]
  },
  {
   "cell_type": "markdown",
   "id": "1017f5ae-a0eb-4808-aa81-2d71b1f5641a",
   "metadata": {},
   "source": [
    "<h2>Решение</h2>"
   ]
  },
  {
   "cell_type": "raw",
   "id": "7f47a947-55a2-4c96-a39a-042f02b94939",
   "metadata": {},
   "source": [
    "будем проходить по элементам слева направо и смотреть их значения. Если встретится I, X или С, будем так же смотреть следующий\n",
    "элемент. Также будем подсчитывать количество элементов на предмет наличия более 3х раз подряд для I, X, C, M или более одного раза \n",
    "для V, L, D. Важно следить чтобы они следовали в порядке убывания."
   ]
  },
  {
   "cell_type": "code",
   "execution_count": 3,
   "id": "257b8f1a",
   "metadata": {},
   "outputs": [],
   "source": [
    "def convert_to_arabic(number: str) -> int:\n",
    "    \n",
    "    n = len(number)\n",
    "    \n",
    "    result = 0\n",
    "    \n",
    "    mapping = {\n",
    "        'I': 1, \n",
    "        'V': 5, \n",
    "        'X': 10, \n",
    "        'L': 50, \n",
    "        'C': 100, \n",
    "        'D': 500, \n",
    "        'M': 1000\n",
    "    }\n",
    "    \n",
    "    already_met = []\n",
    "    \n",
    "    prev_inc = 0\n",
    "    \n",
    "    for i in range(n-1,-1,-1):\n",
    "        c = number[i]\n",
    "        if c in ['V', 'L', 'D']:\n",
    "            if c in already_met:\n",
    "                return -1\n",
    "            else:\n",
    "                already_met.append(c)\n",
    "            \n",
    "        if c in ['I', 'X', 'C', 'M'] and i <= n-4:\n",
    "            if c*4 == number[i:i+4]:\n",
    "                return -1\n",
    "        \n",
    "        inc = mapping[c]\n",
    "        \n",
    "        if i <= n-2:\n",
    "            if c == 'I' and number[i+1] in ['V', 'X']:\n",
    "                result -= 1\n",
    "                continue\n",
    "\n",
    "            if c == 'X' and number[i+1] in ['L', 'C']:\n",
    "                result -= 10\n",
    "                continue\n",
    "\n",
    "            if c == 'C' and number[i+1] in ['D', 'M']:\n",
    "                result -= 100\n",
    "                continue\n",
    "        \n",
    "        if inc < prev_inc:\n",
    "            return -1\n",
    "        \n",
    "        result += inc\n",
    "        \n",
    "        prev_inc = inc\n",
    "        \n",
    "    return result"
   ]
  },
  {
   "cell_type": "code",
   "execution_count": 2,
   "id": "4ebe3319",
   "metadata": {},
   "outputs": [],
   "source": [
    "cases = [\n",
    "\"\"\"\n",
    "VIV\n",
    "-1\n",
    "\"\"\"\n",
    ",\n",
    "\"\"\"\n",
    "II\n",
    "2\n",
    "\"\"\"\n",
    ",\n",
    "\"\"\"\n",
    "MCMLXI\n",
    "1961\n",
    "\"\"\"\n",
    "]"
   ]
  },
  {
   "cell_type": "code",
   "execution_count": 7,
   "id": "84920beb",
   "metadata": {},
   "outputs": [],
   "source": [
    "def test(case):\n",
    "    lines = case.split(\"\\n\")[1:-1]\n",
    "    inp = lines[0]\n",
    "    expected = int(lines[1])\n",
    "    actual = convert_to_arabic(inp)\n",
    "    if expected == actual:\n",
    "        print('pass')\n",
    "    else:\n",
    "        print('fail')\n",
    "    print('\\texpected', expected)\n",
    "    print('\\tactual  ', actual)"
   ]
  },
  {
   "cell_type": "code",
   "execution_count": 8,
   "id": "0f3448c7",
   "metadata": {},
   "outputs": [
    {
     "name": "stdout",
     "output_type": "stream",
     "text": [
      "pass\n",
      "\texpected -1\n",
      "\tactual   -1\n"
     ]
    }
   ],
   "source": [
    "test(cases[0])"
   ]
  },
  {
   "cell_type": "code",
   "execution_count": 9,
   "id": "1818f5fe",
   "metadata": {},
   "outputs": [
    {
     "name": "stdout",
     "output_type": "stream",
     "text": [
      "pass\n",
      "\texpected 2\n",
      "\tactual   2\n"
     ]
    }
   ],
   "source": [
    "test(cases[1])"
   ]
  },
  {
   "cell_type": "code",
   "execution_count": 10,
   "id": "de02386a",
   "metadata": {},
   "outputs": [
    {
     "name": "stdout",
     "output_type": "stream",
     "text": [
      "pass\n",
      "\texpected 1961\n",
      "\tactual   1961\n"
     ]
    }
   ],
   "source": [
    "test(cases[2])"
   ]
  },
  {
   "cell_type": "code",
   "execution_count": null,
   "id": "d17d76be",
   "metadata": {},
   "outputs": [],
   "source": []
  },
  {
   "cell_type": "code",
   "execution_count": null,
   "id": "5788241a",
   "metadata": {},
   "outputs": [],
   "source": []
  }
 ],
 "metadata": {
  "kernelspec": {
   "display_name": "Python 3 (ipykernel)",
   "language": "python",
   "name": "python3"
  },
  "language_info": {
   "codemirror_mode": {
    "name": "ipython",
    "version": 3
   },
   "file_extension": ".py",
   "mimetype": "text/x-python",
   "name": "python",
   "nbconvert_exporter": "python",
   "pygments_lexer": "ipython3",
   "version": "3.10.11"
  }
 },
 "nbformat": 4,
 "nbformat_minor": 5
}
