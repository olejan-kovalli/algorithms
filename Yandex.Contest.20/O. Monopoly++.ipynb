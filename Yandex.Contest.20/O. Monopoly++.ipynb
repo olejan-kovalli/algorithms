{
 "cells": [
  {
   "cell_type": "markdown",
   "id": "67146d38-7eee-4a65-a595-28027ed8ae61",
   "metadata": {},
   "source": [
    "<h1>Монополия++</h1>"
   ]
  },
  {
   "cell_type": "raw",
   "id": "65ec67e0-8440-410d-841c-f6a9659f04d1",
   "metadata": {},
   "source": [
    "Вы играете в игру «Монополия++». В этой игре можно купить не более k зданий, каждое из которых будет добавлять к вашему капиталу какую-то сумму. Всего есть выбор из n зданий. Чтобы купить здание i, надо иметь текущий капитал хотя бы c[i]. После покупки здание добавит в ваш текущий капитал сумму p[i]. Изначально ваш капитал равен M. Определите, каким максимальным капиталом можно овладеть к концу игры. Вы можете воспользоваться заготовками кода для данной задачи из репозитория курса.\n",
    "\n",
    "Формат ввода\n",
    "В первой строке дано общее число зданий n и максимальное число зданий, которые можно приобрести k (1≤k≤n≤10**5). В следующих n строках даны сами здания. Каждое здание задаётся парой c[i], p[i], оба числа целые неотрицательные и не превосходят 10**9 по значению. В последней строке задано число M\n",
    " — ваш стартовый капитал (0≤M≤10**9).\n",
    "\n",
    "Формат вывода\n",
    "Выведите единственное число — максимальный конечный капитал, который можно получить.\n",
    "\n",
    "Пример 1\n",
    "Ввод\t\n",
    "5 3\n",
    "1 1\n",
    "3 3\n",
    "8 10\n",
    "4 1\n",
    "1 2\n",
    "1\n",
    "Вывод\n",
    "7\n",
    "\n",
    "Пример 2\n",
    "Ввод\t\n",
    "2 1\n",
    "1 10\n",
    "0 20\n",
    "1\n",
    "Вывод\n",
    "21\n",
    "\n",
    "Пример 3\n",
    "Ввод\t\n",
    "2 2\n",
    "2 2\n",
    "3 3\n",
    "1\n",
    "Вывод\n",
    "1"
   ]
  },
  {
   "cell_type": "markdown",
   "id": "1d73e298-a0be-47e3-af6b-094c7ecb9cba",
   "metadata": {},
   "source": [
    "<h2>Решение</h2>"
   ]
  },
  {
   "cell_type": "raw",
   "id": "0ca99847-3083-4d1b-835f-8b2568c2eabf",
   "metadata": {},
   "source": [
    "Будем использовать жадный алгоритм, то есть на каждом шаге покупать здание с максимальной прибылью из тех на которые хватает."
   ]
  },
  {
   "cell_type": "code",
   "execution_count": 65,
   "id": "26a31501-c6c0-4bd4-9596-162ff8c9b010",
   "metadata": {},
   "outputs": [],
   "source": [
    "from typing import List\n",
    "\n",
    "class Building:\n",
    "    def __init__(self, need_capital, added_capital) -> None:\n",
    "        self.need_capital = need_capital\n",
    "        self.added_capital = added_capital\n",
    "\n",
    "def get_max_final_capital(buildings: List[Building], start_capital: int, max_buildings: int) -> int:\n",
    "    \n",
    "    cur_cap = start_capital\n",
    "    inds_taken = []\n",
    "        \n",
    "    for step in range(max_buildings):\n",
    "        ind_max = -1\n",
    "        max_ac = -1\n",
    "        for i in range(len(buildings)):            \n",
    "            if i in inds_taken:\n",
    "                continue\n",
    "                \n",
    "            b = buildings[i]\n",
    "            if cur_cap >= b.need_capital:\n",
    "                ac = b.added_capital\n",
    "                if ac > max_ac:\n",
    "                    max_ac = ac\n",
    "                    ind_max = i\n",
    "        \n",
    "        if max_ac >= 0:\n",
    "            cur_cap += max_ac\n",
    "            inds_taken.append(ind_max)\n",
    "    \n",
    "    return cur_cap"
   ]
  },
  {
   "cell_type": "code",
   "execution_count": 66,
   "id": "fe47c329-b9d6-4997-aa01-564e6a3bbec0",
   "metadata": {},
   "outputs": [],
   "source": [
    "cases = [\n",
    "\"\"\"\n",
    "5 3\n",
    "1 1\n",
    "3 3\n",
    "8 10\n",
    "4 1\n",
    "1 2\n",
    "1\n",
    "\n",
    "7\n",
    "\"\"\"\n",
    ",\n",
    "\"\"\"\n",
    "2 1\n",
    "1 10\n",
    "0 20\n",
    "1\n",
    "\n",
    "21\n",
    "\"\"\"\n",
    ",\n",
    "\"\"\"\n",
    "2 2\n",
    "2 2\n",
    "3 3\n",
    "1\n",
    "\n",
    "1\n",
    "\"\"\"\n",
    "]"
   ]
  },
  {
   "cell_type": "code",
   "execution_count": 67,
   "id": "f74a1879-4e03-4cf9-8b6a-2b70c7159c54",
   "metadata": {},
   "outputs": [],
   "source": [
    "def parse_case(case):\n",
    "    lines = case.split('\\n')[1:-1]\n",
    "    n, k = map(int, lines[0].split())\n",
    "    buildings = []\n",
    "    for i in range(1, n+1):\n",
    "        c, p = map(int, lines[i].split())\n",
    "        buildings.append(Building(c, p))\n",
    "    M = int(lines[n+1])\n",
    "    inp = (buildings, M, k)\n",
    "    outp = int(lines[-1])\n",
    "    return inp, outp"
   ]
  },
  {
   "cell_type": "code",
   "execution_count": 68,
   "id": "e172d5ed-2c60-485b-ac45-537376417a19",
   "metadata": {},
   "outputs": [],
   "source": [
    "from testing import Tester"
   ]
  },
  {
   "cell_type": "code",
   "execution_count": 69,
   "id": "3b129723-7b7d-4d7d-b662-96a40a8a2e9a",
   "metadata": {},
   "outputs": [],
   "source": [
    "t = Tester(parse_case, get_max_final_capital)"
   ]
  },
  {
   "cell_type": "code",
   "execution_count": 70,
   "id": "41e2dcb6-3760-42b6-a278-584f55d4ba92",
   "metadata": {},
   "outputs": [
    {
     "name": "stdout",
     "output_type": "stream",
     "text": [
      "pass\n",
      "\texpected  7\n",
      "\tactual    7\n"
     ]
    }
   ],
   "source": [
    "t.test(cases[0])"
   ]
  },
  {
   "cell_type": "code",
   "execution_count": 71,
   "id": "18e6a330-b0b1-48d6-86d9-8498581a612c",
   "metadata": {},
   "outputs": [
    {
     "name": "stdout",
     "output_type": "stream",
     "text": [
      "pass\n",
      "\texpected  21\n",
      "\tactual    21\n"
     ]
    }
   ],
   "source": [
    "t.test(cases[1])"
   ]
  },
  {
   "cell_type": "code",
   "execution_count": 72,
   "id": "b8a43b90-7e32-4b0c-b671-6ae28ca65c4a",
   "metadata": {},
   "outputs": [
    {
     "name": "stdout",
     "output_type": "stream",
     "text": [
      "pass\n",
      "\texpected  1\n",
      "\tactual    1\n"
     ]
    }
   ],
   "source": [
    "t.test(cases[2])"
   ]
  },
  {
   "cell_type": "code",
   "execution_count": 75,
   "id": "6da7323e-d29a-4dd0-b30a-2813116948f8",
   "metadata": {},
   "outputs": [],
   "source": [
    "n = 1000\n",
    "big_case_1 = make_big_case(n, 1)\n",
    "big_case_2 = make_big_case(2*n, 1)"
   ]
  },
  {
   "cell_type": "code",
   "execution_count": 76,
   "id": "d9d5b7d5-cae9-40f5-9e97-8eb8e305fdba",
   "metadata": {},
   "outputs": [
    {
     "name": "stdout",
     "output_type": "stream",
     "text": [
      "fail\n",
      "\texpected  -1\n",
      "\tactual    5468\n",
      "2.45 sec\n",
      "fail\n",
      "\texpected  -1\n",
      "\tactual    11020\n",
      "17.86 sec\n"
     ]
    }
   ],
   "source": [
    "t.test_big_case(big_case_1)\n",
    "t.test_big_case(big_case_2)"
   ]
  },
  {
   "cell_type": "raw",
   "id": "d2325847-d21c-400f-9c5b-02e92615c92c",
   "metadata": {},
   "source": [
    "Но это не оптимальный алгоритм так как на каждом шаге проходится весь массив. Отсортируем его так чтобы можно было быстро остановиться как только будет достигнут предел."
   ]
  },
  {
   "cell_type": "code",
   "execution_count": null,
   "id": "5dc5adf9-b0cd-4085-94ac-b2a1ba61db7a",
   "metadata": {},
   "outputs": [],
   "source": []
  },
  {
   "cell_type": "code",
   "execution_count": 33,
   "id": "c583949a-0b67-477b-9d51-b0aed6cf5b77",
   "metadata": {},
   "outputs": [],
   "source": [
    "from typing import List\n",
    "\n",
    "class Building:\n",
    "    def __init__(self, need_capital, added_capital) -> None:\n",
    "        self.need_capital = need_capital\n",
    "        self.added_capital = added_capital\n",
    "\n",
    "def get_max_final_capital(buildings: List[Building], start_capital: int, max_buildings: int) -> int:\n",
    "\n",
    "    sorted_buildings = sorted(buildings, key=lambda b: b.need_capital)\n",
    "    \n",
    "    cur_cap = start_capital\n",
    "    inds_taken = []\n",
    "        \n",
    "    for step in range(max_buildings):\n",
    "        ind_max = -1\n",
    "        max_ac = -1\n",
    "        \n",
    "        for i in range(len(buildings)):            \n",
    "            if i in inds_taken:\n",
    "                continue            \n",
    "                \n",
    "            b = sorted_buildings[i]\n",
    "            if b.need_capital > cur_cap:\n",
    "                break\n",
    "                \n",
    "            ac = b.added_capital\n",
    "            if ac > max_ac:\n",
    "                max_ac = ac\n",
    "                ind_max = i\n",
    "        \n",
    "        if max_ac >= 0:\n",
    "            cur_cap += max_ac\n",
    "            inds_taken.append(ind_max)\n",
    "    \n",
    "    return cur_cap"
   ]
  },
  {
   "cell_type": "code",
   "execution_count": 34,
   "id": "66aad118-1ea9-49c8-96e0-c777d8329429",
   "metadata": {},
   "outputs": [
    {
     "name": "stdout",
     "output_type": "stream",
     "text": [
      "pass\n",
      "\texpected  7\n",
      "\tactual    7\n",
      "pass\n",
      "\texpected  21\n",
      "\tactual    21\n",
      "pass\n",
      "\texpected  1\n",
      "\tactual    1\n"
     ]
    }
   ],
   "source": [
    "t.test(cases[0])\n",
    "t.test(cases[1])\n",
    "t.test(cases[2])"
   ]
  },
  {
   "cell_type": "code",
   "execution_count": 77,
   "id": "e87cf311-9618-4633-831b-0ee47a78400e",
   "metadata": {},
   "outputs": [
    {
     "name": "stdout",
     "output_type": "stream",
     "text": [
      "fail\n",
      "\texpected  -1\n",
      "\tactual    5468\n",
      "2.48 sec\n",
      "fail\n",
      "\texpected  -1\n",
      "\tactual    11020\n",
      "19.52 sec\n"
     ]
    }
   ],
   "source": [
    "t.test_big_case(big_case_1)\n",
    "t.test_big_case(big_case_2)"
   ]
  },
  {
   "cell_type": "raw",
   "id": "f9f69526-b5e2-45da-b440-66c2422f039b",
   "metadata": {},
   "source": [
    "Еще один вариант - отсортировать по добавленному капиталу и проходить до тех пор, пока не найдется доступное здание."
   ]
  },
  {
   "cell_type": "code",
   "execution_count": 80,
   "id": "468290e1-c596-473a-9d3f-be6da93c1b4a",
   "metadata": {},
   "outputs": [],
   "source": [
    "from typing import List\n",
    "\n",
    "class Building:\n",
    "    def __init__(self, need_capital, added_capital) -> None:\n",
    "        self.need_capital = need_capital\n",
    "        self.added_capital = added_capital\n",
    "\n",
    "def get_max_final_capital(buildings: List[Building], start_capital: int, max_buildings: int) -> int:\n",
    "\n",
    "    sorted_buildings = sorted(buildings, key=lambda b: b.added_capital, reverse=True)\n",
    "    \n",
    "    cur_cap = start_capital\n",
    "    inds_taken = []\n",
    "        \n",
    "    for step in range(max_buildings):        \n",
    "        for i in range(len(buildings)):            \n",
    "            if i in inds_taken:\n",
    "                continue            \n",
    "                \n",
    "            b = sorted_buildings[i]\n",
    "            if b.need_capital <= cur_cap:\n",
    "                cur_cap += b.added_capital\n",
    "                inds_taken.append(i)    \n",
    "                break\n",
    "    \n",
    "    return cur_cap"
   ]
  },
  {
   "cell_type": "code",
   "execution_count": 81,
   "id": "15dd9f4b-bd7f-4e97-9e5d-8925488a31b9",
   "metadata": {},
   "outputs": [
    {
     "name": "stdout",
     "output_type": "stream",
     "text": [
      "pass\n",
      "\texpected  7\n",
      "\tactual    7\n",
      "pass\n",
      "\texpected  21\n",
      "\tactual    21\n",
      "pass\n",
      "\texpected  1\n",
      "\tactual    1\n"
     ]
    }
   ],
   "source": [
    "t.test(cases[0])\n",
    "t.test(cases[1])\n",
    "t.test(cases[2])"
   ]
  },
  {
   "cell_type": "code",
   "execution_count": 82,
   "id": "fe281972-44a8-4f0f-a82e-512e8756dc14",
   "metadata": {},
   "outputs": [],
   "source": [
    "import random\n",
    "def make_big_case(n, M):\n",
    "    buildings = [Building(random.randint(1,10), random.randint(1,10)) for _ in range(n)]\n",
    "    k = n\n",
    "    result = \"\\n\"\n",
    "    result += str(n) + ' ' + str(k) + '\\n'\n",
    "    for b in buildings:\n",
    "        result += str(b.need_capital) + ' ' + str(b.added_capital) + '\\n'\n",
    "    result += str(M) + '\\n'\n",
    "    result += \"\\n\"\n",
    "    result += '-1' + '\\n'\n",
    "    return result"
   ]
  },
  {
   "cell_type": "code",
   "execution_count": null,
   "id": "ae09ec06-9ce9-4910-afe8-918c815a4e07",
   "metadata": {},
   "outputs": [],
   "source": []
  },
  {
   "cell_type": "code",
   "execution_count": null,
   "id": "0936a8d2-6608-482c-be23-df512b704057",
   "metadata": {},
   "outputs": [],
   "source": []
  },
  {
   "cell_type": "code",
   "execution_count": 83,
   "id": "15827607-87b2-4319-a564-fe67d42ece94",
   "metadata": {},
   "outputs": [
    {
     "name": "stdout",
     "output_type": "stream",
     "text": [
      "fail\n",
      "\texpected  -1\n",
      "\tactual    5468\n",
      "2.45 sec\n",
      "fail\n",
      "\texpected  -1\n",
      "\tactual    11020\n",
      "19.44 sec\n"
     ]
    }
   ],
   "source": [
    "t.test_big_case(big_case_1)\n",
    "t.test_big_case(big_case_2)"
   ]
  },
  {
   "cell_type": "code",
   "execution_count": null,
   "id": "ca97aa38-3e01-42a2-869f-9e02380e94c8",
   "metadata": {},
   "outputs": [],
   "source": []
  },
  {
   "cell_type": "code",
   "execution_count": null,
   "id": "a652729b-118f-4001-bbbc-fbce1bb96ca5",
   "metadata": {},
   "outputs": [],
   "source": []
  }
 ],
 "metadata": {
  "kernelspec": {
   "display_name": "Python 3 (ipykernel)",
   "language": "python",
   "name": "python3"
  },
  "language_info": {
   "codemirror_mode": {
    "name": "ipython",
    "version": 3
   },
   "file_extension": ".py",
   "mimetype": "text/x-python",
   "name": "python",
   "nbconvert_exporter": "python",
   "pygments_lexer": "ipython3",
   "version": "3.10.11"
  }
 },
 "nbformat": 4,
 "nbformat_minor": 5
}
