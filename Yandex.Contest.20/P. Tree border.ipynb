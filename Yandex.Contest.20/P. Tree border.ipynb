{
 "cells": [
  {
   "cell_type": "markdown",
   "id": "67146d38-7eee-4a65-a595-28027ed8ae61",
   "metadata": {},
   "source": [
    "<h1>Граница дерева</h1>"
   ]
  },
  {
   "cell_type": "raw",
   "id": "65ec67e0-8440-410d-841c-f6a9659f04d1",
   "metadata": {},
   "source": [
    "Дано укоренённое бинарное дерево на N вершинах. Скажем, что вершина v находится на границе дерева, если она подходит под любое из условий:\n",
    "    v является листом;\n",
    "    пусть v  находится на расстоянии h  от корня. Тогда v — самая левая или самая правая вершина среди всех вершин на расстоянии h от корня.\n",
    "Найдите все вершины, находящиеся на границе дерева.\n",
    "\n",
    "Формат ввода\n",
    "В первой строке записаны два целых числа: количество вершин в дереве n(1≤n≤2*10**5)и root_id(0≤root_id≤n−1) — номер вершины-корня.\n",
    "В следующих n строках описаны вершины. Каждая вершина описывается двумя числами, записанными через пробел: id левого потомка и id правого потомка. Все \n",
    "id находятся в диапазоне [0;n−1]. Если у вершины нет какого-то потомка, то вместо его id будет −1. Гарантируется, что входные данные корректны.\n",
    "\n",
    "Формат вывода\n",
    "В единственной строке через пробел выведите в любом порядке все d вершин, которые находятся на границе дерева. Каждая вершина должна быть выведена не более одного раза.\n",
    "\n",
    "Пример\n",
    "Ввод\n",
    "10 0\n",
    "1 2\n",
    "3 4\n",
    "5 6\n",
    "7 -1\n",
    "8 -1\n",
    "-1 -1\n",
    "9 -1\n",
    "-1 -1\n",
    "-1 -1\n",
    "-1 -1\n",
    "Вывод\n",
    "5 8 9 1 0 7 3 2 6 "
   ]
  },
  {
   "cell_type": "markdown",
   "id": "1d73e298-a0be-47e3-af6b-094c7ecb9cba",
   "metadata": {},
   "source": [
    "<h2>Решение</h2>"
   ]
  },
  {
   "cell_type": "raw",
   "id": "0ca99847-3083-4d1b-835f-8b2568c2eabf",
   "metadata": {},
   "source": [
    "Будем проходить в цикле по уровням дерева. Если вершина лист, добавляем. Также будем отслеживать самую левую и самую правую вершины.\n",
    "\n",
    "Сложность этого алгоритма O(N)"
   ]
  },
  {
   "cell_type": "code",
   "execution_count": 133,
   "id": "11749af6-3dc7-483e-a0bc-4ea54cd1a150",
   "metadata": {},
   "outputs": [],
   "source": [
    "from typing import List, Optional\n",
    "\n",
    "class Node:\n",
    "    def __init__(self) -> None:\n",
    "        self.id = None\n",
    "        self.left = None\n",
    "        self.right = None\n",
    "\n",
    "def get_tree_border(root: Node) -> List[int]:\n",
    "\n",
    "    result = [root]\n",
    "    next_level_nodes = [root]\n",
    "    \n",
    "    while(True):\n",
    "        if not next_level_nodes:\n",
    "            break\n",
    "\n",
    "        level_nodes = next_level_nodes\n",
    "        next_level_nodes = []\n",
    "        \n",
    "        level_left_node = None\n",
    "        level_right_node = None\n",
    "        \n",
    "        for node in level_nodes:\n",
    "            if not node.left and not node.right:\n",
    "                result.append(node)\n",
    "                continue\n",
    "\n",
    "            if node.left:\n",
    "                next_level_nodes.append(node.left)\n",
    "            \n",
    "            if node.right:\n",
    "                next_level_nodes.append(node.right)\n",
    "                \n",
    "            if not level_left_node:\n",
    "                if node.left:\n",
    "                    level_left_node = node.left\n",
    "                elif node.right:\n",
    "                    level_left_node = node.right\n",
    "                \n",
    "            if node.right:\n",
    "                level_right_node = node.right\n",
    "            elif node.left:\n",
    "                level_right_node = node.left\n",
    "\n",
    "        if level_left_node:\n",
    "            result.append(level_left_node)\n",
    "        \n",
    "        if level_right_node and level_right_node != level_left_node:\n",
    "            result.append(level_right_node)\n",
    "            \n",
    "    #return result\n",
    "    return set([r.Id for r in set(result)])"
   ]
  },
  {
   "cell_type": "code",
   "execution_count": 134,
   "id": "8d97ed00-326f-4a3e-a7f2-46d1db4e427a",
   "metadata": {},
   "outputs": [],
   "source": [
    "cases = [ \n",
    "\"\"\"\n",
    "10 0\n",
    "1 2\n",
    "3 4\n",
    "5 6\n",
    "7 -1\n",
    "8 -1\n",
    "-1 -1\n",
    "9 -1\n",
    "-1 -1\n",
    "-1 -1\n",
    "-1 -1\n",
    "\n",
    "5 8 9 1 0 7 3 2 6\n",
    "\"\"\"\n",
    "]"
   ]
  },
  {
   "cell_type": "code",
   "execution_count": 135,
   "id": "fceb7af0-3599-4add-9e2e-591c924dbacf",
   "metadata": {},
   "outputs": [],
   "source": [
    "def parse_case(case):\n",
    "    lines = case.split('\\n')[1:-1]\n",
    "    size, root_id = map(int, lines[0].split())\n",
    "    nodes = [Node() for i in range(size)]\n",
    "    for i in range(0, size):\n",
    "        left, right = map(int, lines[i+1].split())\n",
    "        nodes[i].Id = i\n",
    "        nodes[i].left = nodes[left] if left != -1 else None\n",
    "        nodes[i].right = nodes[right] if right != -1 else None\n",
    "\n",
    "    outp = list(map(int, lines[-1].split()))\n",
    "    \n",
    "    return (nodes[root_id],), set(outp)"
   ]
  },
  {
   "cell_type": "code",
   "execution_count": 136,
   "id": "0b56c11c-e355-447f-a9dd-05e119809679",
   "metadata": {},
   "outputs": [],
   "source": [
    "from testing import Tester"
   ]
  },
  {
   "cell_type": "code",
   "execution_count": 137,
   "id": "aef9aa42-1990-43c8-9e70-ba5fbe3f2844",
   "metadata": {},
   "outputs": [],
   "source": [
    "t = Tester(parse_case, get_tree_border)"
   ]
  },
  {
   "cell_type": "code",
   "execution_count": 138,
   "id": "a39f6c5d-ce14-4e2b-ac7b-1c380a24c171",
   "metadata": {},
   "outputs": [
    {
     "name": "stdout",
     "output_type": "stream",
     "text": [
      "pass\n",
      "\texpected  {0, 1, 2, 3, 5, 6, 7, 8, 9}\n",
      "\tactual    {0, 1, 2, 3, 5, 6, 7, 8, 9}\n"
     ]
    }
   ],
   "source": [
    "t.test(cases[0])"
   ]
  },
  {
   "cell_type": "code",
   "execution_count": null,
   "id": "c6e1da2a-2716-42f1-b97e-1cbaae6c8c2a",
   "metadata": {},
   "outputs": [],
   "source": [
    "Более компактная запись, когда мы проверяем граничность на уде построенных level_nodes"
   ]
  },
  {
   "cell_type": "code",
   "execution_count": 147,
   "id": "cdad2725-ae3f-452f-b6f5-9b33373a6eb4",
   "metadata": {},
   "outputs": [],
   "source": [
    "def get_tree_border(root: Node) -> List[int]:\n",
    "\n",
    "    result = []    \n",
    "    level_nodes = [root]\n",
    "\n",
    "    while len(level_nodes) > 0:\t\t\n",
    "        next_level_nodes = []\n",
    "        for node in level_nodes:\t\t\t\n",
    "            is_border = False\n",
    "            if node in [level_nodes[0], level_nodes[-1]]:\n",
    "                is_border = True\n",
    "\n",
    "            if node.left is None and node.right is None:\n",
    "                is_border = True\n",
    "            \n",
    "            if is_border:\n",
    "                result.append(node)\n",
    "\t\t\t\n",
    "            if node.left:\n",
    "                next_level_nodes.append(node.left)\n",
    "\n",
    "            if node.right:\n",
    "                next_level_nodes.append(node.right)\n",
    "            \t\t\n",
    "        level_nodes = next_level_nodes\n",
    "\t\t\t\n",
    "    #return result\n",
    "    return set([r.Id for r in set(result)])"
   ]
  },
  {
   "cell_type": "code",
   "execution_count": 148,
   "id": "3519ee46-b515-4831-b133-de8e3ca5d831",
   "metadata": {},
   "outputs": [],
   "source": [
    "res = get_tree_border(root) "
   ]
  },
  {
   "cell_type": "code",
   "execution_count": 149,
   "id": "335c7abc-846b-44d6-bf37-d755cc6c22a9",
   "metadata": {},
   "outputs": [],
   "source": [
    "t = Tester(parse_case, get_tree_border)"
   ]
  },
  {
   "cell_type": "code",
   "execution_count": 150,
   "id": "e440da6a-bbef-4234-8504-ef4ee7ccb145",
   "metadata": {},
   "outputs": [
    {
     "name": "stdout",
     "output_type": "stream",
     "text": [
      "pass\n",
      "\texpected  {0, 1, 2, 3, 5, 6, 7, 8, 9}\n",
      "\tactual    {0, 1, 2, 3, 5, 6, 7, 8, 9}\n"
     ]
    }
   ],
   "source": [
    "t.test(cases[0])"
   ]
  },
  {
   "cell_type": "code",
   "execution_count": null,
   "id": "f0069728-6a84-4a8b-bac5-7a34e22d55f1",
   "metadata": {},
   "outputs": [],
   "source": []
  },
  {
   "cell_type": "code",
   "execution_count": null,
   "id": "4b637546-6d8b-4bf4-8247-a6095326efe5",
   "metadata": {},
   "outputs": [],
   "source": []
  }
 ],
 "metadata": {
  "kernelspec": {
   "display_name": "Python 3 (ipykernel)",
   "language": "python",
   "name": "python3"
  },
  "language_info": {
   "codemirror_mode": {
    "name": "ipython",
    "version": 3
   },
   "file_extension": ".py",
   "mimetype": "text/x-python",
   "name": "python",
   "nbconvert_exporter": "python",
   "pygments_lexer": "ipython3",
   "version": "3.10.11"
  }
 },
 "nbformat": 4,
 "nbformat_minor": 5
}
