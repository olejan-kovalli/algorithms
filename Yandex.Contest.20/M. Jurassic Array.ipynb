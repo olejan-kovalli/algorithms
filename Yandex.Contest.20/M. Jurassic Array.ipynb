{
 "cells": [
  {
   "cell_type": "markdown",
   "id": "bdadee49-f4c5-456f-ae0e-508b10c20b09",
   "metadata": {},
   "source": [
    "<h1>Массив юрского периода</h1>"
   ]
  },
  {
   "cell_type": "raw",
   "id": "b51dd440-0cde-43e1-95fc-942719bf282b",
   "metadata": {},
   "source": [
    "В этой задаче вам надо реализовать структуру данных исторический массив. Исторический массив изначально имеет размер n и заполнен нулями. Он поддерживает следующие операции:\n",
    "    set(index, value) - присвоить элементу на позиции i значение value\n",
    "    begin_new_era(era_id) - эта операция начинает новую эру с номером era_id. В каждый момент времени активна единственная эра. Изначальная эра имеет индекс era_id=0. Когда начинается новая эра, предыдущая заканчивается.\n",
    "    get(index, era_id) - получить значение элемента на позиции index на момент окончания эры era_id.\n",
    "\n",
    "Формат ввода\n",
    "В первой строке дан размер исторического массива \n",
    "n (1≤n≤100000).\n",
    "Во второй строке дано число операций, производимых с массивом, — q (1≤q≤100000)\n",
    "В следующих q строках даны операции по одной в строке. Есть три вида операций: \n",
    "set index value (0≤index≤n−1, 0≤value≤10**9)\n",
    "begin_new_era era_id (1≤era_id≤10**9)\n",
    "get index era_id (0≤index≤n−1, 0≤era_id≤10**9)\n",
    "Гарантируется, что при запросе значения из конкретной эры эта эра уже успела закончиться.\n",
    "Гарантируется, что при создании эры с идентификатором era_id этот индентификатор еще не был использован.\n",
    "\n",
    "Формат вывода\n",
    "На каждую операцию третьего типа необходимо вывести на отдельной строке значение, которое содержал элемент массива с номером index на момент окончания эры era_id.\n",
    "\n",
    "Пример 1\n",
    "Ввод\t\n",
    "6\n",
    "9\n",
    "set 0 3\n",
    "set 1 8\n",
    "begin_new_era 6000\n",
    "get 0 0\n",
    "get 1 0\n",
    "set 0 9\n",
    "begin_new_era 1000000\n",
    "get 0 6000\n",
    "get 0 0\n",
    "Вывод\n",
    "3\n",
    "8\n",
    "9\n",
    "3\n",
    "\n",
    "Пример 2\n",
    "Ввод\n",
    "1\n",
    "12\n",
    "set 0 1\n",
    "set 0 2\n",
    "begin_new_era 1000\n",
    "set 0 4\n",
    "set 0 100\n",
    "begin_new_era 666\n",
    "set 0 7\n",
    "set 0 42\n",
    "begin_new_era 424242\n",
    "get 0 0\n",
    "get 0 666\n",
    "get 0 1000\n",
    "Вывод\n",
    "2\n",
    "42\n",
    "100"
   ]
  },
  {
   "cell_type": "markdown",
   "id": "2df2a484-4345-4f45-94f3-a4e9d0a0631e",
   "metadata": {},
   "source": [
    "<h2>Решение</h2>"
   ]
  },
  {
   "cell_type": "raw",
   "id": "32e36bf1-f665-4520-9592-4530d033d1d1",
   "metadata": {},
   "source": [
    "Создадим аттрибут arr и заполним его нулями. Поскольку надо будет сохранять данные при смене эры, создадим словарь eras для этого. \n",
    "При смене эры будем сохранять копию массива arr в словаре eras."
   ]
  },
  {
   "cell_type": "code",
   "execution_count": 43,
   "id": "8a6188dd-a7d8-49d5-b4a3-ba89fff75559",
   "metadata": {},
   "outputs": [],
   "source": [
    "class HistoricalArray:\n",
    "    \n",
    "    def __init__(self, size) -> None:\n",
    "        self.arr = [0]*size\n",
    "        self.eras = {}\n",
    "        self.cur_era_id = 0\n",
    "\n",
    "    def set(self, index, value) -> None:\n",
    "        self.arr[index] = value    \n",
    "\n",
    "    def get(self, index, era_id) -> int:\n",
    "        return self.eras[era_id][index]\n",
    "\n",
    "    def begin_new_era(self, era_id) -> None:\n",
    "        self.eras[self.cur_era_id] = self.arr[:]\n",
    "        self.cur_era_id = era_id\n",
    "\n"
   ]
  },
  {
   "cell_type": "code",
   "execution_count": 44,
   "id": "2c433928-7fbc-4a39-9fcf-117892cf19d5",
   "metadata": {},
   "outputs": [],
   "source": [
    "def run_scenario(scenario):\n",
    "    result = []\n",
    "    size = int(scenario[0])\n",
    "    q = int(scenario[1])\n",
    "    historical_array = HistoricalArray(size)\n",
    "    for i in range(2, q+2):\n",
    "        query = scenario[i].split()\n",
    "        query_type = query[0]\n",
    "        if query_type == \"set\":\n",
    "            historical_array.set(int(query[1]), int(query[2]))\n",
    "        elif query_type == \"begin_new_era\":\n",
    "            historical_array.begin_new_era(int(query[1]))\n",
    "        else:\n",
    "            result.append(historical_array.get(int(query[1]), int(query[2])))\n",
    "    return result"
   ]
  },
  {
   "cell_type": "code",
   "execution_count": 45,
   "id": "17b2170c-1b79-4f03-a218-0ce701c59999",
   "metadata": {},
   "outputs": [],
   "source": [
    "cases = [\n",
    "\"\"\"\n",
    "6\n",
    "9\n",
    "set 0 3\n",
    "set 1 8\n",
    "begin_new_era 6000\n",
    "get 0 0\n",
    "get 1 0\n",
    "set 0 9\n",
    "begin_new_era 1000000\n",
    "get 0 6000\n",
    "get 0 0\n",
    "\n",
    "3\n",
    "8\n",
    "9\n",
    "3\n",
    "\"\"\"\n",
    ",\n",
    "\"\"\"\n",
    "1\n",
    "12\n",
    "set 0 1\n",
    "set 0 2\n",
    "begin_new_era 1000\n",
    "set 0 4\n",
    "set 0 100\n",
    "begin_new_era 666\n",
    "set 0 7\n",
    "set 0 42\n",
    "begin_new_era 424242\n",
    "get 0 0\n",
    "get 0 666\n",
    "get 0 1000\n",
    "\n",
    "2\n",
    "42\n",
    "100\n",
    "\"\"\"\n",
    "]"
   ]
  },
  {
   "cell_type": "code",
   "execution_count": 46,
   "id": "c6d30944-2775-46f2-b666-bdf2176f177a",
   "metadata": {},
   "outputs": [],
   "source": [
    "def parse_case(case):\n",
    "    lines = case.split('\\n')[1:-1]\n",
    "    inp = []\n",
    "    size = int(lines[0])\n",
    "    q = int(lines[1])   \n",
    "    inp = [lines[:2+q]]\n",
    "    outp = list(map(int, lines[q+3:len(lines)]))\n",
    "    return (inp, outp)"
   ]
  },
  {
   "cell_type": "code",
   "execution_count": 47,
   "id": "e9e9a312-0a63-41bf-8f32-f898ac0a9203",
   "metadata": {},
   "outputs": [],
   "source": [
    "import testing"
   ]
  },
  {
   "cell_type": "code",
   "execution_count": 48,
   "id": "ca795783-ea91-4506-9372-af68dcafcdec",
   "metadata": {},
   "outputs": [],
   "source": [
    "t = testing.Tester(parse_case, run_scenario)"
   ]
  },
  {
   "cell_type": "code",
   "execution_count": 49,
   "id": "f05054e1-0ce3-4816-a6f8-8083501106cf",
   "metadata": {},
   "outputs": [
    {
     "name": "stdout",
     "output_type": "stream",
     "text": [
      "pass\n",
      "\texpected  [3, 8, 9, 3]\n",
      "\tactual    [3, 8, 9, 3]\n"
     ]
    }
   ],
   "source": [
    "t.test(cases[0])"
   ]
  },
  {
   "cell_type": "code",
   "execution_count": 50,
   "id": "fdc83857-a358-4aab-b7c0-a7b0da3cdaea",
   "metadata": {},
   "outputs": [
    {
     "name": "stdout",
     "output_type": "stream",
     "text": [
      "pass\n",
      "\texpected  [2, 42, 100]\n",
      "\tactual    [2, 42, 100]\n"
     ]
    }
   ],
   "source": [
    "t.test(cases[1])"
   ]
  },
  {
   "cell_type": "raw",
   "id": "73928fc9-6525-4b34-8370-590cca1088bb",
   "metadata": {},
   "source": [
    "Однако это решение неоптимальное, так как расходуется очень много лишней памяти. То есть по памяти сложность (N*K) где K - количество эр.\n",
    "Тоже самое касается и времени, так как с каждой сменой эры, массив приходится копировать. "
   ]
  },
  {
   "cell_type": "code",
   "execution_count": 51,
   "id": "11731b10-8129-4371-a9b8-573815f38aa8",
   "metadata": {},
   "outputs": [],
   "source": [
    "def make_big_case(n):\n",
    "    result = '\\n'\n",
    "    result += str(n) + '\\n'\n",
    "    result += str(n) + '\\n'\n",
    "    for i in range(n):\n",
    "        result += 'begin_new_era ' + str(i) + '\\n'\n",
    "    result += '\\n'\n",
    "    return result"
   ]
  },
  {
   "cell_type": "code",
   "execution_count": 52,
   "id": "eae5c6b6-822a-476d-9269-e6d0c6395bdb",
   "metadata": {},
   "outputs": [],
   "source": [
    "n=10_000\n",
    "big_case_1 = make_big_case(n)\n",
    "big_case_2 = make_big_case(2*n)"
   ]
  },
  {
   "cell_type": "code",
   "execution_count": 53,
   "id": "1f2e3607-1188-465f-8b6e-bcc302867a61",
   "metadata": {},
   "outputs": [
    {
     "name": "stdout",
     "output_type": "stream",
     "text": [
      "pass\n",
      "\texpected  []\n",
      "\tactual    []\n",
      "0.75 sec\n",
      "pass\n",
      "\texpected  []\n",
      "\tactual    []\n",
      "3.34 sec\n"
     ]
    }
   ],
   "source": [
    "t.test_big_case(big_case_1)\n",
    "t.test_big_case(big_case_2)"
   ]
  },
  {
   "cell_type": "raw",
   "id": "01cfe0db-1904-4763-9885-31eb9979964b",
   "metadata": {},
   "source": [
    "Теперь изменим логику, так чтобы не копировать весь массив, а сохранять только изменения. Да и вообще массив нам не нужен. Будем использовать словарь для индексов, которые фигурировали, а для тех что нет будем возвращать 0."
   ]
  },
  {
   "cell_type": "code",
   "execution_count": 54,
   "id": "08840b56-b1da-4fb5-8018-93679b8d41df",
   "metadata": {},
   "outputs": [],
   "source": [
    "class HistoricalArray:\n",
    "    \n",
    "    def __init__(self, size) -> None:\n",
    "        self.eras_ids = [0]\n",
    "        self.eras_data = [{}]\n",
    "                \n",
    "    def set(self, index, value) -> None:        \n",
    "        self.eras_data[-1][index] = value    \n",
    "\n",
    "    def get(self, index, era_id) -> int:\n",
    "        era_ind = self.eras_ids.index(era_id)\n",
    "        for i in range(era_ind, -1, -1):\n",
    "            if index in self.eras_data[i]:                \n",
    "                return self.eras_data[i][index]\n",
    "        else:\n",
    "            return 0\n",
    "\n",
    "    def begin_new_era(self, era_id) -> None:\n",
    "        self.eras_ids.append(era_id)\n",
    "        self.eras_data.append({})        "
   ]
  },
  {
   "cell_type": "code",
   "execution_count": 55,
   "id": "f4af3de3-86a7-4c11-b98b-06cbd99be48b",
   "metadata": {},
   "outputs": [],
   "source": [
    "t = testing.Tester(parse_case, run_scenario)"
   ]
  },
  {
   "cell_type": "code",
   "execution_count": 56,
   "id": "9fe4b65c-7cd0-427d-bfe7-2318dc329c0a",
   "metadata": {},
   "outputs": [
    {
     "name": "stdout",
     "output_type": "stream",
     "text": [
      "pass\n",
      "\texpected  [3, 8, 9, 3]\n",
      "\tactual    [3, 8, 9, 3]\n",
      "pass\n",
      "\texpected  [2, 42, 100]\n",
      "\tactual    [2, 42, 100]\n"
     ]
    }
   ],
   "source": [
    "t.test(cases[0])\n",
    "t.test(cases[1])"
   ]
  },
  {
   "cell_type": "code",
   "execution_count": 57,
   "id": "ddd5d782-1a17-4933-8260-85fff502acec",
   "metadata": {},
   "outputs": [
    {
     "name": "stdout",
     "output_type": "stream",
     "text": [
      "pass\n",
      "\texpected  []\n",
      "\tactual    []\n",
      "0.00 sec\n",
      "pass\n",
      "\texpected  []\n",
      "\tactual    []\n",
      "0.02 sec\n"
     ]
    }
   ],
   "source": [
    "t.test_big_case(big_case_1)\n",
    "t.test_big_case(big_case_2)"
   ]
  },
  {
   "cell_type": "raw",
   "id": "5f6d893a-e449-4cd5-add3-ac7cf06fdc75",
   "metadata": {},
   "source": [
    "Теперь сложность линейная по K - O(K), а памяти требуется минимально - только на элементы, которые задаются."
   ]
  },
  {
   "cell_type": "code",
   "execution_count": null,
   "id": "f3ce748f-5024-4cb7-b5db-0fee570e511e",
   "metadata": {},
   "outputs": [],
   "source": []
  },
  {
   "cell_type": "code",
   "execution_count": null,
   "id": "156e9033-b0cd-4a85-a146-3e04a94d23fa",
   "metadata": {},
   "outputs": [],
   "source": []
  }
 ],
 "metadata": {
  "kernelspec": {
   "display_name": "Python 3 (ipykernel)",
   "language": "python",
   "name": "python3"
  },
  "language_info": {
   "codemirror_mode": {
    "name": "ipython",
    "version": 3
   },
   "file_extension": ".py",
   "mimetype": "text/x-python",
   "name": "python",
   "nbconvert_exporter": "python",
   "pygments_lexer": "ipython3",
   "version": "3.10.11"
  }
 },
 "nbformat": 4,
 "nbformat_minor": 5
}
