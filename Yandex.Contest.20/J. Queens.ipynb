{
 "cells": [
  {
   "cell_type": "markdown",
   "id": "72879258-8849-4c78-a98a-f8ff092a59ef",
   "metadata": {},
   "source": [
    "<h1>Ферзи</h1>"
   ]
  },
  {
   "cell_type": "raw",
   "id": "0b482f6a-b318-41f9-b720-698dccea689b",
   "metadata": {},
   "source": [
    "Определите все расстановки из n ферзей на шахматной доске n×n, где ферзи не могут бить друг друга.\n",
    "В качестве ответа на задачу выведите в первой строке число расстановок, а далее все расстановки в следующем формате: одна расстановка описывается \n",
    "n числами. i-е число описывает i-ую строку доски, а именно оно равно номеру клетки, в которой стоит ферзь на текущей строке. Строки нумеруются сверху вниз от 1 до n. Клетки внутри строки нумеруются от 1 до n слева направо.\n",
    "Вы можете воспользоваться заготовками кода для данной задачи из репозитория курса.\n",
    "\n",
    "Формат ввода\n",
    "На вход подаётся единственное число n (1≤n≤13).\n",
    "\n",
    "Формат вывода\n",
    "Выведите единственное число — количество возможных расстановок. Далее по одной в строке выведите расстановки в произвольном порядке.\n",
    "\n",
    "Пример 1\n",
    "Ввод\t\n",
    "4\n",
    "Вывод\n",
    "2\n",
    "2 4 1 3 \n",
    "3 1 4 2 \n",
    "\n",
    "Пример 2\n",
    "Ввод\n",
    "3\n",
    "Вывод\n",
    "0"
   ]
  },
  {
   "cell_type": "markdown",
   "id": "fb4cbea7-ebf8-498b-bbd3-ab5d51525407",
   "metadata": {},
   "source": [
    "<h2>Решение</h2>"
   ]
  },
  {
   "cell_type": "raw",
   "id": "34c373c3-ff3e-4111-9f48-943c0a26826a",
   "metadata": {},
   "source": [
    "Так как на каждой строке может стоять только один ферзь, то будем идти по строкам и делать рекурсию.\n",
    "А именно: для первой строки в цикле пройдем все возможные позиции. Для каждой из позиций на первой строке пройдем все позиции на второй \n",
    "строке, но будем брать только те, которые возможны. Для этих возможных позиций проверим допустимые позиции третьего ферзя на третьей строке и т.д. "
   ]
  },
  {
   "cell_type": "code",
   "execution_count": null,
   "id": "fab097ad-3045-4dbd-a4f9-f72492f2f45a",
   "metadata": {},
   "outputs": [],
   "source": []
  },
  {
   "cell_type": "code",
   "execution_count": 2,
   "id": "e68051bb-ed5a-4904-9191-fc2ab0b4d5f7",
   "metadata": {},
   "outputs": [],
   "source": [
    "from typing import List\n",
    "\n",
    "def get_all_peaceful_combs_rec(n, comb):\n",
    "    result = []\n",
    "\n",
    "    i = len(comb)\n",
    "\n",
    "    good_js = []\n",
    "    for j in range(n):\n",
    "        if j in comb:\n",
    "            continue\n",
    "\n",
    "        for i1 in range(len(comb)):\n",
    "            j1 = comb[i1]\n",
    "            if i - i1 == abs(j - j1):\n",
    "                break\n",
    "\n",
    "            if i - i1 == 1 and abs(j - j1) <= 1:\n",
    "                break\n",
    "        else:\n",
    "            good_js.append(j)\n",
    "\n",
    "    for j in good_js:\n",
    "        if i == n-1:\n",
    "            result.append([j])\n",
    "        else:\n",
    "            sub_combs = get_all_peaceful_combs_rec(n, comb + [j])\n",
    "            for sc in sub_combs:\n",
    "                result.append([j] + sc)\n",
    "                \n",
    "    return result\n",
    "    \n",
    "def get_all_peaceful_combinations(n) -> List[List[int]]:\n",
    "    combs = get_all_peaceful_combs_rec(n, [])\n",
    "    combs = [list(map(lambda x:x+1, comb)) for comb in combs]\n",
    "    return combs"
   ]
  },
  {
   "cell_type": "code",
   "execution_count": 3,
   "id": "41014351-e4df-40b8-bf65-ed1431a34b4f",
   "metadata": {},
   "outputs": [],
   "source": [
    "def print_result(combinations):\n",
    "    print(len(combinations))\n",
    "    if len(combinations) > 0 and len(combinations[0]) < 7:\n",
    "        for combination in combinations:\n",
    "            print(*combination)"
   ]
  },
  {
   "cell_type": "code",
   "execution_count": null,
   "id": "d6206579-b4e3-4daa-962b-b12b5ebdd4b2",
   "metadata": {},
   "outputs": [],
   "source": []
  },
  {
   "cell_type": "code",
   "execution_count": null,
   "id": "e11bc995-2678-4f7f-b16f-1a2d408f45d6",
   "metadata": {},
   "outputs": [],
   "source": []
  },
  {
   "cell_type": "code",
   "execution_count": 4,
   "id": "0f1896b0-a3d1-4c89-aa08-ecb7cbc1d93b",
   "metadata": {},
   "outputs": [
    {
     "name": "stdout",
     "output_type": "stream",
     "text": [
      "1\n",
      "1\n"
     ]
    }
   ],
   "source": [
    "n = 1\n",
    "combinations = get_all_peaceful_combinations(n)\n",
    "print_result(combinations)"
   ]
  },
  {
   "cell_type": "code",
   "execution_count": 5,
   "id": "8a3a6e20-e67f-4a94-bfd4-c5af3fef6ef5",
   "metadata": {},
   "outputs": [
    {
     "name": "stdout",
     "output_type": "stream",
     "text": [
      "0\n"
     ]
    }
   ],
   "source": [
    "n = 2\n",
    "combinations = get_all_peaceful_combinations(n)\n",
    "print_result(combinations)"
   ]
  },
  {
   "cell_type": "code",
   "execution_count": 6,
   "id": "1741c793-c224-4bdd-975e-e60595dd6280",
   "metadata": {},
   "outputs": [
    {
     "name": "stdout",
     "output_type": "stream",
     "text": [
      "0\n"
     ]
    }
   ],
   "source": [
    "n = 3\n",
    "combinations = get_all_peaceful_combinations(n)\n",
    "print_result(combinations)"
   ]
  },
  {
   "cell_type": "code",
   "execution_count": 7,
   "id": "8634b7b7-57be-4c29-a6be-a53429e1cebb",
   "metadata": {},
   "outputs": [
    {
     "name": "stdout",
     "output_type": "stream",
     "text": [
      "2\n",
      "2 4 1 3\n",
      "3 1 4 2\n"
     ]
    }
   ],
   "source": [
    "n = 4\n",
    "combinations = get_all_peaceful_combinations(n)\n",
    "print_result(combinations)"
   ]
  },
  {
   "cell_type": "code",
   "execution_count": 8,
   "id": "29d3692b-e895-4475-a83b-72c6cdeddc41",
   "metadata": {},
   "outputs": [
    {
     "name": "stdout",
     "output_type": "stream",
     "text": [
      "10\n",
      "1 3 5 2 4\n",
      "1 4 2 5 3\n",
      "2 4 1 3 5\n",
      "2 5 3 1 4\n",
      "3 1 4 2 5\n",
      "3 5 2 4 1\n",
      "4 1 3 5 2\n",
      "4 2 5 3 1\n",
      "5 2 4 1 3\n",
      "5 3 1 4 2\n"
     ]
    }
   ],
   "source": [
    "n = 5\n",
    "combinations = get_all_peaceful_combinations(n)\n",
    "print_result(combinations)"
   ]
  },
  {
   "cell_type": "code",
   "execution_count": 9,
   "id": "cd2bb104-541d-4131-a8ed-cc097cc722fb",
   "metadata": {},
   "outputs": [
    {
     "name": "stdout",
     "output_type": "stream",
     "text": [
      "4\n",
      "2 4 6 1 3 5\n",
      "3 6 2 5 1 4\n",
      "4 1 5 2 6 3\n",
      "5 3 1 6 4 2\n"
     ]
    }
   ],
   "source": [
    "n = 6\n",
    "combinations = get_all_peaceful_combinations(n)\n",
    "print_result(combinations)"
   ]
  },
  {
   "cell_type": "code",
   "execution_count": 10,
   "id": "8c1cd23f-48a6-45e4-8747-9f88f91f5b0f",
   "metadata": {},
   "outputs": [
    {
     "name": "stdout",
     "output_type": "stream",
     "text": [
      "40\n"
     ]
    }
   ],
   "source": [
    "n = 7\n",
    "combinations = get_all_peaceful_combinations(n)\n",
    "print_result(combinations)"
   ]
  },
  {
   "cell_type": "code",
   "execution_count": 11,
   "id": "7a3cd785-4841-4160-9778-de4bce7bf92a",
   "metadata": {},
   "outputs": [
    {
     "name": "stdout",
     "output_type": "stream",
     "text": [
      "92\n"
     ]
    }
   ],
   "source": [
    "n = 8\n",
    "combinations = get_all_peaceful_combinations(n)\n",
    "print_result(combinations)"
   ]
  },
  {
   "cell_type": "code",
   "execution_count": 12,
   "id": "7f061307-1297-4774-9fe5-868315635c32",
   "metadata": {},
   "outputs": [
    {
     "name": "stdout",
     "output_type": "stream",
     "text": [
      "352\n"
     ]
    }
   ],
   "source": [
    "n = 9\n",
    "combinations = get_all_peaceful_combinations(n)\n",
    "print_result(combinations)"
   ]
  },
  {
   "cell_type": "code",
   "execution_count": 13,
   "id": "1a97b6d0-1c7c-4a73-bcc3-e91f1f619fff",
   "metadata": {},
   "outputs": [
    {
     "name": "stdout",
     "output_type": "stream",
     "text": [
      "724\n"
     ]
    }
   ],
   "source": [
    "n = 10\n",
    "combinations = get_all_peaceful_combinations(n)\n",
    "print_result(combinations)"
   ]
  },
  {
   "cell_type": "code",
   "execution_count": 14,
   "id": "6616e262-27e6-499a-b106-4ab9ba1edc4b",
   "metadata": {},
   "outputs": [
    {
     "name": "stdout",
     "output_type": "stream",
     "text": [
      "2680\n"
     ]
    }
   ],
   "source": [
    "n = 11\n",
    "combinations = get_all_peaceful_combinations(n)\n",
    "print_result(combinations)"
   ]
  },
  {
   "cell_type": "code",
   "execution_count": 15,
   "id": "7495d3cb-0317-4a19-9037-956149d81cf1",
   "metadata": {},
   "outputs": [],
   "source": [
    "from time import time"
   ]
  },
  {
   "cell_type": "code",
   "execution_count": 16,
   "id": "cf26cc91-7e9f-4d5f-8b59-77db0403b892",
   "metadata": {},
   "outputs": [
    {
     "name": "stdout",
     "output_type": "stream",
     "text": [
      "3.2454476356506348\n",
      "14200\n"
     ]
    }
   ],
   "source": [
    "n = 12\n",
    "start = time()\n",
    "combinations = get_all_peaceful_combinations(n)\n",
    "print(time() - start)\n",
    "print_result(combinations)"
   ]
  },
  {
   "cell_type": "code",
   "execution_count": 17,
   "id": "174a7fcb-7085-480b-a67e-a55d672dab01",
   "metadata": {},
   "outputs": [
    {
     "name": "stdout",
     "output_type": "stream",
     "text": [
      "17.468607664108276\n",
      "73712\n"
     ]
    }
   ],
   "source": [
    "n = 13\n",
    "start = time()\n",
    "combinations = get_all_peaceful_combinations(n)\n",
    "print(time() - start)\n",
    "print_result(combinations)"
   ]
  },
  {
   "cell_type": "code",
   "execution_count": null,
   "id": "d74d6dd4-5cc5-4d6f-94a8-27b851eb20d3",
   "metadata": {},
   "outputs": [],
   "source": []
  }
 ],
 "metadata": {
  "kernelspec": {
   "display_name": "Python 3 (ipykernel)",
   "language": "python",
   "name": "python3"
  },
  "language_info": {
   "codemirror_mode": {
    "name": "ipython",
    "version": 3
   },
   "file_extension": ".py",
   "mimetype": "text/x-python",
   "name": "python",
   "nbconvert_exporter": "python",
   "pygments_lexer": "ipython3",
   "version": "3.10.11"
  }
 },
 "nbformat": 4,
 "nbformat_minor": 5
}
