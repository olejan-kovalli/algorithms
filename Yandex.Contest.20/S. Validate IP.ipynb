{
 "cells": [
  {
   "cell_type": "markdown",
   "id": "67146d38-7eee-4a65-a595-28027ed8ae61",
   "metadata": {},
   "source": [
    "<h1>По IP вычислю</h1>"
   ]
  },
  {
   "cell_type": "raw",
   "id": "65ec67e0-8440-410d-841c-f6a9659f04d1",
   "metadata": {},
   "source": [
    "В этой задаче вам предстоит ответить на вопрос, является данная на вход строка корректным IPv4 или IPv6-адресом. Решите задачу без использования регулярных выражений.\n",
    "\n",
    "Валидный IPv4-адрес имеет следующий формат: s1.s2.s3.s4, где s[i] — целое число от 0 до 255. Числа s[i] не должны иметь лидирующих нулей.\n",
    "Валидный IPv6-адрес имеет следующий формат: s1:s2:s3:s4:s5:s6:s7:s8, где s[i] - представление числа в 16-ричной системе, состоящее не более чем из четырёх символов. В записи каждого числа могут присутствовать лидирующие нули. Разрешено использовать символы 0-9, a-f, A-F. \n",
    "s[i] не может быть пустой последовательностью символов.\n",
    "Замечание: в реальности в IPv6-адресе допустима замена группы нулевых полей на ::, однако для простоты в данной задаче такое правило учитывать не нужно.\n",
    "Вы можете воспользоваться заготовками кода для данной задачи из репозитория курса.\n",
    "\n",
    "Формат ввода\n",
    "На вход подается строка, состоящая из латинских букв, цифр и символов «.» и «:». Длина строки не превосходит 100 символов.\n",
    "Формат вывода\n",
    "Выведите «IPv4», если строка является корректным IPv4-адресом.\n",
    "Выведите «IPv6», если строка является корректным IPv6-адресом.\n",
    "Выведите «Error», если строка не является корректной записью IP-адреса.\n",
    "\n",
    "Пример 1\n",
    "Ввод\tВывод\n",
    "127.0.0.1\n",
    "IPv4\n",
    "\n",
    "Пример 2\n",
    "Ввод\tВывод\n",
    "256.0.0.0\n",
    "Error\n",
    "\n",
    "Пример 3\n",
    "Ввод\tВывод\n",
    "2001:0db8:85a3:00:0:8a2e:0370:7334\n",
    "IPv6\n",
    "\n",
    "Пример 4\n",
    "Ввод\tВывод\n",
    "2001:0db8:85a3:0:030:8a2e:0370:7334\n",
    "IPv6"
   ]
  },
  {
   "cell_type": "markdown",
   "id": "1d73e298-a0be-47e3-af6b-094c7ecb9cba",
   "metadata": {},
   "source": [
    "<h2>Решение</h2>"
   ]
  },
  {
   "cell_type": "raw",
   "id": "0ca99847-3083-4d1b-835f-8b2568c2eabf",
   "metadata": {},
   "source": [
    "Сначала проверим на разделители - если это точки и частей 4, то потенциально это IPv4. Если двоеточия и частей 8 - то потенциально IPv6. В противном случае - ERROR. Далее надо проверить каждую часть на соответствие описанию. Для этого создадим отдельные функции."
   ]
  },
  {
   "cell_type": "code",
   "execution_count": 8,
   "id": "1fc8f6d9-fb46-4a92-b0c1-b68f73ea1877",
   "metadata": {},
   "outputs": [],
   "source": [
    "IPV4 = \"IPv4\"\n",
    "IPV6 = \"IPv6\"\n",
    "ERROR = \"Error\"\n",
    "\n",
    "def isIPv4part(part):\n",
    "    if not part.isdigit():\n",
    "        return False\n",
    "\n",
    "    val = int(part)\n",
    "    if val > 255:\n",
    "        return False\n",
    "    \n",
    "    if len(part) > 1 and part[0] == '0':\n",
    "        return False\n",
    "        \n",
    "    return True\n",
    "\n",
    "def isIPv6part(part):\n",
    "    if not set(part.lower()) <= set('0123456789abcdef'):\n",
    "        return False\n",
    "\n",
    "    if len(part) == 0 or len(part) > 4:\n",
    "        return False\n",
    "        \n",
    "    return True\n",
    "\n",
    "# return IPV4, IPV6 or ERROR constant\n",
    "def check_ip_address(ip_to_check: str) -> str:\n",
    "    IPV4 = \"IPv4\"\n",
    "    IPV6 = \"IPv6\"\n",
    "    ERROR = \"Error\"\n",
    "\n",
    "    parts = ip_to_check.split('.') \n",
    "    \n",
    "    if len(parts) == 4:\n",
    "        for p in parts:\n",
    "            if not isIPv4part(p):\n",
    "                return ERROR\n",
    "        return IPV4\n",
    "\n",
    "    parts = ip_to_check.split(':')\n",
    "    \n",
    "    if len(parts) == 8:\n",
    "        for p in parts:\n",
    "            if not isIPv6part(p):\n",
    "                return ERROR\n",
    "        return IPV6\n",
    "        \n",
    "    return ERROR"
   ]
  },
  {
   "cell_type": "code",
   "execution_count": 9,
   "id": "fdc4fed5-728b-4a6e-a30a-3511e9746c92",
   "metadata": {},
   "outputs": [],
   "source": [
    "from testing import Tester"
   ]
  },
  {
   "cell_type": "code",
   "execution_count": 10,
   "id": "83d3e4dd-aea5-4425-a788-c343ea3cad97",
   "metadata": {},
   "outputs": [],
   "source": [
    "cases = [\n",
    "\"\"\"\n",
    "127.0.0.1\n",
    "\n",
    "IPv4\n",
    "\"\"\"\n",
    ",\n",
    "\"\"\"\n",
    "256.0.0.0\n",
    "\n",
    "Error\n",
    "\"\"\"\n",
    ",\n",
    "\"\"\"\n",
    "2001:0db8:85a3:00:0:8a2e:0370:7334\n",
    "\n",
    "IPv6\n",
    "\"\"\"\n",
    ",\n",
    "\"\"\"\n",
    "2001:0db8:85a3:0:030:8a2e:0370:7334\n",
    "\n",
    "IPv6\n",
    "\"\"\"\n",
    "]"
   ]
  },
  {
   "cell_type": "code",
   "execution_count": 18,
   "id": "e0d12f8c-8c71-4e7d-a149-371e33a27bcd",
   "metadata": {},
   "outputs": [],
   "source": [
    "def parse_case(case):\n",
    "    lines = case.split('\\n')[1:-1]\n",
    "    ip_str = lines[0]\n",
    "    outp = lines[-1]\n",
    "\n",
    "    return (ip_str,), outp"
   ]
  },
  {
   "cell_type": "code",
   "execution_count": 19,
   "id": "f56a4cb6-09d0-4af7-a4a2-c24868098921",
   "metadata": {},
   "outputs": [],
   "source": [
    "t = Tester(parse_case, check_ip_address)"
   ]
  },
  {
   "cell_type": "code",
   "execution_count": 20,
   "id": "5b8ceb3a-54d0-427c-bf9c-6e5adea769b7",
   "metadata": {},
   "outputs": [
    {
     "name": "stdout",
     "output_type": "stream",
     "text": [
      "pass\n",
      "\texpected  IPv4\n",
      "\tactual    IPv4\n"
     ]
    }
   ],
   "source": [
    "t.test(cases[0])"
   ]
  },
  {
   "cell_type": "code",
   "execution_count": 21,
   "id": "08ccce1c-0790-432a-8eb4-ecee4efa9f24",
   "metadata": {},
   "outputs": [
    {
     "name": "stdout",
     "output_type": "stream",
     "text": [
      "pass\n",
      "\texpected  Error\n",
      "\tactual    Error\n"
     ]
    }
   ],
   "source": [
    "t.test(cases[1])"
   ]
  },
  {
   "cell_type": "code",
   "execution_count": 22,
   "id": "a343ab96-db78-400f-aafb-a8c166c337cc",
   "metadata": {},
   "outputs": [
    {
     "name": "stdout",
     "output_type": "stream",
     "text": [
      "pass\n",
      "\texpected  IPv6\n",
      "\tactual    IPv6\n"
     ]
    }
   ],
   "source": [
    "t.test(cases[2])"
   ]
  },
  {
   "cell_type": "code",
   "execution_count": 23,
   "id": "2bd0042a-d929-4d41-a95f-cf37c2e10a64",
   "metadata": {},
   "outputs": [
    {
     "name": "stdout",
     "output_type": "stream",
     "text": [
      "pass\n",
      "\texpected  IPv6\n",
      "\tactual    IPv6\n"
     ]
    }
   ],
   "source": [
    "t.test(cases[3])"
   ]
  },
  {
   "cell_type": "code",
   "execution_count": null,
   "id": "98f52ead-ff44-4c72-bf22-0ef820451967",
   "metadata": {},
   "outputs": [],
   "source": []
  }
 ],
 "metadata": {
  "kernelspec": {
   "display_name": "Python 3 (ipykernel)",
   "language": "python",
   "name": "python3"
  },
  "language_info": {
   "codemirror_mode": {
    "name": "ipython",
    "version": 3
   },
   "file_extension": ".py",
   "mimetype": "text/x-python",
   "name": "python",
   "nbconvert_exporter": "python",
   "pygments_lexer": "ipython3",
   "version": "3.10.11"
  }
 },
 "nbformat": 4,
 "nbformat_minor": 5
}
