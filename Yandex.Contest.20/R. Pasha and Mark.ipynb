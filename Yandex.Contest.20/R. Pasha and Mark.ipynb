{
 "cells": [
  {
   "cell_type": "markdown",
   "id": "67146d38-7eee-4a65-a595-28027ed8ae61",
   "metadata": {},
   "source": [
    "<h1>Паша и Марк</h1>"
   ]
  },
  {
   "cell_type": "raw",
   "id": "65ec67e0-8440-410d-841c-f6a9659f04d1",
   "metadata": {},
   "source": [
    "Паша и Марк играют в игру. Изначально есть число n. Текущий игрок может выбрать любой делитель d числа n, который удовлетворяет условию d < n. Далее этот игрок заменяет n на n−d. Проигрывает тот, кто не может сделать ход. Определите, кто выиграет при оптимальной игре. Первый ход всегда делает Паша.\n",
    "Вы можете воспользоваться заготовками кода для данной задачи из репозитория курса."
   ]
  },
  {
   "cell_type": "markdown",
   "id": "1d73e298-a0be-47e3-af6b-094c7ecb9cba",
   "metadata": {},
   "source": [
    "<h2>Решение</h2>"
   ]
  },
  {
   "cell_type": "raw",
   "id": "0ca99847-3083-4d1b-835f-8b2568c2eabf",
   "metadata": {},
   "source": [
    "Проигрывает в итоге тот кому достается число 1 или 0. Если игроку досталось четное число, то он может выбрать делитель 2 и вернуть четное, или выбрать делитель 1 и вернуть нечетное. А если игроку достается нечетное, то он возвращает всегда нечетное, таким образом, приемущество всегда у игрока, которому досталось четное число. Он в итоге и выиграет."
   ]
  },
  {
   "cell_type": "code",
   "execution_count": 18,
   "id": "11749af6-3dc7-483e-a0bc-4ea54cd1a150",
   "metadata": {},
   "outputs": [],
   "source": [
    "def is_pasha_wins(n: int) -> bool:\n",
    "    \n",
    "    return n%2 == 0\n",
    "\n",
    "\n"
   ]
  },
  {
   "cell_type": "code",
   "execution_count": null,
   "id": "ec589acb-e286-48e8-a7b2-50bb66a47c9e",
   "metadata": {},
   "outputs": [],
   "source": [
    "for i in range(20)\n",
    "    if is_pasha_wins(n):\n",
    "        print('Pasha')\n",
    "    else:\n",
    "    print('Mark')"
   ]
  }
 ],
 "metadata": {
  "kernelspec": {
   "display_name": "Python 3 (ipykernel)",
   "language": "python",
   "name": "python3"
  },
  "language_info": {
   "codemirror_mode": {
    "name": "ipython",
    "version": 3
   },
   "file_extension": ".py",
   "mimetype": "text/x-python",
   "name": "python",
   "nbconvert_exporter": "python",
   "pygments_lexer": "ipython3",
   "version": "3.10.11"
  }
 },
 "nbformat": 4,
 "nbformat_minor": 5
}
