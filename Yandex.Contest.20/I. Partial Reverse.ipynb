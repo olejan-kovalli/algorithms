{
 "cells": [
  {
   "cell_type": "markdown",
   "id": "bd318c35-47a7-4dd1-b228-0272f52a499c",
   "metadata": {},
   "source": [
    "<h1>Частичный разворот</h1>"
   ]
  },
  {
   "cell_type": "raw",
   "id": "4acb4f3e-fbea-4a9b-911d-6a815f87bac1",
   "metadata": {},
   "source": [
    "В этой задаче требуется сделать разворот части односвязного списка. Каждая вершина списка описывается структурой Node, каждый экземпляр хранит указатель на следующую вершину или null (nullptr, None, nil), если вершина последняя. По заданным индексам from и to разверните все вершины на отрезке с from до to включительно. Заметьте, что нумерация в индексах from и to с единицы.\n",
    "\n",
    "Формат ввода\n",
    "Реализуйте функцию Reverse, которая принимает голову списка и два целочисленных индекса. Подробные сигнатуры указаны в шаблонах на диске.\n",
    "Гарантируется, что в списке есть хотя бы одна вершина. Суммарное число вершин не превосходит 10**5.\n",
    "\n",
    "Формат вывода\n",
    "Функция Reverse должна возвращать голову изменённого списка. Создавать вершины заново нельзя.\n",
    "\n",
    "Пример\n",
    "\n",
    "Ввод\n",
    "1-->2-->3-->4-->5\n",
    "2, 4\n",
    "Вывод\n",
    "1-->4-->3-->2-->5"
   ]
  },
  {
   "cell_type": "markdown",
   "id": "8d2c9356-db77-4b82-a3e4-ebd1ed2f19da",
   "metadata": {},
   "source": [
    "<h2>Решение</h2"
   ]
  },
  {
   "cell_type": "raw",
   "id": "8b7a19d6-141c-41e9-bf3e-9f9e95c5ad40",
   "metadata": {},
   "source": [
    "Сначала найдем первый элемент который нужно реверсировать. Назовем его left_node. Его предшественник будет pre_left_node. \n",
    "При это он может быть None, если left_node == head. затем будем разворачивать ссылки последующих нодов в обратную сторону и обновлять left_node.\n",
    "Все это время pre_left_node будет ссылаться на node (изначально left_node), который будет проходить вперед по списку. В конце нужно сделать ссылку на новый left node. Но если pre_left_node == None, то новая голова будет новый left_node."
   ]
  },
  {
   "cell_type": "code",
   "execution_count": null,
   "id": "0407dba5-a7b9-4014-bfc0-4e9313ca50c7",
   "metadata": {},
   "outputs": [],
   "source": []
  },
  {
   "cell_type": "code",
   "execution_count": 5,
   "id": "90f8d5ca-44c4-4928-9706-357bd69e2e95",
   "metadata": {},
   "outputs": [],
   "source": [
    "#from node import Node\n",
    "\n",
    "# Comment it before submitting\n",
    "class Node:\n",
    "    def __init__(self, value, next=None):\n",
    "        self.value = value\n",
    "        self.next = next\n",
    "\n",
    "def Reverse(head: Node, left: int, right: int) -> Node:\n",
    "\n",
    "    pre_left_node = None\n",
    "    left_node = head\n",
    "\n",
    "    for i in range(left-1):\n",
    "        pre_left_node = left_node\n",
    "        left_node = left_node.next\n",
    "\n",
    "    node = left_node\n",
    "    for i in range(right - left):\n",
    "        if node.next:\n",
    "            next_node = node.next\n",
    "            next_next_node = next_node.next\n",
    "            next_node.next = left_node\n",
    "            node.next = next_next_node\n",
    "            left_node = next_node\n",
    "\n",
    "    if pre_left_node:\n",
    "        pre_left_node.next = left_node\n",
    "    else:\n",
    "        head = left_node\n",
    "\n",
    "    return head"
   ]
  },
  {
   "cell_type": "code",
   "execution_count": null,
   "id": "9875fd47-50a6-4b5f-a2b4-792acbe75813",
   "metadata": {},
   "outputs": [],
   "source": []
  },
  {
   "cell_type": "code",
   "execution_count": 6,
   "id": "20b8ee5c-e511-439f-8f7c-d0d9d0a4308f",
   "metadata": {},
   "outputs": [],
   "source": [
    "def createLinkedList(start: int, end: int) -> Node:\n",
    "    node = Node(0)\n",
    "    head = node\n",
    "    for i in range(start, end):\n",
    "        node.value = i\n",
    "        next_node = Node(0)\n",
    "        node.next = next_node\n",
    "        node = next_node\n",
    "\n",
    "    node.value = end\n",
    "    \n",
    "    return head"
   ]
  },
  {
   "cell_type": "code",
   "execution_count": 7,
   "id": "174eb7b6-9daa-4c95-956c-df0e0eaa62ec",
   "metadata": {},
   "outputs": [],
   "source": [
    "def printLinkedList(head: Node):\n",
    "    node = head\n",
    "    while True:\n",
    "        if node is not None:\n",
    "            print(node.value, end='-->')\n",
    "            node = node.next\n",
    "        else:\n",
    "            print(None)\n",
    "            break"
   ]
  },
  {
   "cell_type": "code",
   "execution_count": null,
   "id": "867383d3-5875-4371-ad3e-017a244e49de",
   "metadata": {},
   "outputs": [],
   "source": []
  },
  {
   "cell_type": "markdown",
   "id": "70d7b289-120b-4df5-82a9-9e1241e66b2e",
   "metadata": {},
   "source": [
    "<h3>Test 1</h3>"
   ]
  },
  {
   "cell_type": "code",
   "execution_count": 8,
   "id": "14c0096e-7fa2-494c-bbc7-715be115ffe6",
   "metadata": {},
   "outputs": [
    {
     "name": "stdout",
     "output_type": "stream",
     "text": [
      "1-->2-->3-->4-->5-->None\n"
     ]
    }
   ],
   "source": [
    "head = createLinkedList(1,5)\n",
    "printLinkedList(head)"
   ]
  },
  {
   "cell_type": "code",
   "execution_count": 9,
   "id": "519f94b3-98ae-4668-ae6f-ba22c4b6dc61",
   "metadata": {},
   "outputs": [],
   "source": [
    "rev_ll = Reverse(head, 2, 4)"
   ]
  },
  {
   "cell_type": "code",
   "execution_count": 10,
   "id": "7460ad12-9ab0-47c9-9229-fbe6e2d68be4",
   "metadata": {},
   "outputs": [
    {
     "name": "stdout",
     "output_type": "stream",
     "text": [
      "1-->4-->3-->2-->5-->None\n"
     ]
    }
   ],
   "source": [
    "printLinkedList(rev_ll)"
   ]
  },
  {
   "cell_type": "markdown",
   "id": "5d80b830-fc87-4acb-8309-77672714d686",
   "metadata": {},
   "source": [
    "<h3>Test 2</h3>"
   ]
  },
  {
   "cell_type": "code",
   "execution_count": 11,
   "id": "c9edd7f0-3b88-4c55-aec6-a5aea4e67f96",
   "metadata": {},
   "outputs": [
    {
     "name": "stdout",
     "output_type": "stream",
     "text": [
      "1-->None\n"
     ]
    }
   ],
   "source": [
    "head = createLinkedList(1,1)\n",
    "printLinkedList(head)"
   ]
  },
  {
   "cell_type": "code",
   "execution_count": 12,
   "id": "1761457f-0b82-497a-9542-1faddec8f521",
   "metadata": {},
   "outputs": [
    {
     "name": "stdout",
     "output_type": "stream",
     "text": [
      "1-->None\n"
     ]
    }
   ],
   "source": [
    "printLinkedList(Reverse(head, 1, 1))"
   ]
  },
  {
   "cell_type": "markdown",
   "id": "7fad1e9f-f90b-4563-b240-a92a053434af",
   "metadata": {},
   "source": [
    "<h3>Test 3</h3>"
   ]
  },
  {
   "cell_type": "code",
   "execution_count": 13,
   "id": "239eadde-35cc-44eb-a6f5-279381cda1fa",
   "metadata": {},
   "outputs": [
    {
     "name": "stdout",
     "output_type": "stream",
     "text": [
      "1-->2-->None\n"
     ]
    }
   ],
   "source": [
    "head = createLinkedList(1,2)\n",
    "printLinkedList(head)"
   ]
  },
  {
   "cell_type": "code",
   "execution_count": 14,
   "id": "010181f1-7ac7-4246-b14f-bf1b78a1838c",
   "metadata": {},
   "outputs": [
    {
     "name": "stdout",
     "output_type": "stream",
     "text": [
      "2-->1-->None\n"
     ]
    }
   ],
   "source": [
    "printLinkedList(Reverse(head, 1, 2))"
   ]
  },
  {
   "cell_type": "markdown",
   "id": "e4191b5c-7b61-4b7b-8c71-14658ba5a879",
   "metadata": {},
   "source": [
    "<h3>Test 4</h3>"
   ]
  },
  {
   "cell_type": "code",
   "execution_count": 15,
   "id": "4726a1dd-32fd-4cc3-bd02-3734e7f8a740",
   "metadata": {},
   "outputs": [
    {
     "name": "stdout",
     "output_type": "stream",
     "text": [
      "1-->2-->3-->4-->5-->6-->7-->8-->9-->10-->None\n"
     ]
    }
   ],
   "source": [
    "head = createLinkedList(1,10)\n",
    "printLinkedList(head)"
   ]
  },
  {
   "cell_type": "code",
   "execution_count": 16,
   "id": "a64a1887-cf83-44f1-a759-b48eb3111070",
   "metadata": {},
   "outputs": [
    {
     "name": "stdout",
     "output_type": "stream",
     "text": [
      "5-->4-->3-->2-->1-->6-->7-->8-->9-->10-->None\n"
     ]
    }
   ],
   "source": [
    "printLinkedList(Reverse(head, 1, 5))"
   ]
  },
  {
   "cell_type": "markdown",
   "id": "7b1d7351-74cf-423d-b208-de55293e364e",
   "metadata": {},
   "source": [
    "<h3>Test 5</h3>"
   ]
  },
  {
   "cell_type": "code",
   "execution_count": 17,
   "id": "2b7119e7-ad11-4874-a8d0-f922557a3a64",
   "metadata": {},
   "outputs": [
    {
     "name": "stdout",
     "output_type": "stream",
     "text": [
      "1-->2-->3-->4-->5-->6-->7-->8-->9-->10-->None\n"
     ]
    }
   ],
   "source": [
    "head = createLinkedList(1,10)\n",
    "printLinkedList(head)"
   ]
  },
  {
   "cell_type": "code",
   "execution_count": 18,
   "id": "db79d7d2-ad80-48fa-a8a8-77f57dbc905d",
   "metadata": {},
   "outputs": [
    {
     "name": "stdout",
     "output_type": "stream",
     "text": [
      "1-->2-->3-->4-->10-->9-->8-->7-->6-->5-->None\n"
     ]
    }
   ],
   "source": [
    "printLinkedList(Reverse(head, 5, 10))"
   ]
  },
  {
   "cell_type": "code",
   "execution_count": null,
   "id": "ccc4a3ec-bb72-484e-bd87-9933265e75e2",
   "metadata": {},
   "outputs": [],
   "source": []
  },
  {
   "cell_type": "code",
   "execution_count": null,
   "id": "e9fea376-b86e-468c-a4c7-05c708d3f314",
   "metadata": {},
   "outputs": [],
   "source": []
  }
 ],
 "metadata": {
  "kernelspec": {
   "display_name": "Python 3 (ipykernel)",
   "language": "python",
   "name": "python3"
  },
  "language_info": {
   "codemirror_mode": {
    "name": "ipython",
    "version": 3
   },
   "file_extension": ".py",
   "mimetype": "text/x-python",
   "name": "python",
   "nbconvert_exporter": "python",
   "pygments_lexer": "ipython3",
   "version": "3.10.11"
  }
 },
 "nbformat": 4,
 "nbformat_minor": 5
}
