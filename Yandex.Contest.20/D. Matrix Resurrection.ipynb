{
 "cells": [
  {
   "cell_type": "markdown",
   "id": "a457541f-2ba1-4184-b4c7-5262531cba64",
   "metadata": {},
   "source": [
    "<h1>Matrix Resurrection</h1>"
   ]
  },
  {
   "cell_type": "raw",
   "id": "16de9360-9115-4244-af9f-c49b673c3cdf",
   "metadata": {},
   "source": [
    "Вам дана матрица из n  строк и m столбцов, заполненная натуральными числами. По матрице можно перемещаться, \n",
    "из клетки можно уходить только в соседнюю по стороне клетку, переходы по диагонали, а также выход за границу матрицы запрещены.\n",
    "Ваша задача — найти наиболее длинный возрастающий путь в матрице. Путь возрастающий, если значения в посещаемых клетках \n",
    "строго возрастают от начала пути к его концу.\n",
    "\n",
    "Формат ввода\n",
    "В первой строке даны два числа, описывающие размер матрицы — n, m (1≤n,m≤10**3). В следующих n строках записана сама матрица. \n",
    "i-я строка матрицы содержит m чисел, записанных через пробел. Все элементы матрицы — натуральные числа, не превосходящие 10**9.\n",
    "Формат вывода \n",
    "Выведите единственное число — длину наибольшего возрастающего пути.\n",
    "\n",
    "Пример 1\n",
    "Ввод\n",
    "2 3\n",
    "10 8 5\n",
    "10 5 4\n",
    "Вывод\n",
    "4\n",
    "\n",
    "Пример 2\n",
    "Ввод\n",
    "2 2\n",
    "1 1\n",
    "1 1\n",
    "Вывод\n",
    "1\n",
    "\n",
    "Пример 3\n",
    "Ввод\n",
    "2 2\n",
    "10 9\n",
    "9 11\n",
    "Вывод\n",
    "2"
   ]
  },
  {
   "cell_type": "code",
   "execution_count": 113,
   "id": "842430e5-f6a9-432a-a267-c1c264c19f33",
   "metadata": {},
   "outputs": [],
   "source": [
    "cases = [\n",
    "\"\"\"\n",
    "2 3\n",
    "10 8 5\n",
    "10 5 4\n",
    "\n",
    "4\n",
    "\"\"\"\n",
    ",\n",
    "\"\"\"\n",
    "2 2\n",
    "1 1\n",
    "1 1\n",
    "\n",
    "1\n",
    "\"\"\"\n",
    ",\n",
    "\"\"\"\n",
    "2 2\n",
    "10 9\n",
    "9 11\n",
    "\n",
    "2\n",
    "\"\"\"\n",
    "]"
   ]
  },
  {
   "cell_type": "markdown",
   "id": "5d65a4ef-2e0e-4eb3-ba6f-57247b1b631a",
   "metadata": {},
   "source": [
    "<h2>Решение</h2>"
   ]
  },
  {
   "cell_type": "raw",
   "id": "ca837f67-f6fd-437a-804d-d9c46a840b27",
   "metadata": {},
   "source": [
    "Будем решать рекурсивно. Сделаем цикл по всем клеткам и будем брать в качестве отправного пути и заполнять массив visited"
   ]
  },
  {
   "cell_type": "code",
   "execution_count": 114,
   "id": "ec08edc1",
   "metadata": {},
   "outputs": [],
   "source": [
    "from typing import List\n",
    "\n",
    "def get_all_incr_paths(i, j, matrix, visited, n, m):\n",
    "    \n",
    "    cur_val = matrix[i][j]\n",
    "    \n",
    "    all_incr_sub_paths = []\n",
    "    #incr_sub_paths = []\n",
    "    \n",
    "    #left\n",
    "    if j-1 >=0 and matrix[i][j-1] > cur_val and (i, j-1) not in visited:\n",
    "        all_incr_sub_paths += get_all_incr_paths(i, j-1, matrix, visited + [(i,j-1)], n, m)\n",
    "    \n",
    "    #up\n",
    "    if i-1 >=0 and matrix[i-1][j] > cur_val and (i-1, j) not in visited:\n",
    "        all_incr_sub_paths += get_all_incr_paths(i-1, j, matrix, visited + [(i-1,j)], n, m)\n",
    "\n",
    "    #right\n",
    "    if j+1 <= m-1 and matrix[i][j+1] > cur_val and (i, j+1) not in visited:\n",
    "        all_incr_sub_paths += get_all_incr_paths(i, j+1, matrix, visited + [(i,j+1)], n, m)\n",
    "\n",
    "    #down\n",
    "    if i+1 <= n-1 and matrix[i+1][j] > cur_val and (i+1, j) not in visited:\n",
    "        all_incr_sub_paths += get_all_incr_paths(i+1, j, matrix, visited + [(i+1,j)], n, m)\n",
    "\n",
    "    result = [[(i,j)]]\n",
    "    \n",
    "    for path in all_incr_sub_paths:\n",
    "        result.append([(i,j)] + path)\n",
    "            \n",
    "    return result\n",
    "\n",
    "def get_longest_increasing_path(matrix: List[List[int]]) -> int:\n",
    "    \n",
    "    n = len(matrix)\n",
    "    m = len(matrix[0])\n",
    "    \n",
    "    all_incr_paths = []\n",
    "    \n",
    "    for i in range(n):\n",
    "        for j in range(m):\n",
    "            visited = [(i,j)]\n",
    "            all_incr_paths += get_all_incr_paths(i, j, matrix, visited, n, m)\n",
    "                        \n",
    "    lengths = list(map(lambda x: len(x), all_incr_paths))\n",
    "    \n",
    "    return max(lengths)"
   ]
  },
  {
   "cell_type": "code",
   "execution_count": null,
   "id": "a4833906",
   "metadata": {},
   "outputs": [],
   "source": []
  },
  {
   "cell_type": "code",
   "execution_count": 115,
   "id": "d9e01547",
   "metadata": {},
   "outputs": [],
   "source": [
    "def read_matrix(inp) -> List[List[int]]:\n",
    "    inp = inp.split('\\n')[1:-1]\n",
    "    n, m = map(int, inp[0].split())\n",
    "    matrix = []\n",
    "    for i in range(n):\n",
    "        matrix.append(list(map(int, inp[i+1].split())))\n",
    "    return matrix\n",
    "\n",
    "def test(case):\n",
    "    matrix = read_matrix(case)\n",
    "    expected = int(case.split('\\n')[-2])\n",
    "    actual = get_longest_increasing_path(matrix)\n",
    "    print('passed' if expected == actual else 'failed')\n",
    "    print('\\texpected', expected)\n",
    "    print('\\tactual  ', actual)"
   ]
  },
  {
   "cell_type": "code",
   "execution_count": 116,
   "id": "3098100f",
   "metadata": {},
   "outputs": [
    {
     "name": "stdout",
     "output_type": "stream",
     "text": [
      "passed\n",
      "\texpected 4\n",
      "\tactual   4\n"
     ]
    }
   ],
   "source": [
    "test(cases[0])"
   ]
  },
  {
   "cell_type": "code",
   "execution_count": 117,
   "id": "c07bc42e",
   "metadata": {},
   "outputs": [
    {
     "name": "stdout",
     "output_type": "stream",
     "text": [
      "passed\n",
      "\texpected 1\n",
      "\tactual   1\n"
     ]
    }
   ],
   "source": [
    "test(cases[1])"
   ]
  },
  {
   "cell_type": "code",
   "execution_count": 118,
   "id": "3cf11241",
   "metadata": {},
   "outputs": [
    {
     "name": "stdout",
     "output_type": "stream",
     "text": [
      "passed\n",
      "\texpected 2\n",
      "\tactual   2\n"
     ]
    }
   ],
   "source": [
    "test(cases[2])"
   ]
  },
  {
   "cell_type": "code",
   "execution_count": 119,
   "id": "e45e137f-dcca-4df9-ad1f-927f83d9010f",
   "metadata": {},
   "outputs": [],
   "source": [
    "import random\n",
    "\n",
    "def make_big_case(n):\n",
    "    result = ['',str(n) + ' ' + str(n)]\n",
    "    for i in range(n):\n",
    "        result.append(' '.join([str(random.randint(0, n)) for _ in range(n)]))\n",
    "    result.append('-1')\n",
    "    result.append('')\n",
    "    return '\\n'.join(result)"
   ]
  },
  {
   "cell_type": "code",
   "execution_count": 120,
   "id": "5ee7890c-5e86-4e57-8e36-9479d57c9459",
   "metadata": {},
   "outputs": [
    {
     "name": "stdout",
     "output_type": "stream",
     "text": [
      "\n",
      "4 4\n",
      "0 1 2 3\n",
      "0 3 2 4\n",
      "1 4 4 0\n",
      "2 4 1 4\n",
      "-1\n",
      "\n"
     ]
    }
   ],
   "source": [
    "print(make_big_case(4))"
   ]
  },
  {
   "cell_type": "code",
   "execution_count": 121,
   "id": "ce9e5396-9a4d-4e8a-8a03-930200f48701",
   "metadata": {},
   "outputs": [],
   "source": [
    "import time\n",
    "def test_big_case(case):\n",
    "    start = time.process_time()\n",
    "    test(case)\n",
    "    print('%0.2f sec' % ( time.process_time() - start))"
   ]
  },
  {
   "cell_type": "code",
   "execution_count": 122,
   "id": "29063fcd-1f36-4cd2-96d7-0741cde0af86",
   "metadata": {},
   "outputs": [],
   "source": [
    "n=100\n",
    "big_case_1 = make_big_case(n)\n",
    "big_case_2 = make_big_case(2*n)"
   ]
  },
  {
   "cell_type": "code",
   "execution_count": 123,
   "id": "75299a50-600b-4b8c-aeef-4c5f9f8c0c73",
   "metadata": {},
   "outputs": [
    {
     "name": "stdout",
     "output_type": "stream",
     "text": [
      "failed\n",
      "\texpected -1\n",
      "\tactual   12\n",
      "0.23 sec\n",
      "failed\n",
      "\texpected -1\n",
      "\tactual   14\n",
      "1.31 sec\n"
     ]
    }
   ],
   "source": [
    "test_big_case(big_case_1)\n",
    "test_big_case(big_case_2)"
   ]
  },
  {
   "cell_type": "raw",
   "id": "1fd2004c-a743-4e88-a440-99ef0953daa7",
   "metadata": {},
   "source": [
    "Но это неоптимальное решение, на самом деле нам не нужен массив visited, потому что мы никогда не вернемся в предыдущую точку,\n",
    "ведь путь должен быть возрастающий."
   ]
  },
  {
   "cell_type": "code",
   "execution_count": null,
   "id": "4f7a6858-7a81-4588-9805-8fe8f58a3e82",
   "metadata": {},
   "outputs": [],
   "source": []
  },
  {
   "cell_type": "code",
   "execution_count": 124,
   "id": "bff9ca56",
   "metadata": {},
   "outputs": [],
   "source": [
    "from typing import List\n",
    "\n",
    "def get_longest_increasing_path_rec(i, j, matrix):\n",
    "    \n",
    "    n = len(matrix)\n",
    "    m = len(matrix[0])\n",
    "    \n",
    "    cur_val = matrix[i][j]\n",
    "    \n",
    "    ans = 0\n",
    "    \n",
    "    #left\n",
    "    if j-1 >=0 and matrix[i][j-1] > cur_val and (i, j-1):\n",
    "        ans = max(ans, get_longest_increasing_path_rec(i, j-1, matrix))\n",
    "    \n",
    "    #up\n",
    "    if i-1 >=0 and matrix[i-1][j] > cur_val and (i-1, j):\n",
    "        ans = max(ans, get_longest_increasing_path_rec(i-1, j, matrix))\n",
    "\n",
    "    #right\n",
    "    if j+1 <= m-1 and matrix[i][j+1] > cur_val and (i, j+1):\n",
    "        ans = max(ans, get_longest_increasing_path_rec(i, j+1, matrix))\n",
    "\n",
    "    #down\n",
    "    if i+1 <= n-1 and matrix[i+1][j] > cur_val and (i+1, j):\n",
    "        ans = max(ans, get_longest_increasing_path_rec(i+1, j, matrix))\n",
    "\n",
    "    return ans+1\n",
    "\n",
    "def get_longest_increasing_path(matrix: List[List[int]]) -> int:\n",
    "    \n",
    "    n = len(matrix)\n",
    "    m = len(matrix[0])\n",
    "        \n",
    "    ans = 1\n",
    "    \n",
    "    for i in range(n):\n",
    "        for j in range(m):\n",
    "            ans = max(ans, get_longest_increasing_path_rec(i, j, matrix))\n",
    "                        \n",
    "    return ans"
   ]
  },
  {
   "cell_type": "code",
   "execution_count": 125,
   "id": "2ade946a",
   "metadata": {},
   "outputs": [
    {
     "name": "stdout",
     "output_type": "stream",
     "text": [
      "passed\n",
      "\texpected 4\n",
      "\tactual   4\n"
     ]
    }
   ],
   "source": [
    "test(cases[0])"
   ]
  },
  {
   "cell_type": "code",
   "execution_count": 126,
   "id": "b1adf45d",
   "metadata": {},
   "outputs": [
    {
     "name": "stdout",
     "output_type": "stream",
     "text": [
      "passed\n",
      "\texpected 1\n",
      "\tactual   1\n"
     ]
    }
   ],
   "source": [
    "test(cases[1])"
   ]
  },
  {
   "cell_type": "code",
   "execution_count": 127,
   "id": "4afcb51b",
   "metadata": {},
   "outputs": [
    {
     "name": "stdout",
     "output_type": "stream",
     "text": [
      "passed\n",
      "\texpected 2\n",
      "\tactual   2\n"
     ]
    }
   ],
   "source": [
    "test(cases[2])"
   ]
  },
  {
   "cell_type": "code",
   "execution_count": 128,
   "id": "ccd9fbcc-e9a9-4df2-9922-94879aab8b84",
   "metadata": {},
   "outputs": [
    {
     "name": "stdout",
     "output_type": "stream",
     "text": [
      "failed\n",
      "\texpected -1\n",
      "\tactual   12\n",
      "0.05 sec\n",
      "failed\n",
      "\texpected -1\n",
      "\tactual   14\n",
      "0.17 sec\n"
     ]
    }
   ],
   "source": [
    "test_big_case(big_case_1)\n",
    "test_big_case(big_case_2)"
   ]
  },
  {
   "cell_type": "code",
   "execution_count": 129,
   "id": "e4f12675-3b59-4545-b42d-bcc459f03626",
   "metadata": {},
   "outputs": [],
   "source": [
    "n=1000\n",
    "big_case_1 = make_big_case(n)\n",
    "big_case_2 = make_big_case(2*n)"
   ]
  },
  {
   "cell_type": "code",
   "execution_count": 130,
   "id": "1ea4293d-b3d9-40bb-89d0-5f82890ef479",
   "metadata": {},
   "outputs": [
    {
     "name": "stdout",
     "output_type": "stream",
     "text": [
      "failed\n",
      "\texpected -1\n",
      "\tactual   14\n",
      "5.20 sec\n",
      "failed\n",
      "\texpected -1\n",
      "\tactual   16\n",
      "18.53 sec\n"
     ]
    }
   ],
   "source": [
    "test_big_case(big_case_1)\n",
    "test_big_case(big_case_2)"
   ]
  },
  {
   "cell_type": "raw",
   "id": "a47fb27a-dce9-4553-a25c-462007a18339",
   "metadata": {},
   "source": [
    "Чтобы не пересчитывать заново для клеток для которых уже было посчитано, будем сохранять результаты в матрице dp"
   ]
  },
  {
   "cell_type": "code",
   "execution_count": 131,
   "id": "12afbb3b",
   "metadata": {},
   "outputs": [],
   "source": [
    "from typing import List\n",
    "\n",
    "def get_longest_increasing_path_rec(i, j, matrix, dp):\n",
    "    \n",
    "    if dp[i][j] >=0:\n",
    "        return dp[i][j]\n",
    "    \n",
    "    n = len(matrix)\n",
    "    m = len(matrix[0])\n",
    "    \n",
    "    cur_val = matrix[i][j]\n",
    "    \n",
    "    ans = 0\n",
    "    \n",
    "    #left\n",
    "    if j-1 >=0 and matrix[i][j-1] > cur_val and (i, j-1):\n",
    "        ans = max(ans, get_longest_increasing_path_rec(i, j-1, matrix, dp))\n",
    "    \n",
    "    #up\n",
    "    if i-1 >=0 and matrix[i-1][j] > cur_val and (i-1, j):\n",
    "        ans = max(ans, get_longest_increasing_path_rec(i-1, j, matrix, dp))\n",
    "\n",
    "    #right\n",
    "    if j+1 <= m-1 and matrix[i][j+1] > cur_val and (i, j+1):\n",
    "        ans = max(ans, get_longest_increasing_path_rec(i, j+1, matrix, dp))\n",
    "\n",
    "    #down\n",
    "    if i+1 <= n-1 and matrix[i+1][j] > cur_val and (i+1, j):\n",
    "        ans = max(ans, get_longest_increasing_path_rec(i+1, j, matrix, dp))\n",
    "    \n",
    "    dp[i][j] = ans + 1\n",
    "    \n",
    "    return ans + 1\n",
    "\n",
    "def get_longest_increasing_path(matrix: List[List[int]]) -> int:\n",
    "    \n",
    "    n = len(matrix)\n",
    "    m = len(matrix[0])\n",
    "        \n",
    "    dp = [[-1]*m for _ in range(n)]\n",
    "    ans = 1\n",
    "    \n",
    "    for i in range(n):\n",
    "        for j in range(m):\n",
    "            ans = max(ans, get_longest_increasing_path_rec(i, j, matrix, dp))\n",
    "                        \n",
    "    return ans"
   ]
  },
  {
   "cell_type": "code",
   "execution_count": 132,
   "id": "762d613d",
   "metadata": {},
   "outputs": [
    {
     "name": "stdout",
     "output_type": "stream",
     "text": [
      "passed\n",
      "\texpected 4\n",
      "\tactual   4\n"
     ]
    }
   ],
   "source": [
    "test(cases[0])"
   ]
  },
  {
   "cell_type": "code",
   "execution_count": 133,
   "id": "49bf9e48-f022-4f4a-be5e-3b2cd74cc60e",
   "metadata": {},
   "outputs": [
    {
     "name": "stdout",
     "output_type": "stream",
     "text": [
      "passed\n",
      "\texpected 1\n",
      "\tactual   1\n"
     ]
    }
   ],
   "source": [
    "test(cases[1])"
   ]
  },
  {
   "cell_type": "code",
   "execution_count": 134,
   "id": "3b4c666c-9a16-47d1-a390-6d4a114de72b",
   "metadata": {},
   "outputs": [
    {
     "name": "stdout",
     "output_type": "stream",
     "text": [
      "passed\n",
      "\texpected 2\n",
      "\tactual   2\n"
     ]
    }
   ],
   "source": [
    "test(cases[2])"
   ]
  },
  {
   "cell_type": "code",
   "execution_count": 135,
   "id": "b2897ea4-9d58-4484-a49d-4271d945c8c9",
   "metadata": {},
   "outputs": [
    {
     "name": "stdout",
     "output_type": "stream",
     "text": [
      "failed\n",
      "\texpected -1\n",
      "\tactual   14\n",
      "1.42 sec\n",
      "failed\n",
      "\texpected -1\n",
      "\tactual   16\n",
      "5.45 sec\n"
     ]
    }
   ],
   "source": [
    "test_big_case(big_case_1)\n",
    "test_big_case(big_case_2)"
   ]
  },
  {
   "cell_type": "raw",
   "id": "374593f3-995a-4b7b-a2fb-77f17b0f6f45",
   "metadata": {},
   "source": [
    "Теперь сложность O(N**2)"
   ]
  },
  {
   "cell_type": "code",
   "execution_count": null,
   "id": "76345a6f-ec99-4e84-9954-e25ab548a606",
   "metadata": {},
   "outputs": [],
   "source": []
  }
 ],
 "metadata": {
  "kernelspec": {
   "display_name": "Python 3 (ipykernel)",
   "language": "python",
   "name": "python3"
  },
  "language_info": {
   "codemirror_mode": {
    "name": "ipython",
    "version": 3
   },
   "file_extension": ".py",
   "mimetype": "text/x-python",
   "name": "python",
   "nbconvert_exporter": "python",
   "pygments_lexer": "ipython3",
   "version": "3.10.11"
  }
 },
 "nbformat": 4,
 "nbformat_minor": 5
}
