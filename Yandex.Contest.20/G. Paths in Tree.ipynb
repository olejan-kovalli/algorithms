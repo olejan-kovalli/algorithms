{
 "cells": [
  {
   "cell_type": "code",
   "execution_count": 1,
   "id": "23256a56",
   "metadata": {},
   "outputs": [
    {
     "data": {
      "text/plain": [
       "'\\nДано укоренённое дерево на N вершинах и число X. В каждой вершине записано число — её вес. \\nНазовём восходящим путь ai,p(ai),p(p(ai)),..., где p(a) — родитель вершины a. \\nПроще говоря, восходящий путь — это путь, который начинается с некоторой вершины и двигается в сторону корня \\n(не обязательно доходя до него). Путь может состоять из одной вершины. Весом пути назовём суммарный вес вершин на этом пути.\\nНайдите количество восходящих путей с весом X. Вы можете воспользоваться заготовками кода для данной задачи из репозитория курса.\\n\\nФормат ввода\\nВ первой строке дано число вершин n (1≤n≤2⋅10**5) и число X (−10**9≤X≤10**9).\\nВ следующих n строках по одной в строке заданы вершины. \\ni-я вершина задаётся двумя числами — pi и wi, записанными через пробел. \\npi — это либо номер вершины-родителя вершины i, в этом случае 0≤pi≤n−1, \\nлибо −1, если вершина i является корнем. \\nwi — это вес вершины i(−10**4≤wi≤10**4).\\n\\nФормат вывода\\nВыведите одно целое число — количество восходящих путей веса X.\\n\\nПример 1\\nВвод\\n6 3\\n-1 1\\n0 1\\n0 1\\n1 1\\n2 2\\n3 1\\nВывод\\n3\\n\\nПример 2\\nВвод\\n1 2\\n-1 1\\nВывод\\n0\\n'"
      ]
     },
     "execution_count": 1,
     "metadata": {},
     "output_type": "execute_result"
    }
   ],
   "source": [
    "\"\"\"\n",
    "Дано укоренённое дерево на N вершинах и число X. В каждой вершине записано число — её вес. \n",
    "Назовём восходящим путь ai,p(ai),p(p(ai)),..., где p(a) — родитель вершины a. \n",
    "Проще говоря, восходящий путь — это путь, который начинается с некоторой вершины и двигается в сторону корня \n",
    "(не обязательно доходя до него). Путь может состоять из одной вершины. Весом пути назовём суммарный вес вершин на этом пути.\n",
    "Найдите количество восходящих путей с весом X. Вы можете воспользоваться заготовками кода для данной задачи из репозитория курса.\n",
    "\n",
    "Формат ввода\n",
    "В первой строке дано число вершин n (1≤n≤2⋅10**5) и число X (−10**9≤X≤10**9).\n",
    "В следующих n строках по одной в строке заданы вершины. \n",
    "i-я вершина задаётся двумя числами — pi и wi, записанными через пробел. \n",
    "pi — это либо номер вершины-родителя вершины i, в этом случае 0≤pi≤n−1, \n",
    "либо −1, если вершина i является корнем. \n",
    "wi — это вес вершины i(−10**4≤wi≤10**4).\n",
    "\n",
    "Формат вывода\n",
    "Выведите одно целое число — количество восходящих путей веса X.\n",
    "\n",
    "Пример 1\n",
    "Ввод\n",
    "6 3\n",
    "-1 1\n",
    "0 1\n",
    "0 1\n",
    "1 1\n",
    "2 2\n",
    "3 1\n",
    "Вывод\n",
    "3\n",
    "\n",
    "Пример 2\n",
    "Ввод\n",
    "1 2\n",
    "-1 1\n",
    "Вывод\n",
    "0\n",
    "\"\"\""
   ]
  },
  {
   "cell_type": "code",
   "execution_count": 2,
   "id": "dab7e945",
   "metadata": {},
   "outputs": [
    {
     "data": {
      "text/plain": [
       "'\\nБудем идти от корня и строить все пути рекурсивно. Потом подсчитаем вес каждого и вычислим сколько из них равны X.\\n'"
      ]
     },
     "execution_count": 2,
     "metadata": {},
     "output_type": "execute_result"
    }
   ],
   "source": [
    "\"\"\"\n",
    "Будем идти от корня и строить все пути рекурсивно. Потом подсчитаем вес каждого и вычислим сколько из них равны X.\n",
    "\"\"\""
   ]
  },
  {
   "cell_type": "code",
   "execution_count": 3,
   "id": "5b1289d2",
   "metadata": {},
   "outputs": [],
   "source": [
    "from typing import Dict\n",
    "\n",
    "class Node:\n",
    "    # feel free to change fields\n",
    "    def __init__(self, weight, parent) -> None:\n",
    "        self.weight = weight\n",
    "        self.parent = parent\n",
    "        self.children = []\n",
    "        \n",
    "def get_all_paths(node, x):\n",
    "    \n",
    "    result = [[node]]\n",
    "    \n",
    "    for child in node.children:\n",
    "        child_paths = get_all_paths(child, x)\n",
    "        for cp in child_paths:\n",
    "            if cp[0] == child:\n",
    "                for i in range(1,len(cp)+1):\n",
    "                    result.append([node] + cp[:i])\n",
    "            if (sum([node.weight for node in cp]) == x):\n",
    "                result.append(cp)\n",
    "    \n",
    "    uniq_paths_ids = []\n",
    "    uniq_paths = []\n",
    "    for path in result:\n",
    "        path_ids = tuple(map(id, path))\n",
    "        if path_ids not in uniq_paths_ids:\n",
    "            uniq_paths_ids.append(path_ids)\n",
    "            uniq_paths.append(path)\n",
    "\n",
    "    return uniq_paths\n",
    "\n",
    "def get_number_of_upgoing_paths(root: Node, x: int) -> int:\n",
    "    \n",
    "    all_paths = get_all_paths(root, x)\n",
    "    \n",
    "    paths_weights = []\n",
    "    \n",
    "    \n",
    "    for path in all_paths:\n",
    "        paths_weights.append(sum([node.weight for node in path]))\n",
    "    \n",
    "    return len([pw for pw in paths_weights if pw == x])"
   ]
  },
  {
   "cell_type": "code",
   "execution_count": null,
   "id": "1021a6ba",
   "metadata": {},
   "outputs": [],
   "source": []
  },
  {
   "cell_type": "code",
   "execution_count": null,
   "id": "a4ff54e7",
   "metadata": {},
   "outputs": [],
   "source": []
  },
  {
   "cell_type": "code",
   "execution_count": 4,
   "id": "d076b916",
   "metadata": {},
   "outputs": [],
   "source": [
    "cases=[\"\"\"\n",
    "6 3\n",
    "-1 1\n",
    "0 1\n",
    "0 1\n",
    "1 1\n",
    "2 2\n",
    "3 1\n",
    "3\n",
    "\"\"\"\n",
    ",\n",
    "\"\"\"\n",
    "1 2\n",
    "-1 1\n",
    "0\n",
    "\"\"\"\n",
    "]"
   ]
  },
  {
   "cell_type": "code",
   "execution_count": 5,
   "id": "b126e1b7",
   "metadata": {},
   "outputs": [],
   "source": [
    "def parse_case(raw_case: str) -> dict:\n",
    "    inp = {}\n",
    "    lines = raw_case.split('\\n')[1:-1]\n",
    "    n, x = map(int, lines[0].split())\n",
    "    inp['x'] = x\n",
    "    \n",
    "    nodes = []\n",
    "    root = None\n",
    "    for i in range(n):\n",
    "        p, w = map(int, lines[i+1].split())\n",
    "        nodes.append(Node(w, p))\n",
    "        if p == -1:\n",
    "            root = nodes[i]\n",
    "    for i in range(n):\n",
    "        if nodes[i].parent != -1:\n",
    "            nodes[nodes[i].parent].children.append(nodes[i])\n",
    "    inp['root'] = root\n",
    "    \n",
    "    outp = lines[-1].strip()\n",
    "    \n",
    "    return {'inp': inp, 'outp': outp}"
   ]
  },
  {
   "cell_type": "code",
   "execution_count": 6,
   "id": "fbf8db97",
   "metadata": {},
   "outputs": [
    {
     "data": {
      "text/plain": [
       "{'inp': {'x': 3, 'root': <__main__.Node at 0x1bbde25ffd0>}, 'outp': '3'}"
      ]
     },
     "execution_count": 6,
     "metadata": {},
     "output_type": "execute_result"
    }
   ],
   "source": [
    "parse_case(cases[0])"
   ]
  },
  {
   "cell_type": "code",
   "execution_count": 7,
   "id": "28ab40fb",
   "metadata": {},
   "outputs": [],
   "source": [
    "class tester:\n",
    "    \n",
    "    def test_all(self, cases, f):\n",
    "        for i, case in enumerate(cases):\n",
    "            print('case', i+1, end='\\t')\n",
    "            self.test(case, f)        \n",
    "    \n",
    "    def test(self, case, f):\n",
    "        try:\n",
    "            expected = case['outp']\n",
    "            result = str(f(**case['inp']))\n",
    "            if expected == result:\n",
    "                print('pass')\n",
    "            else:\n",
    "                print('fail', '(expected', expected, ', result', result, ')')\n",
    "        except e:\n",
    "            print(e)"
   ]
  },
  {
   "cell_type": "code",
   "execution_count": 8,
   "id": "1322f412",
   "metadata": {},
   "outputs": [
    {
     "name": "stdout",
     "output_type": "stream",
     "text": [
      "case 1\tpass\n",
      "case 2\tpass\n"
     ]
    }
   ],
   "source": [
    "tester().test_all(map(parse_case, cases), get_number_of_upgoing_paths)"
   ]
  },
  {
   "cell_type": "code",
   "execution_count": 9,
   "id": "a816c613",
   "metadata": {},
   "outputs": [
    {
     "data": {
      "text/plain": [
       "'\\nна самом деле нет смысла тащить пути которые не будут продолжены. Нужно лишь узнать сколько из них имееют сумму X\\nи обновить счетчик. Более того нам вообще не нужно тащить пути, нужно лишь тащить веса путей которые могут быть продолжены.\\n'"
      ]
     },
     "execution_count": 9,
     "metadata": {},
     "output_type": "execute_result"
    }
   ],
   "source": [
    "\"\"\"\n",
    "на самом деле нет смысла тащить пути которые не будут продолжены. Нужно лишь узнать сколько из них имееют сумму X\n",
    "и обновить счетчик. Более того нам вообще не нужно тащить пути, нужно лишь тащить веса путей которые могут быть продолжены.\n",
    "\"\"\""
   ]
  },
  {
   "cell_type": "code",
   "execution_count": 10,
   "id": "59ed222c",
   "metadata": {},
   "outputs": [],
   "source": [
    "def get_paths_weights(node, x):\n",
    "    \n",
    "    if node.weight == x:\n",
    "        npx = 1 \n",
    "    else:\n",
    "        npx = 0\n",
    "\n",
    "    new_pw = [node.weight] \n",
    "\n",
    "    for child in node.children:\n",
    "        if len(child.children) == 0:\n",
    "            results = (1 if child.weight == x else 0, [child.weight])\n",
    "        else:\n",
    "            results = get_paths_weights(child, x)\n",
    "        \n",
    "        npx += results[0]\n",
    "\n",
    "        for pw in results[1]:\n",
    "            if pw + node.weight == x:\n",
    "                npx += 1\n",
    "            new_pw.append(pw + node.weight)        \n",
    "\n",
    "    return (npx, new_pw)\n",
    "\n",
    "\n",
    "def get_number_of_upgoing_paths(root: Node, x: int) -> int:\n",
    "    \n",
    "    if root is None:\n",
    "        return 0\n",
    "\n",
    "    return get_paths_weights(root, x)[0]"
   ]
  },
  {
   "cell_type": "code",
   "execution_count": 11,
   "id": "a8187586",
   "metadata": {},
   "outputs": [
    {
     "name": "stdout",
     "output_type": "stream",
     "text": [
      "case 1\tpass\n",
      "case 2\tpass\n"
     ]
    }
   ],
   "source": [
    "tester().test_all(map(parse_case, cases), get_number_of_upgoing_paths)"
   ]
  },
  {
   "cell_type": "code",
   "execution_count": null,
   "id": "65623aa1",
   "metadata": {},
   "outputs": [],
   "source": []
  },
  {
   "cell_type": "code",
   "execution_count": 12,
   "id": "cf78301a",
   "metadata": {},
   "outputs": [
    {
     "data": {
      "text/plain": [
       "'\\nМожно также решить эту задачу без использования рекурсии\\n'"
      ]
     },
     "execution_count": 12,
     "metadata": {},
     "output_type": "execute_result"
    }
   ],
   "source": [
    "\"\"\"\n",
    "Можно также решить эту задачу без использования рекурсии\n",
    "\"\"\""
   ]
  },
  {
   "cell_type": "code",
   "execution_count": 19,
   "id": "ddde3c90",
   "metadata": {},
   "outputs": [],
   "source": [
    "\n",
    "class Node:\n",
    "    # feel free to change fields\n",
    "    def __init__(self, weight, parent) -> None:\n",
    "        self.paths_weights = []\n",
    "        self.weight = weight\n",
    "        self.parent = parent\n",
    "        self.children = []\n",
    "        \n",
    "\n",
    "def get_number_of_upgoing_paths(root: Node, x: int) -> int:\n",
    "    \n",
    "    level_nodes = [root]\n",
    "    root.paths_weights = [root.weight]\n",
    "    \n",
    "    if root.weight == x:\n",
    "        npx = 1\n",
    "    else:\n",
    "        npx = 0\n",
    "    \n",
    "    while True:\n",
    "        next_level_nodes = []\n",
    "        for node in level_nodes:            \n",
    "            for child in node.children:\n",
    "                child.paths_weights.append(child.weight)\n",
    "                for pw in node.paths_weights:\n",
    "                    child.paths_weights.append(child.weight + pw)\n",
    "                \n",
    "                for pw in child.paths_weights:\n",
    "                    if pw == x:\n",
    "                        npx +=1\n",
    "                \n",
    "                next_level_nodes.append(child)\n",
    "        \n",
    "        if len(next_level_nodes) == 0:\n",
    "            break\n",
    "\n",
    "        for node in level_nodes:\n",
    "            del node.paths_weights\n",
    "            del node\n",
    "            \n",
    "        level_nodes = next_level_nodes\n",
    "        \n",
    "    return npx"
   ]
  },
  {
   "cell_type": "code",
   "execution_count": 20,
   "id": "0884320b",
   "metadata": {},
   "outputs": [
    {
     "name": "stdout",
     "output_type": "stream",
     "text": [
      "case 1\tpass\n",
      "case 2\tpass\n"
     ]
    }
   ],
   "source": [
    "tester().test_all(map(parse_case, cases), get_number_of_upgoing_paths)"
   ]
  },
  {
   "cell_type": "code",
   "execution_count": null,
   "id": "89d0b789",
   "metadata": {},
   "outputs": [],
   "source": []
  },
  {
   "cell_type": "code",
   "execution_count": null,
   "id": "013e698b-09fb-4b62-aaf8-648ff44e32e2",
   "metadata": {},
   "outputs": [],
   "source": []
  },
  {
   "cell_type": "code",
   "execution_count": null,
   "id": "6fb8dfb2-cce5-423a-bba7-2c5089ad141c",
   "metadata": {},
   "outputs": [],
   "source": []
  }
 ],
 "metadata": {
  "kernelspec": {
   "display_name": "Python 3 (ipykernel)",
   "language": "python",
   "name": "python3"
  },
  "language_info": {
   "codemirror_mode": {
    "name": "ipython",
    "version": 3
   },
   "file_extension": ".py",
   "mimetype": "text/x-python",
   "name": "python",
   "nbconvert_exporter": "python",
   "pygments_lexer": "ipython3",
   "version": "3.10.11"
  }
 },
 "nbformat": 4,
 "nbformat_minor": 5
}
