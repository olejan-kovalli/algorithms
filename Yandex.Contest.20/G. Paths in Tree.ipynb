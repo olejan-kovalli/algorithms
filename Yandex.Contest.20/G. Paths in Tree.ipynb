{
 "cells": [
  {
   "cell_type": "markdown",
   "id": "051e671b-a11e-42bc-aca2-c9bf3af86069",
   "metadata": {},
   "source": [
    "<h1>Пути в дереве</h1>"
   ]
  },
  {
   "cell_type": "raw",
   "id": "71f6045f-50ea-4819-9fd1-b32261b4aecf",
   "metadata": {},
   "source": [
    "Дано укоренённое дерево на N вершинах и число X. В каждой вершине записано число — её вес. \n",
    "Назовём восходящим путь ai,p(ai),p(p(ai)),..., где p(a) — родитель вершины a. \n",
    "Проще говоря, восходящий путь — это путь, который начинается с некоторой вершины и двигается в сторону корня \n",
    "(не обязательно доходя до него). Путь может состоять из одной вершины. Весом пути назовём суммарный вес вершин на этом пути.\n",
    "Найдите количество восходящих путей с весом X.\n",
    "\n",
    "Формат ввода\n",
    "В первой строке дано число вершин n (1≤n≤2⋅10**5) и число X (−10**9≤X≤10**9).\n",
    "В следующих n строках по одной в строке заданы вершины. \n",
    "i-я вершина задаётся двумя числами — pi и wi, записанными через пробел. \n",
    "pi — это либо номер вершины-родителя вершины i, в этом случае 0≤pi≤n−1, \n",
    "либо −1, если вершина i является корнем. \n",
    "wi — это вес вершины i(−10**4≤wi≤10**4).\n",
    "\n",
    "Формат вывода\n",
    "Выведите одно целое число — количество восходящих путей веса X.\n",
    "\n",
    "Пример 1\n",
    "Ввод\n",
    "6 3\n",
    "-1 1\n",
    "0 1\n",
    "0 1\n",
    "1 1\n",
    "2 2\n",
    "3 1\n",
    "Вывод\n",
    "3\n",
    "\n",
    "Пример 2\n",
    "Ввод\n",
    "1 2\n",
    "-1 1\n",
    "Вывод\n",
    "0"
   ]
  },
  {
   "cell_type": "markdown",
   "id": "67598967-03c2-4a41-8d53-185bf87fe652",
   "metadata": {},
   "source": [
    "<h2>Решение</h2>"
   ]
  },
  {
   "cell_type": "raw",
   "id": "9b1c9761-5b28-4efd-8e9d-0b4e645998f6",
   "metadata": {},
   "source": [
    "Будем идти от корня и строить все пути рекурсивно. Потом подсчитаем вес каждого и вычислим сколько из них равны X."
   ]
  },
  {
   "cell_type": "code",
   "execution_count": 1,
   "id": "5b1289d2",
   "metadata": {},
   "outputs": [],
   "source": [
    "from typing import Dict\n",
    "\n",
    "class Node:\n",
    "    # feel free to change fields\n",
    "    def __init__(self, weight, parent) -> None:\n",
    "        self.weight = weight\n",
    "        self.parent = parent\n",
    "        self.children = []\n",
    "        \n",
    "def get_all_paths(node, x):\n",
    "    \n",
    "    result = [[node]]\n",
    "    \n",
    "    for child in node.children:\n",
    "        child_paths = get_all_paths(child, x)\n",
    "        for cp in child_paths:\n",
    "            if cp[0] == child:\n",
    "                for i in range(1,len(cp)+1):\n",
    "                    result.append([node] + cp[:i])\n",
    "            if (sum([node.weight for node in cp]) == x):\n",
    "                result.append(cp)\n",
    "    \n",
    "    uniq_paths_ids = []\n",
    "    uniq_paths = []\n",
    "    for path in result:\n",
    "        path_ids = tuple(map(id, path))\n",
    "        if path_ids not in uniq_paths_ids:\n",
    "            uniq_paths_ids.append(path_ids)\n",
    "            uniq_paths.append(path)\n",
    "\n",
    "    return uniq_paths\n",
    "\n",
    "def get_number_of_upgoing_paths(root: Node, x: int) -> int:\n",
    "    \n",
    "    all_paths = get_all_paths(root, x)\n",
    "    \n",
    "    paths_weights = []\n",
    "    \n",
    "    \n",
    "    for path in all_paths:\n",
    "        paths_weights.append(sum([node.weight for node in path]))\n",
    "    \n",
    "    return len([pw for pw in paths_weights if pw == x])"
   ]
  },
  {
   "cell_type": "code",
   "execution_count": null,
   "id": "a4ff54e7",
   "metadata": {},
   "outputs": [],
   "source": []
  },
  {
   "cell_type": "code",
   "execution_count": 2,
   "id": "d076b916",
   "metadata": {},
   "outputs": [],
   "source": [
    "cases=[\n",
    "\"\"\"\n",
    "6 3\n",
    "-1 1\n",
    "0 1\n",
    "0 1\n",
    "1 1\n",
    "2 2\n",
    "3 1\n",
    "\n",
    "3\n",
    "\"\"\"\n",
    ",\n",
    "\"\"\"\n",
    "1 2\n",
    "-1 1\n",
    "\n",
    "0\n",
    "\"\"\"\n",
    "]"
   ]
  },
  {
   "cell_type": "code",
   "execution_count": 5,
   "id": "b126e1b7",
   "metadata": {},
   "outputs": [],
   "source": [
    "def parse_case(raw_case: str) -> dict:\n",
    "    lines = raw_case.split('\\n')[1:-1]\n",
    "    n, x = map(int, lines[0].split())\n",
    "    nodes = []\n",
    "    root = None\n",
    "    for i in range(n):\n",
    "        p, w = map(int, lines[i+1].split())\n",
    "        nodes.append(Node(w, p))\n",
    "        if p == -1:\n",
    "            root = nodes[i]\n",
    "    for i in range(n):\n",
    "        if nodes[i].parent != -1:\n",
    "            nodes[nodes[i].parent].children.append(nodes[i])\n",
    "    \n",
    "    return root, x"
   ]
  },
  {
   "cell_type": "code",
   "execution_count": 6,
   "id": "fbf8db97",
   "metadata": {},
   "outputs": [
    {
     "data": {
      "text/plain": [
       "(<__main__.Node at 0x21ca2b85fc0>, 3)"
      ]
     },
     "execution_count": 6,
     "metadata": {},
     "output_type": "execute_result"
    }
   ],
   "source": [
    "parse_case(cases[0])"
   ]
  },
  {
   "cell_type": "code",
   "execution_count": 9,
   "id": "28ab40fb",
   "metadata": {},
   "outputs": [],
   "source": [
    "def test(case):\n",
    "    lines = case.split('\\n')[1:-1]\n",
    "    root, x = parse_case(case)\n",
    "    expected = int(lines[-1])\n",
    "    actual = get_number_of_upgoing_paths(root, x)\n",
    "    if expected == actual:\n",
    "        print('pass')\n",
    "    else:\n",
    "        print('fail')\n",
    "    print('\\texpected', expected)\n",
    "    print('\\tactual  ', actual)"
   ]
  },
  {
   "cell_type": "code",
   "execution_count": 13,
   "id": "1322f412",
   "metadata": {},
   "outputs": [
    {
     "name": "stdout",
     "output_type": "stream",
     "text": [
      "pass\n",
      "\texpected 3\n",
      "\tactual   3\n",
      "pass\n",
      "\texpected 0\n",
      "\tactual   0\n"
     ]
    }
   ],
   "source": [
    "test(cases[0])\n",
    "test(cases[1])"
   ]
  },
  {
   "cell_type": "raw",
   "id": "a3ccc907-da64-41c8-b35d-e8274502ffd4",
   "metadata": {},
   "source": [
    "На самом деле нет смысла тащить пути которые не будут продолжены. Нужно лишь узнать сколько из них имееют сумму X\n",
    "и обновить счетчик. Более того нам вообще не нужно тащить пути, нужно лишь тащить веса путей которые могут быть продолжены."
   ]
  },
  {
   "cell_type": "raw",
   "id": "f1461e9f-8f27-41d8-bd37-035f1f4b7950",
   "metadata": {},
   "source": [
    "def get_paths_weights(node, x):\n",
    "    \n",
    "    if node.weight == x:\n",
    "        npx = 1 \n",
    "    else:\n",
    "        npx = 0\n",
    "\n",
    "    new_pw = [node.weight] \n",
    "\n",
    "    for child in node.children:\n",
    "        if len(child.children) == 0:\n",
    "            results = (1 if child.weight == x else 0, [child.weight])\n",
    "        else:\n",
    "            results = get_paths_weights(child, x)\n",
    "        \n",
    "        npx += results[0]\n",
    "\n",
    "        for pw in results[1]:\n",
    "            if pw + node.weight == x:\n",
    "                npx += 1\n",
    "            new_pw.append(pw + node.weight)        \n",
    "\n",
    "    return (npx, new_pw)\n",
    "\n",
    "\n",
    "def get_number_of_upgoing_paths(root: Node, x: int) -> int:\n",
    "    \n",
    "    if root is None:\n",
    "        return 0\n",
    "\n",
    "    return get_paths_weights(root, x)[0]"
   ]
  },
  {
   "cell_type": "code",
   "execution_count": 16,
   "id": "a8187586",
   "metadata": {},
   "outputs": [
    {
     "name": "stdout",
     "output_type": "stream",
     "text": [
      "pass\n",
      "\texpected 3\n",
      "\tactual   3\n",
      "pass\n",
      "\texpected 0\n",
      "\tactual   0\n"
     ]
    }
   ],
   "source": [
    "test(cases[0])\n",
    "test(cases[1])"
   ]
  },
  {
   "cell_type": "code",
   "execution_count": null,
   "id": "65623aa1",
   "metadata": {},
   "outputs": [],
   "source": []
  },
  {
   "cell_type": "raw",
   "id": "354197d0-a724-4129-a5d9-6e92e328536f",
   "metadata": {},
   "source": [
    "Можно также решить эту задачу без использования рекурсии"
   ]
  },
  {
   "cell_type": "code",
   "execution_count": 17,
   "id": "ddde3c90",
   "metadata": {},
   "outputs": [],
   "source": [
    "\n",
    "class Node:\n",
    "    # feel free to change fields\n",
    "    def __init__(self, weight, parent) -> None:\n",
    "        self.paths_weights = []\n",
    "        self.weight = weight\n",
    "        self.parent = parent\n",
    "        self.children = []\n",
    "        \n",
    "\n",
    "def get_number_of_upgoing_paths(root: Node, x: int) -> int:\n",
    "    \n",
    "    level_nodes = [root]\n",
    "    root.paths_weights = [root.weight]\n",
    "    \n",
    "    if root.weight == x:\n",
    "        npx = 1\n",
    "    else:\n",
    "        npx = 0\n",
    "    \n",
    "    while True:\n",
    "        next_level_nodes = []\n",
    "        for node in level_nodes:            \n",
    "            for child in node.children:\n",
    "                child.paths_weights.append(child.weight)\n",
    "                for pw in node.paths_weights:\n",
    "                    child.paths_weights.append(child.weight + pw)\n",
    "                \n",
    "                for pw in child.paths_weights:\n",
    "                    if pw == x:\n",
    "                        npx +=1\n",
    "                \n",
    "                next_level_nodes.append(child)\n",
    "        \n",
    "        if len(next_level_nodes) == 0:\n",
    "            break\n",
    "\n",
    "        for node in level_nodes:\n",
    "            del node.paths_weights\n",
    "            del node\n",
    "            \n",
    "        level_nodes = next_level_nodes\n",
    "        \n",
    "    return npx"
   ]
  },
  {
   "cell_type": "code",
   "execution_count": 19,
   "id": "0884320b",
   "metadata": {},
   "outputs": [
    {
     "name": "stdout",
     "output_type": "stream",
     "text": [
      "pass\n",
      "\texpected 3\n",
      "\tactual   3\n",
      "pass\n",
      "\texpected 0\n",
      "\tactual   0\n"
     ]
    }
   ],
   "source": [
    "test(cases[0])\n",
    "test(cases[1])"
   ]
  },
  {
   "cell_type": "code",
   "execution_count": null,
   "id": "89d0b789",
   "metadata": {},
   "outputs": [],
   "source": []
  },
  {
   "cell_type": "code",
   "execution_count": null,
   "id": "013e698b-09fb-4b62-aaf8-648ff44e32e2",
   "metadata": {},
   "outputs": [],
   "source": []
  },
  {
   "cell_type": "code",
   "execution_count": null,
   "id": "6fb8dfb2-cce5-423a-bba7-2c5089ad141c",
   "metadata": {},
   "outputs": [],
   "source": []
  }
 ],
 "metadata": {
  "kernelspec": {
   "display_name": "Python 3 (ipykernel)",
   "language": "python",
   "name": "python3"
  },
  "language_info": {
   "codemirror_mode": {
    "name": "ipython",
    "version": 3
   },
   "file_extension": ".py",
   "mimetype": "text/x-python",
   "name": "python",
   "nbconvert_exporter": "python",
   "pygments_lexer": "ipython3",
   "version": "3.10.11"
  }
 },
 "nbformat": 4,
 "nbformat_minor": 5
}
