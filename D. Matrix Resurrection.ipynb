{
 "cells": [
  {
   "cell_type": "code",
   "execution_count": null,
   "id": "bb18aa62",
   "metadata": {},
   "outputs": [],
   "source": [
    "\"\"\"\n",
    "Вам дана матрица из n  строк и m столбцов, заполненная натуральными числами. По матрице можно перемещаться, \n",
    "из клетки можно уходить только в соседнюю по стороне клетку, переходы по диагонали, а также выход за границу матрицы запрещены.\n",
    "Ваша задача — найти наиболее длинный возрастающий путь в матрице. Путь возрастающий, если значения в посещаемых клетках \n",
    "строго возрастают от начала пути к его концу. Вы можете воспользоваться заготовками кода для данной задачи из репозитория курса.\n",
    "\n",
    "Формат ввода\n",
    "В первой строке даны два числа, описывающие размер матрицы — n, m (1≤n,m≤10**3). В следующих n строках записана сама матрица. \n",
    "i-я строка матрицы содержит m чисел, записанных через пробел. Все элементы матрицы — натуральные числа, не превосходящие 10**9.\n",
    "Формат вывода \n",
    "Выведите единственное число — длину наибольшего возрастающего пути.\n",
    "\n",
    "Пример 1\n",
    "Ввод\n",
    "2 3\n",
    "10 8 5\n",
    "10 5 4\n",
    "Вывод\n",
    "4\n",
    "\n",
    "Пример 2\n",
    "Ввод\n",
    "2 2\n",
    "1 1\n",
    "1 1\n",
    "Вывод\n",
    "1\n",
    "\n",
    "Пример 3\n",
    "Ввод\n",
    "2 2\n",
    "10 9\n",
    "9 11\n",
    "Вывод\n",
    "2\n",
    "\"\"\""
   ]
  },
  {
   "cell_type": "code",
   "execution_count": null,
   "id": "955fac91",
   "metadata": {},
   "outputs": [],
   "source": [
    "\"\"\"\n",
    "будем решать рекурсивно. сделаем цикл по всем клеткам и будем брать в качестве отправного пути и заполнять массив visited\n",
    "\"\"\""
   ]
  },
  {
   "cell_type": "code",
   "execution_count": 52,
   "id": "ec08edc1",
   "metadata": {},
   "outputs": [],
   "source": [
    "from typing import List\n",
    "\n",
    "def get_all_incr_paths(i, j, matrix, visited, n, m):\n",
    "    \n",
    "    cur_val = matrix[i][j]\n",
    "    \n",
    "    all_incr_sub_paths = []\n",
    "    #incr_sub_paths = []\n",
    "    \n",
    "    #left\n",
    "    if j-1 >=0 and matrix[i][j-1] > cur_val and (i, j-1) not in visited:\n",
    "        all_incr_sub_paths += get_all_incr_paths(i, j-1, matrix, visited + [(i,j-1)], n, m)\n",
    "    \n",
    "    #up\n",
    "    if i-1 >=0 and matrix[i-1][j] > cur_val and (i-1, j) not in visited:\n",
    "        all_incr_sub_paths += get_all_incr_paths(i-1, j, matrix, visited + [(i-1,j)], n, m)\n",
    "\n",
    "    #right\n",
    "    if j+1 <= m-1 and matrix[i][j+1] > cur_val and (i, j+1) not in visited:\n",
    "        all_incr_sub_paths += get_all_incr_paths(i, j+1, matrix, visited + [(i,j+1)], n, m)\n",
    "\n",
    "    #down\n",
    "    if i+1 <= n-1 and matrix[i+1][j] > cur_val and (i+1, j) not in visited:\n",
    "        all_incr_sub_paths += get_all_incr_paths(i+1, j, matrix, visited + [(i+1,j)], n, m)\n",
    "\n",
    "    result = [[(i,j)]]\n",
    "    \n",
    "    for path in all_incr_sub_paths:\n",
    "        result.append([(i,j)] + path)\n",
    "            \n",
    "    return result\n",
    "\n",
    "def get_longest_increasing_path(matrix: List[List[int]]) -> int:\n",
    "    \n",
    "    n = len(matrix)\n",
    "    m = len(matrix[0])\n",
    "    \n",
    "    all_incr_paths = []\n",
    "    \n",
    "    for i in range(n):\n",
    "        for j in range(m):\n",
    "            visited = [(i,j)]\n",
    "            all_incr_paths += get_all_incr_paths(i, j, matrix, visited, n, m)\n",
    "                        \n",
    "    lengths = list(map(lambda x: len(x), all_incr_paths))\n",
    "    \n",
    "    return max(lengths)"
   ]
  },
  {
   "cell_type": "code",
   "execution_count": null,
   "id": "a4833906",
   "metadata": {},
   "outputs": [],
   "source": []
  },
  {
   "cell_type": "code",
   "execution_count": 53,
   "id": "d9e01547",
   "metadata": {},
   "outputs": [],
   "source": [
    "def read_matrix(inp) -> List[List[int]]:\n",
    "    inp = inp.split('\\n')[1:-1]\n",
    "    n, m = map(int, inp[0].split())\n",
    "    matrix = []\n",
    "    for i in range(n):\n",
    "        matrix.append(list(map(int, inp[i+1].split())))\n",
    "    return matrix"
   ]
  },
  {
   "cell_type": "code",
   "execution_count": 54,
   "id": "3098100f",
   "metadata": {},
   "outputs": [],
   "source": [
    "inp =\"\"\"\n",
    "2 3\n",
    "10 8 5\n",
    "10 5 4\n",
    "\"\"\"\n",
    "matrix = read_matrix(inp)\n",
    "print(get_longest_increasing_path(matrix))"
   ]
  },
  {
   "cell_type": "code",
   "execution_count": 55,
   "id": "c07bc42e",
   "metadata": {},
   "outputs": [
    {
     "name": "stdout",
     "output_type": "stream",
     "text": [
      "4\n"
     ]
    }
   ],
   "source": []
  },
  {
   "cell_type": "code",
   "execution_count": 56,
   "id": "3cf11241",
   "metadata": {},
   "outputs": [],
   "source": [
    "inp =\"\"\"\n",
    "2 2\n",
    "1 1\n",
    "1 1\n",
    "\"\"\"\n",
    "matrix = read_matrix(inp)\n",
    "print(get_longest_increasing_path(matrix))"
   ]
  },
  {
   "cell_type": "code",
   "execution_count": 57,
   "id": "c7f872ca",
   "metadata": {},
   "outputs": [
    {
     "name": "stdout",
     "output_type": "stream",
     "text": [
      "1\n"
     ]
    }
   ],
   "source": []
  },
  {
   "cell_type": "code",
   "execution_count": 58,
   "id": "7fd05dbe",
   "metadata": {},
   "outputs": [],
   "source": [
    "inp =\"\"\"\n",
    "2 2\n",
    "10 9\n",
    "9 11\n",
    "\"\"\"\n",
    "matrix = read_matrix(inp)\n",
    "print(get_longest_increasing_path(matrix))"
   ]
  },
  {
   "cell_type": "code",
   "execution_count": 59,
   "id": "493f98dc",
   "metadata": {},
   "outputs": [
    {
     "name": "stdout",
     "output_type": "stream",
     "text": [
      "2\n"
     ]
    }
   ],
   "source": []
  },
  {
   "cell_type": "code",
   "execution_count": 61,
   "id": "dc4e2d8b",
   "metadata": {},
   "outputs": [],
   "source": [
    "inp =\"\"\"\n",
    "1 1\n",
    "1\n",
    "\"\"\""
   ]
  },
  {
   "cell_type": "code",
   "execution_count": 62,
   "id": "036369e9",
   "metadata": {},
   "outputs": [
    {
     "name": "stdout",
     "output_type": "stream",
     "text": [
      "1\n"
     ]
    }
   ],
   "source": [
    "matrix = read_matrix(inp)\n",
    "print(get_longest_increasing_path(matrix))"
   ]
  },
  {
   "cell_type": "code",
   "execution_count": null,
   "id": "e88dbcc6",
   "metadata": {},
   "outputs": [],
   "source": [
    "# это неоптимальное решение, на самом деле нам не нужен массив visited, потому что мы никогда не вернемся в предыдущую точку,\n",
    "# ведь путь должен быть возрастающий"
   ]
  },
  {
   "cell_type": "code",
   "execution_count": 64,
   "id": "bff9ca56",
   "metadata": {},
   "outputs": [],
   "source": [
    "from typing import List\n",
    "\n",
    "def get_longest_increasing_path_rec(i, j, matrix):\n",
    "    \n",
    "    n = len(matrix)\n",
    "    m = len(matrix[0])\n",
    "    \n",
    "    cur_val = matrix[i][j]\n",
    "    \n",
    "    ans = 0\n",
    "    \n",
    "    #left\n",
    "    if j-1 >=0 and matrix[i][j-1] > cur_val and (i, j-1):\n",
    "        ans = max(ans, get_longest_increasing_path_rec(i, j-1, matrix))\n",
    "    \n",
    "    #up\n",
    "    if i-1 >=0 and matrix[i-1][j] > cur_val and (i-1, j):\n",
    "        ans = max(ans, get_longest_increasing_path_rec(i-1, j, matrix))\n",
    "\n",
    "    #right\n",
    "    if j+1 <= m-1 and matrix[i][j+1] > cur_val and (i, j+1):\n",
    "        ans = max(ans, get_longest_increasing_path_rec(i, j+1, matrix))\n",
    "\n",
    "    #down\n",
    "    if i+1 <= n-1 and matrix[i+1][j] > cur_val and (i+1, j):\n",
    "        ans = max(ans, get_longest_increasing_path_rec(i+1, j, matrix))\n",
    "\n",
    "    return ans+1\n",
    "\n",
    "def get_longest_increasing_path(matrix: List[List[int]]) -> int:\n",
    "    \n",
    "    n = len(matrix)\n",
    "    m = len(matrix[0])\n",
    "        \n",
    "    ans = 1\n",
    "    \n",
    "    for i in range(n):\n",
    "        for j in range(m):\n",
    "            ans = max(ans, get_longest_increasing_path_rec(i, j, matrix))\n",
    "                        \n",
    "    return ans"
   ]
  },
  {
   "cell_type": "code",
   "execution_count": 73,
   "id": "2ade946a",
   "metadata": {},
   "outputs": [
    {
     "name": "stdout",
     "output_type": "stream",
     "text": [
      "4\n"
     ]
    }
   ],
   "source": [
    "inp =\"\"\"\n",
    "2 3\n",
    "10 8 5\n",
    "10 5 4\n",
    "\"\"\"\n",
    "matrix = read_matrix(inp)\n",
    "print(get_longest_increasing_path(matrix))"
   ]
  },
  {
   "cell_type": "code",
   "execution_count": 74,
   "id": "b1adf45d",
   "metadata": {},
   "outputs": [
    {
     "name": "stdout",
     "output_type": "stream",
     "text": [
      "1\n"
     ]
    }
   ],
   "source": [
    "inp =\"\"\"\n",
    "2 2\n",
    "1 1\n",
    "1 1\n",
    "\"\"\"\n",
    "matrix = read_matrix(inp)\n",
    "print(get_longest_increasing_path(matrix))"
   ]
  },
  {
   "cell_type": "code",
   "execution_count": 75,
   "id": "4afcb51b",
   "metadata": {},
   "outputs": [
    {
     "name": "stdout",
     "output_type": "stream",
     "text": [
      "2\n"
     ]
    }
   ],
   "source": [
    "inp =\"\"\"\n",
    "2 2\n",
    "10 9\n",
    "9 11\n",
    "\"\"\"\n",
    "matrix = read_matrix(inp)\n",
    "print(get_longest_increasing_path(matrix))"
   ]
  },
  {
   "cell_type": "code",
   "execution_count": 76,
   "id": "19f63ac3",
   "metadata": {},
   "outputs": [
    {
     "name": "stdout",
     "output_type": "stream",
     "text": [
      "1\n"
     ]
    }
   ],
   "source": [
    "inp =\"\"\"\n",
    "1 1\n",
    "10\n",
    "\"\"\"\n",
    "matrix = read_matrix(inp)\n",
    "print(get_longest_increasing_path(matrix))"
   ]
  },
  {
   "cell_type": "code",
   "execution_count": 69,
   "id": "f00387e0",
   "metadata": {},
   "outputs": [],
   "source": [
    "#чтобы не пересчитывать заново для клеток для которых уже было посчитано, будем сохранять результаты в матрице dp"
   ]
  },
  {
   "cell_type": "code",
   "execution_count": 72,
   "id": "12afbb3b",
   "metadata": {},
   "outputs": [],
   "source": [
    "from typing import List\n",
    "\n",
    "def get_longest_increasing_path_rec(i, j, matrix, dp):\n",
    "    \n",
    "    if dp[i][j] >=0:\n",
    "        return dp[i][j]\n",
    "    \n",
    "    n = len(matrix)\n",
    "    m = len(matrix[0])\n",
    "    \n",
    "    cur_val = matrix[i][j]\n",
    "    \n",
    "    ans = 0\n",
    "    \n",
    "    #left\n",
    "    if j-1 >=0 and matrix[i][j-1] > cur_val and (i, j-1):\n",
    "        ans = max(ans, get_longest_increasing_path_rec(i, j-1, matrix, dp))\n",
    "    \n",
    "    #up\n",
    "    if i-1 >=0 and matrix[i-1][j] > cur_val and (i-1, j):\n",
    "        ans = max(ans, get_longest_increasing_path_rec(i-1, j, matrix, dp))\n",
    "\n",
    "    #right\n",
    "    if j+1 <= m-1 and matrix[i][j+1] > cur_val and (i, j+1):\n",
    "        ans = max(ans, get_longest_increasing_path_rec(i, j+1, matrix, dp))\n",
    "\n",
    "    #down\n",
    "    if i+1 <= n-1 and matrix[i+1][j] > cur_val and (i+1, j):\n",
    "        ans = max(ans, get_longest_increasing_path_rec(i+1, j, matrix, dp))\n",
    "    \n",
    "    dp[i][j] = ans + 1\n",
    "    \n",
    "    return ans + 1\n",
    "\n",
    "def get_longest_increasing_path(matrix: List[List[int]]) -> int:\n",
    "    \n",
    "    n = len(matrix)\n",
    "    m = len(matrix[0])\n",
    "        \n",
    "    dp = [[-1]*m for _ in range(n)]\n",
    "    ans = 1\n",
    "    \n",
    "    for i in range(n):\n",
    "        for j in range(m):\n",
    "            ans = max(ans, get_longest_increasing_path_rec(i, j, matrix, dp))\n",
    "                        \n",
    "    return ans"
   ]
  },
  {
   "cell_type": "code",
   "execution_count": 77,
   "id": "0228b5f6",
   "metadata": {},
   "outputs": [
    {
     "name": "stdout",
     "output_type": "stream",
     "text": [
      "4\n"
     ]
    }
   ],
   "source": [
    "inp =\"\"\"\n",
    "2 3\n",
    "10 8 5\n",
    "10 5 4\n",
    "\"\"\"\n",
    "matrix = read_matrix(inp)\n",
    "print(get_longest_increasing_path(matrix))"
   ]
  },
  {
   "cell_type": "code",
   "execution_count": 78,
   "id": "4f31dac1",
   "metadata": {},
   "outputs": [
    {
     "name": "stdout",
     "output_type": "stream",
     "text": [
      "1\n"
     ]
    }
   ],
   "source": [
    "inp =\"\"\"\n",
    "2 2\n",
    "1 1\n",
    "1 1\n",
    "\"\"\"\n",
    "matrix = read_matrix(inp)\n",
    "print(get_longest_increasing_path(matrix))"
   ]
  },
  {
   "cell_type": "code",
   "execution_count": 79,
   "id": "130affd9",
   "metadata": {},
   "outputs": [
    {
     "name": "stdout",
     "output_type": "stream",
     "text": [
      "2\n"
     ]
    }
   ],
   "source": [
    "inp =\"\"\"\n",
    "2 2\n",
    "10 9\n",
    "9 11\n",
    "\"\"\"\n",
    "matrix = read_matrix(inp)\n",
    "print(get_longest_increasing_path(matrix))"
   ]
  },
  {
   "cell_type": "code",
   "execution_count": 80,
   "id": "937f6147",
   "metadata": {},
   "outputs": [
    {
     "name": "stdout",
     "output_type": "stream",
     "text": [
      "1\n"
     ]
    }
   ],
   "source": [
    "inp =\"\"\"\n",
    "1 1\n",
    "10\n",
    "\"\"\"\n",
    "matrix = read_matrix(inp)\n",
    "print(get_longest_increasing_path(matrix))"
   ]
  },
  {
   "cell_type": "code",
   "execution_count": null,
   "id": "762d613d",
   "metadata": {},
   "outputs": [],
   "source": []
  }
 ],
 "metadata": {
  "kernelspec": {
   "display_name": "Python 3 (ipykernel)",
   "language": "python",
   "name": "python3"
  },
  "language_info": {
   "codemirror_mode": {
    "name": "ipython",
    "version": 3
   },
   "file_extension": ".py",
   "mimetype": "text/x-python",
   "name": "python",
   "nbconvert_exporter": "python",
   "pygments_lexer": "ipython3",
   "version": "3.10.5"
  }
 },
 "nbformat": 4,
 "nbformat_minor": 5
}
